{
  "nbformat": 4,
  "nbformat_minor": 0,
  "metadata": {
    "colab": {
      "name": "spotify dataset.ipynb",
      "provenance": [],
      "collapsed_sections": []
    },
    "kernelspec": {
      "name": "python3",
      "display_name": "Python 3"
    }
  },
  "cells": [
    {
      "cell_type": "code",
      "metadata": {
        "id": "P_S8nrCNj8g-"
      },
      "source": [
        "# Setup plotting\r\n",
        "import matplotlib.pyplot as plt\r\n",
        "plt.style.use('seaborn-whitegrid')\r\n",
        "\r\n",
        "\r\n",
        "# set matplotlib defaults\r\n",
        "plt.rc('figure', autolayout=True)\r\n",
        "plt.rc('axes', labelweight='bold', labelsize='large',\r\n",
        "       titleweight='bold', titlesize=18, titlepad=10)\r\n",
        "plt.rc('animation', html='html5')"
      ],
      "execution_count": 1,
      "outputs": []
    },
    {
      "cell_type": "code",
      "metadata": {
        "id": "igfDMTlHk21s"
      },
      "source": [
        "import pandas as pd\r\n",
        "import numpy as np\r\n",
        "from sklearn.preprocessing import StandardScaler, OneHotEncoder\r\n",
        "from sklearn.compose import make_column_transformer\r\n",
        "from sklearn.model_selection import GroupShuffleSplit\r\n",
        "\r\n",
        "from tensorflow import keras\r\n",
        "from tensorflow.keras import layers\r\n",
        "from tensorflow.keras import callbacks"
      ],
      "execution_count": 2,
      "outputs": []
    },
    {
      "cell_type": "code",
      "metadata": {
        "colab": {
          "base_uri": "https://localhost:8080/",
          "height": 501
        },
        "id": "tr7LSL2ilqLu",
        "outputId": "310f5c79-6bc8-4c0b-a3b3-9b7625a155b3"
      },
      "source": [
        "spotify = pd.read_csv('https://raw.githubusercontent.com/reddyprasade/Deep-Learning/master/Data_Sets/spotify.csv')\r\n",
        "spotify.head()"
      ],
      "execution_count": 3,
      "outputs": [
        {
          "output_type": "execute_result",
          "data": {
            "text/html": [
              "<div>\n",
              "<style scoped>\n",
              "    .dataframe tbody tr th:only-of-type {\n",
              "        vertical-align: middle;\n",
              "    }\n",
              "\n",
              "    .dataframe tbody tr th {\n",
              "        vertical-align: top;\n",
              "    }\n",
              "\n",
              "    .dataframe thead th {\n",
              "        text-align: right;\n",
              "    }\n",
              "</style>\n",
              "<table border=\"1\" class=\"dataframe\">\n",
              "  <thead>\n",
              "    <tr style=\"text-align: right;\">\n",
              "      <th></th>\n",
              "      <th>track_id</th>\n",
              "      <th>track_name</th>\n",
              "      <th>track_artist</th>\n",
              "      <th>track_popularity</th>\n",
              "      <th>track_album_id</th>\n",
              "      <th>track_album_name</th>\n",
              "      <th>track_album_release_date</th>\n",
              "      <th>playlist_name</th>\n",
              "      <th>playlist_id</th>\n",
              "      <th>playlist_genre</th>\n",
              "      <th>playlist_subgenre</th>\n",
              "      <th>danceability</th>\n",
              "      <th>energy</th>\n",
              "      <th>key</th>\n",
              "      <th>loudness</th>\n",
              "      <th>mode</th>\n",
              "      <th>speechiness</th>\n",
              "      <th>acousticness</th>\n",
              "      <th>instrumentalness</th>\n",
              "      <th>liveness</th>\n",
              "      <th>valence</th>\n",
              "      <th>tempo</th>\n",
              "      <th>duration_ms</th>\n",
              "    </tr>\n",
              "  </thead>\n",
              "  <tbody>\n",
              "    <tr>\n",
              "      <th>0</th>\n",
              "      <td>6f807x0ima9a1j3VPbc7VN</td>\n",
              "      <td>I Don't Care (with Justin Bieber) - Loud Luxur...</td>\n",
              "      <td>Ed Sheeran</td>\n",
              "      <td>66</td>\n",
              "      <td>2oCs0DGTsRO98Gh5ZSl2Cx</td>\n",
              "      <td>I Don't Care (with Justin Bieber) [Loud Luxury...</td>\n",
              "      <td>2019-06-14</td>\n",
              "      <td>Pop Remix</td>\n",
              "      <td>37i9dQZF1DXcZDD7cfEKhW</td>\n",
              "      <td>pop</td>\n",
              "      <td>dance pop</td>\n",
              "      <td>0.748</td>\n",
              "      <td>0.916</td>\n",
              "      <td>6</td>\n",
              "      <td>-2.634</td>\n",
              "      <td>1</td>\n",
              "      <td>0.0583</td>\n",
              "      <td>0.1020</td>\n",
              "      <td>0.000000</td>\n",
              "      <td>0.0653</td>\n",
              "      <td>0.518</td>\n",
              "      <td>122.036</td>\n",
              "      <td>194754</td>\n",
              "    </tr>\n",
              "    <tr>\n",
              "      <th>1</th>\n",
              "      <td>0r7CVbZTWZgbTCYdfa2P31</td>\n",
              "      <td>Memories - Dillon Francis Remix</td>\n",
              "      <td>Maroon 5</td>\n",
              "      <td>67</td>\n",
              "      <td>63rPSO264uRjW1X5E6cWv6</td>\n",
              "      <td>Memories (Dillon Francis Remix)</td>\n",
              "      <td>2019-12-13</td>\n",
              "      <td>Pop Remix</td>\n",
              "      <td>37i9dQZF1DXcZDD7cfEKhW</td>\n",
              "      <td>pop</td>\n",
              "      <td>dance pop</td>\n",
              "      <td>0.726</td>\n",
              "      <td>0.815</td>\n",
              "      <td>11</td>\n",
              "      <td>-4.969</td>\n",
              "      <td>1</td>\n",
              "      <td>0.0373</td>\n",
              "      <td>0.0724</td>\n",
              "      <td>0.004210</td>\n",
              "      <td>0.3570</td>\n",
              "      <td>0.693</td>\n",
              "      <td>99.972</td>\n",
              "      <td>162600</td>\n",
              "    </tr>\n",
              "    <tr>\n",
              "      <th>2</th>\n",
              "      <td>1z1Hg7Vb0AhHDiEmnDE79l</td>\n",
              "      <td>All the Time - Don Diablo Remix</td>\n",
              "      <td>Zara Larsson</td>\n",
              "      <td>70</td>\n",
              "      <td>1HoSmj2eLcsrR0vE9gThr4</td>\n",
              "      <td>All the Time (Don Diablo Remix)</td>\n",
              "      <td>2019-07-05</td>\n",
              "      <td>Pop Remix</td>\n",
              "      <td>37i9dQZF1DXcZDD7cfEKhW</td>\n",
              "      <td>pop</td>\n",
              "      <td>dance pop</td>\n",
              "      <td>0.675</td>\n",
              "      <td>0.931</td>\n",
              "      <td>1</td>\n",
              "      <td>-3.432</td>\n",
              "      <td>0</td>\n",
              "      <td>0.0742</td>\n",
              "      <td>0.0794</td>\n",
              "      <td>0.000023</td>\n",
              "      <td>0.1100</td>\n",
              "      <td>0.613</td>\n",
              "      <td>124.008</td>\n",
              "      <td>176616</td>\n",
              "    </tr>\n",
              "    <tr>\n",
              "      <th>3</th>\n",
              "      <td>75FpbthrwQmzHlBJLuGdC7</td>\n",
              "      <td>Call You Mine - Keanu Silva Remix</td>\n",
              "      <td>The Chainsmokers</td>\n",
              "      <td>60</td>\n",
              "      <td>1nqYsOef1yKKuGOVchbsk6</td>\n",
              "      <td>Call You Mine - The Remixes</td>\n",
              "      <td>2019-07-19</td>\n",
              "      <td>Pop Remix</td>\n",
              "      <td>37i9dQZF1DXcZDD7cfEKhW</td>\n",
              "      <td>pop</td>\n",
              "      <td>dance pop</td>\n",
              "      <td>0.718</td>\n",
              "      <td>0.930</td>\n",
              "      <td>7</td>\n",
              "      <td>-3.778</td>\n",
              "      <td>1</td>\n",
              "      <td>0.1020</td>\n",
              "      <td>0.0287</td>\n",
              "      <td>0.000009</td>\n",
              "      <td>0.2040</td>\n",
              "      <td>0.277</td>\n",
              "      <td>121.956</td>\n",
              "      <td>169093</td>\n",
              "    </tr>\n",
              "    <tr>\n",
              "      <th>4</th>\n",
              "      <td>1e8PAfcKUYoKkxPhrHqw4x</td>\n",
              "      <td>Someone You Loved - Future Humans Remix</td>\n",
              "      <td>Lewis Capaldi</td>\n",
              "      <td>69</td>\n",
              "      <td>7m7vv9wlQ4i0LFuJiE2zsQ</td>\n",
              "      <td>Someone You Loved (Future Humans Remix)</td>\n",
              "      <td>2019-03-05</td>\n",
              "      <td>Pop Remix</td>\n",
              "      <td>37i9dQZF1DXcZDD7cfEKhW</td>\n",
              "      <td>pop</td>\n",
              "      <td>dance pop</td>\n",
              "      <td>0.650</td>\n",
              "      <td>0.833</td>\n",
              "      <td>1</td>\n",
              "      <td>-4.672</td>\n",
              "      <td>1</td>\n",
              "      <td>0.0359</td>\n",
              "      <td>0.0803</td>\n",
              "      <td>0.000000</td>\n",
              "      <td>0.0833</td>\n",
              "      <td>0.725</td>\n",
              "      <td>123.976</td>\n",
              "      <td>189052</td>\n",
              "    </tr>\n",
              "  </tbody>\n",
              "</table>\n",
              "</div>"
            ],
            "text/plain": [
              "                 track_id  ... duration_ms\n",
              "0  6f807x0ima9a1j3VPbc7VN  ...      194754\n",
              "1  0r7CVbZTWZgbTCYdfa2P31  ...      162600\n",
              "2  1z1Hg7Vb0AhHDiEmnDE79l  ...      176616\n",
              "3  75FpbthrwQmzHlBJLuGdC7  ...      169093\n",
              "4  1e8PAfcKUYoKkxPhrHqw4x  ...      189052\n",
              "\n",
              "[5 rows x 23 columns]"
            ]
          },
          "metadata": {
            "tags": []
          },
          "execution_count": 3
        }
      ]
    },
    {
      "cell_type": "code",
      "metadata": {
        "colab": {
          "base_uri": "https://localhost:8080/"
        },
        "id": "D-iO57HCl7So",
        "outputId": "00ba2e1b-408c-4e17-8faa-aae30ba5bf2d"
      },
      "source": [
        "np.max(spotify.track_popularity)"
      ],
      "execution_count": 4,
      "outputs": [
        {
          "output_type": "execute_result",
          "data": {
            "text/plain": [
              "100"
            ]
          },
          "metadata": {
            "tags": []
          },
          "execution_count": 4
        }
      ]
    },
    {
      "cell_type": "code",
      "metadata": {
        "id": "BU8I2qH1mPaR"
      },
      "source": [
        "x = spotify.copy().dropna()  # Dropping all Null Values\r\n",
        "y = x.pop('track_popularity')\r\n",
        "artists = x['track_artist']"
      ],
      "execution_count": 5,
      "outputs": []
    },
    {
      "cell_type": "code",
      "metadata": {
        "id": "VlXqeTHImj8N"
      },
      "source": [
        "features_num = ['danceability', 'energy',\t'key',\t'loudness',\t'mode',\t'speechiness',\r\n",
        "                'acousticness',\t'instrumentalness',\t'liveness',\t'valence',\t'tempo',\t'duration_ms']\r\n",
        "features_cat = ['playlist_genre']"
      ],
      "execution_count": 6,
      "outputs": []
    },
    {
      "cell_type": "code",
      "metadata": {
        "id": "vjS25F2xnV8x"
      },
      "source": [
        "# Data preprocessing from scikit learn\r\n",
        "preprocessor = make_column_transformer(\r\n",
        "    (StandardScaler(), features_num),\r\n",
        "    (OneHotEncoder(), features_cat),\r\n",
        ")"
      ],
      "execution_count": 7,
      "outputs": []
    },
    {
      "cell_type": "code",
      "metadata": {
        "id": "qNC-9cc5nvaN"
      },
      "source": [
        "def group_split(x,y, group, train_size=0.75):\r\n",
        "  splitter = GroupShuffleSplit(train_size=train_size)\r\n",
        "  train, test = next(splitter.split(x,y,groups=group))\r\n",
        "  return (x.iloc[train], x.iloc[test], y.iloc[train], y.iloc[test])"
      ],
      "execution_count": 8,
      "outputs": []
    },
    {
      "cell_type": "code",
      "metadata": {
        "id": "yd5POvpSozXc"
      },
      "source": [
        "x_train, x_valid, y_train, y_valid = group_split(x,y,artists)"
      ],
      "execution_count": 9,
      "outputs": []
    },
    {
      "cell_type": "code",
      "metadata": {
        "id": "8CpDu2zCoklG"
      },
      "source": [
        "x_train = preprocessor.fit_transform(x_train)"
      ],
      "execution_count": 10,
      "outputs": []
    },
    {
      "cell_type": "code",
      "metadata": {
        "id": "3ZXiapV6otnE"
      },
      "source": [
        "x_valid = preprocessor.transform(x_valid)"
      ],
      "execution_count": 11,
      "outputs": []
    },
    {
      "cell_type": "code",
      "metadata": {
        "id": "3rE4g6jjpXuc"
      },
      "source": [
        "y_train = y_train / 100\r\n",
        "y_valid = y_valid / 100"
      ],
      "execution_count": 12,
      "outputs": []
    },
    {
      "cell_type": "code",
      "metadata": {
        "colab": {
          "base_uri": "https://localhost:8080/"
        },
        "id": "XM35OByppgKC",
        "outputId": "bc5e5d30-7e04-4a11-c1ef-3d41ba544c26"
      },
      "source": [
        "input_shape = [x_train.shape[1]]\r\n",
        "print('Input shape: {}'.format(input_shape))"
      ],
      "execution_count": 13,
      "outputs": [
        {
          "output_type": "stream",
          "text": [
            "Input shape: [18]\n"
          ],
          "name": "stdout"
        }
      ]
    },
    {
      "cell_type": "code",
      "metadata": {
        "id": "KAC1o8YEpvG-"
      },
      "source": [
        "model = keras.Sequential([\r\n",
        "                          layers.Dense(1, input_shape=input_shape),\r\n",
        "])"
      ],
      "execution_count": 14,
      "outputs": []
    },
    {
      "cell_type": "code",
      "metadata": {
        "id": "v3gLi79vp8x2"
      },
      "source": [
        "model.compile(\r\n",
        "    optimizer='adam',\r\n",
        "    loss='mae'\r\n",
        ")"
      ],
      "execution_count": 15,
      "outputs": []
    },
    {
      "cell_type": "code",
      "metadata": {
        "id": "StCfKdM_qFPk"
      },
      "source": [
        "history = model.fit(x_train, y_train,\r\n",
        "                    validation_data = (x_valid, y_valid),\r\n",
        "                    batch_size=512,\r\n",
        "                    epochs=50,\r\n",
        "                    verbose=0)"
      ],
      "execution_count": 16,
      "outputs": []
    },
    {
      "cell_type": "code",
      "metadata": {
        "colab": {
          "base_uri": "https://localhost:8080/",
          "height": 314
        },
        "id": "sVz17v5FqgWN",
        "outputId": "c8de3c37-0f18-4d47-f86b-2d0927f88215"
      },
      "source": [
        "history_df = pd.DataFrame(history.history)\r\n",
        "history_df.loc[0:, ['loss', 'val_loss']].plot()\r\n",
        "print('minimum validation loss: {:0.4f}'.format(history_df['val_loss'].min()));"
      ],
      "execution_count": 17,
      "outputs": [
        {
          "output_type": "stream",
          "text": [
            "minimum validation loss: 0.1984\n"
          ],
          "name": "stdout"
        },
        {
          "output_type": "display_data",
          "data": {
            "image/png": "[encoded data removed]",
            "text/plain": [
              "<Figure size 432x288 with 1 Axes>"
            ]
          },
          "metadata": {
            "tags": [],
            "needs_background": "light"
          }
        }
      ]
    },
    {
      "cell_type": "code",
      "metadata": {
        "id": "BeL8mr1NrKGT"
      },
      "source": [
        "model = keras.Sequential([\r\n",
        "                          layers.Dense(128, activation='relu', input_shape=input_shape),\r\n",
        "                          layers.Dense(64, activation='relu'),\r\n",
        "                          layers.Dense(1)\r\n",
        "                          ])"
      ],
      "execution_count": 18,
      "outputs": []
    },
    {
      "cell_type": "code",
      "metadata": {
        "id": "Vd2MoVOesDy1"
      },
      "source": [
        "model.compile(\r\n",
        "    optimizer='adam',\r\n",
        "    loss = 'mae'\r\n",
        ")"
      ],
      "execution_count": 19,
      "outputs": []
    },
    {
      "cell_type": "code",
      "metadata": {
        "colab": {
          "base_uri": "https://localhost:8080/"
        },
        "id": "NOtd1rEdsYiY",
        "outputId": "45c60cba-73d5-4375-ef20-af74092d508d"
      },
      "source": [
        "history = model.fit(\r\n",
        "    x_train, y_train,\r\n",
        "    validation_data=(x_valid, y_valid),\r\n",
        "    batch_size=512,\r\n",
        "    epochs=50\r\n",
        ")"
      ],
      "execution_count": 20,
      "outputs": [
        {
          "output_type": "stream",
          "text": [
            "Epoch 1/50\n",
            "47/47 [==============================] - 1s 8ms/step - loss: 0.2510 - val_loss: 0.2061\n",
            "Epoch 2/50\n",
            "47/47 [==============================] - 0s 3ms/step - loss: 0.2005 - val_loss: 0.2008\n",
            "Epoch 3/50\n",
            "47/47 [==============================] - 0s 3ms/step - loss: 0.1936 - val_loss: 0.2024\n",
            "Epoch 4/50\n",
            "47/47 [==============================] - 0s 3ms/step - loss: 0.1912 - val_loss: 0.1991\n",
            "Epoch 5/50\n",
            "47/47 [==============================] - 0s 3ms/step - loss: 0.1904 - val_loss: 0.1983\n",
            "Epoch 6/50\n",
            "47/47 [==============================] - 0s 4ms/step - loss: 0.1885 - val_loss: 0.1977\n",
            "Epoch 7/50\n",
            "47/47 [==============================] - 0s 3ms/step - loss: 0.1868 - val_loss: 0.1977\n",
            "Epoch 8/50\n",
            "47/47 [==============================] - 0s 3ms/step - loss: 0.1857 - val_loss: 0.1992\n",
            "Epoch 9/50\n",
            "47/47 [==============================] - 0s 3ms/step - loss: 0.1841 - val_loss: 0.1970\n",
            "Epoch 10/50\n",
            "47/47 [==============================] - 0s 3ms/step - loss: 0.1830 - val_loss: 0.2029\n",
            "Epoch 11/50\n",
            "47/47 [==============================] - 0s 3ms/step - loss: 0.1821 - val_loss: 0.1990\n",
            "Epoch 12/50\n",
            "47/47 [==============================] - 0s 3ms/step - loss: 0.1819 - val_loss: 0.2000\n",
            "Epoch 13/50\n",
            "47/47 [==============================] - 0s 3ms/step - loss: 0.1814 - val_loss: 0.1986\n",
            "Epoch 14/50\n",
            "47/47 [==============================] - 0s 3ms/step - loss: 0.1807 - val_loss: 0.1998\n",
            "Epoch 15/50\n",
            "47/47 [==============================] - 0s 4ms/step - loss: 0.1802 - val_loss: 0.2008\n",
            "Epoch 16/50\n",
            "47/47 [==============================] - 0s 4ms/step - loss: 0.1806 - val_loss: 0.1985\n",
            "Epoch 17/50\n",
            "47/47 [==============================] - 0s 4ms/step - loss: 0.1759 - val_loss: 0.1988\n",
            "Epoch 18/50\n",
            "47/47 [==============================] - 0s 3ms/step - loss: 0.1763 - val_loss: 0.2017\n",
            "Epoch 19/50\n",
            "47/47 [==============================] - 0s 3ms/step - loss: 0.1786 - val_loss: 0.1998\n",
            "Epoch 20/50\n",
            "47/47 [==============================] - 0s 3ms/step - loss: 0.1771 - val_loss: 0.2014\n",
            "Epoch 21/50\n",
            "47/47 [==============================] - 0s 3ms/step - loss: 0.1765 - val_loss: 0.1997\n",
            "Epoch 22/50\n",
            "47/47 [==============================] - 0s 3ms/step - loss: 0.1754 - val_loss: 0.2027\n",
            "Epoch 23/50\n",
            "47/47 [==============================] - 0s 3ms/step - loss: 0.1771 - val_loss: 0.2003\n",
            "Epoch 24/50\n",
            "47/47 [==============================] - 0s 3ms/step - loss: 0.1740 - val_loss: 0.2004\n",
            "Epoch 25/50\n",
            "47/47 [==============================] - 0s 3ms/step - loss: 0.1752 - val_loss: 0.2009\n",
            "Epoch 26/50\n",
            "47/47 [==============================] - 0s 3ms/step - loss: 0.1730 - val_loss: 0.2013\n",
            "Epoch 27/50\n",
            "47/47 [==============================] - 0s 3ms/step - loss: 0.1720 - val_loss: 0.1996\n",
            "Epoch 28/50\n",
            "47/47 [==============================] - 0s 3ms/step - loss: 0.1750 - val_loss: 0.2032\n",
            "Epoch 29/50\n",
            "47/47 [==============================] - 0s 3ms/step - loss: 0.1716 - val_loss: 0.2012\n",
            "Epoch 30/50\n",
            "47/47 [==============================] - 0s 3ms/step - loss: 0.1712 - val_loss: 0.2021\n",
            "Epoch 31/50\n",
            "47/47 [==============================] - 0s 3ms/step - loss: 0.1705 - val_loss: 0.2026\n",
            "Epoch 32/50\n",
            "47/47 [==============================] - 0s 3ms/step - loss: 0.1718 - val_loss: 0.2047\n",
            "Epoch 33/50\n",
            "47/47 [==============================] - 0s 3ms/step - loss: 0.1721 - val_loss: 0.2035\n",
            "Epoch 34/50\n",
            "47/47 [==============================] - 0s 3ms/step - loss: 0.1709 - val_loss: 0.2025\n",
            "Epoch 35/50\n",
            "47/47 [==============================] - 0s 3ms/step - loss: 0.1727 - val_loss: 0.2026\n",
            "Epoch 36/50\n",
            "47/47 [==============================] - 0s 3ms/step - loss: 0.1692 - val_loss: 0.2041\n",
            "Epoch 37/50\n",
            "47/47 [==============================] - 0s 3ms/step - loss: 0.1683 - val_loss: 0.2037\n",
            "Epoch 38/50\n",
            "47/47 [==============================] - 0s 3ms/step - loss: 0.1688 - val_loss: 0.2021\n",
            "Epoch 39/50\n",
            "47/47 [==============================] - 0s 3ms/step - loss: 0.1695 - val_loss: 0.2061\n",
            "Epoch 40/50\n",
            "47/47 [==============================] - 0s 3ms/step - loss: 0.1670 - val_loss: 0.2037\n",
            "Epoch 41/50\n",
            "47/47 [==============================] - 0s 3ms/step - loss: 0.1670 - val_loss: 0.2025\n",
            "Epoch 42/50\n",
            "47/47 [==============================] - 0s 3ms/step - loss: 0.1678 - val_loss: 0.2038\n",
            "Epoch 43/50\n",
            "47/47 [==============================] - 0s 3ms/step - loss: 0.1662 - val_loss: 0.2043\n",
            "Epoch 44/50\n",
            "47/47 [==============================] - 0s 3ms/step - loss: 0.1666 - val_loss: 0.2053\n",
            "Epoch 45/50\n",
            "47/47 [==============================] - 0s 5ms/step - loss: 0.1673 - val_loss: 0.2034\n",
            "Epoch 46/50\n",
            "47/47 [==============================] - 0s 3ms/step - loss: 0.1667 - val_loss: 0.2035\n",
            "Epoch 47/50\n",
            "47/47 [==============================] - 0s 3ms/step - loss: 0.1651 - val_loss: 0.2056\n",
            "Epoch 48/50\n",
            "47/47 [==============================] - 0s 3ms/step - loss: 0.1662 - val_loss: 0.2048\n",
            "Epoch 49/50\n",
            "47/47 [==============================] - 0s 3ms/step - loss: 0.1636 - val_loss: 0.2072\n",
            "Epoch 50/50\n",
            "47/47 [==============================] - 0s 3ms/step - loss: 0.1637 - val_loss: 0.2058\n"
          ],
          "name": "stdout"
        }
      ]
    },
    {
      "cell_type": "code",
      "metadata": {
        "id": "XmJe1HFLZX3E"
      },
      "source": [
        "early_stopping = callbacks.EarlyStopping(\r\n",
        "    min_delta=0.001, # minimium amount of change to count as an improvement\r\n",
        "    patience=20, # how many epochs to wait before stopping\r\n",
        "    restore_best_weights=True,\r\n",
        ")"
      ],
      "execution_count": 24,
      "outputs": []
    },
    {
      "cell_type": "code",
      "metadata": {
        "id": "9-Fwdyj_spKN",
        "colab": {
          "base_uri": "https://localhost:8080/"
        },
        "outputId": "d3dd7fdb-252d-4a1c-805b-b640b135a829"
      },
      "source": [
        "model = keras.Sequential([\r\n",
        "    layers.Dense(128, activation='relu', input_shape=input_shape),\r\n",
        "    layers.Dense(64, activation='relu'),    \r\n",
        "    layers.Dense(1)\r\n",
        "])\r\n",
        "model.compile(\r\n",
        "    optimizer='adam',\r\n",
        "    loss='mae',\r\n",
        ")\r\n",
        "history = model.fit(\r\n",
        "    x_train, y_train,\r\n",
        "    validation_data=(x_valid, y_valid),\r\n",
        "    batch_size=12,\r\n",
        "    epochs=50,\r\n",
        "    callbacks=[early_stopping]\r\n",
        ")\r\n",
        "history_df = pd.DataFrame(history.history)\r\n",
        "history_df.loc[:, ['loss', 'val_loss']].plot()\r\n",
        "print(\"Minimum Validation Loss: {:0.4f}\".format(history_df['val_loss'].min()));"
      ],
      "execution_count": null,
      "outputs": [
        {
          "output_type": "stream",
          "text": [
            "Epoch 1/50\n",
            "1996/1996 [==============================] - 3s 2ms/step - loss: 0.2168 - val_loss: 0.2016\n",
            "Epoch 2/50\n",
            "1996/1996 [==============================] - 3s 1ms/step - loss: 0.1943 - val_loss: 0.2007\n",
            "Epoch 3/50\n",
            "1916/1996 [===========================>..] - ETA: 0s - loss: 0.1921"
          ],
          "name": "stdout"
        }
      ]
    },
    {
      "cell_type": "code",
      "metadata": {
        "id": "UqL2sDgn-18D"
      },
      "source": [
        ""
      ],
      "execution_count": null,
      "outputs": []
    }
  ]
}