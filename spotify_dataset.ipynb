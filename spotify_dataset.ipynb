{
  "nbformat": 4,
  "nbformat_minor": 0,
  "metadata": {
    "colab": {
      "name": "spotify dataset.ipynb",
      "provenance": [],
      "collapsed_sections": []
    },
    "kernelspec": {
      "name": "python3",
      "display_name": "Python 3"
    }
  },
  "cells": [
    {
      "cell_type": "code",
      "metadata": {
        "id": "P_S8nrCNj8g-"
      },
      "source": [
        "# Setup plotting\r\n",
        "import matplotlib.pyplot as plt\r\n",
        "plt.style.use('seaborn-whitegrid')\r\n",
        "\r\n",
        "\r\n",
        "# set matplotlib defaults\r\n",
        "plt.rc('figure', autolayout=True)\r\n",
        "plt.rc('axes', labelweight='bold', labelsize='large',\r\n",
        "       titleweight='bold', titlesize=18, titlepad=10)\r\n",
        "plt.rc('animation', html='html5')"
      ],
      "execution_count": null,
      "outputs": []
    },
    {
      "cell_type": "code",
      "metadata": {
        "id": "igfDMTlHk21s"
      },
      "source": [
        "import pandas as pd\r\n",
        "import numpy as np\r\n",
        "from sklearn.preprocessing import StandardScaler, OneHotEncoder\r\n",
        "from sklearn.compose import make_column_transformer\r\n",
        "from sklearn.model_selection import GroupShuffleSplit\r\n",
        "\r\n",
        "from tensorflow import keras\r\n",
        "from tensorflow.keras import layers\r\n",
        "from tensorflow.keras import callbacks"
      ],
      "execution_count": null,
      "outputs": []
    },
    {
      "cell_type": "code",
      "metadata": {
        "colab": {
          "base_uri": "https://localhost:8080/",
          "height": 513
        },
        "id": "tr7LSL2ilqLu",
        "outputId": "3facf621-4ea8-4a85-9930-1a86461dc79c"
      },
      "source": [
        "spotify = pd.read_csv('https://raw.githubusercontent.com/reddyprasade/Deep-Learning/master/Data_Sets/spotify.csv')\r\n",
        "spotify.head()"
      ],
      "execution_count": null,
      "outputs": [
        {
          "output_type": "execute_result",
          "data": {
            "text/html": [
              "<div>\n",
              "<style scoped>\n",
              "    .dataframe tbody tr th:only-of-type {\n",
              "        vertical-align: middle;\n",
              "    }\n",
              "\n",
              "    .dataframe tbody tr th {\n",
              "        vertical-align: top;\n",
              "    }\n",
              "\n",
              "    .dataframe thead th {\n",
              "        text-align: right;\n",
              "    }\n",
              "</style>\n",
              "<table border=\"1\" class=\"dataframe\">\n",
              "  <thead>\n",
              "    <tr style=\"text-align: right;\">\n",
              "      <th></th>\n",
              "      <th>track_id</th>\n",
              "      <th>track_name</th>\n",
              "      <th>track_artist</th>\n",
              "      <th>track_popularity</th>\n",
              "      <th>track_album_id</th>\n",
              "      <th>track_album_name</th>\n",
              "      <th>track_album_release_date</th>\n",
              "      <th>playlist_name</th>\n",
              "      <th>playlist_id</th>\n",
              "      <th>playlist_genre</th>\n",
              "      <th>playlist_subgenre</th>\n",
              "      <th>danceability</th>\n",
              "      <th>energy</th>\n",
              "      <th>key</th>\n",
              "      <th>loudness</th>\n",
              "      <th>mode</th>\n",
              "      <th>speechiness</th>\n",
              "      <th>acousticness</th>\n",
              "      <th>instrumentalness</th>\n",
              "      <th>liveness</th>\n",
              "      <th>valence</th>\n",
              "      <th>tempo</th>\n",
              "      <th>duration_ms</th>\n",
              "    </tr>\n",
              "  </thead>\n",
              "  <tbody>\n",
              "    <tr>\n",
              "      <th>0</th>\n",
              "      <td>6f807x0ima9a1j3VPbc7VN</td>\n",
              "      <td>I Don't Care (with Justin Bieber) - Loud Luxur...</td>\n",
              "      <td>Ed Sheeran</td>\n",
              "      <td>66</td>\n",
              "      <td>2oCs0DGTsRO98Gh5ZSl2Cx</td>\n",
              "      <td>I Don't Care (with Justin Bieber) [Loud Luxury...</td>\n",
              "      <td>2019-06-14</td>\n",
              "      <td>Pop Remix</td>\n",
              "      <td>37i9dQZF1DXcZDD7cfEKhW</td>\n",
              "      <td>pop</td>\n",
              "      <td>dance pop</td>\n",
              "      <td>0.748</td>\n",
              "      <td>0.916</td>\n",
              "      <td>6</td>\n",
              "      <td>-2.634</td>\n",
              "      <td>1</td>\n",
              "      <td>0.0583</td>\n",
              "      <td>0.1020</td>\n",
              "      <td>0.000000</td>\n",
              "      <td>0.0653</td>\n",
              "      <td>0.518</td>\n",
              "      <td>122.036</td>\n",
              "      <td>194754</td>\n",
              "    </tr>\n",
              "    <tr>\n",
              "      <th>1</th>\n",
              "      <td>0r7CVbZTWZgbTCYdfa2P31</td>\n",
              "      <td>Memories - Dillon Francis Remix</td>\n",
              "      <td>Maroon 5</td>\n",
              "      <td>67</td>\n",
              "      <td>63rPSO264uRjW1X5E6cWv6</td>\n",
              "      <td>Memories (Dillon Francis Remix)</td>\n",
              "      <td>2019-12-13</td>\n",
              "      <td>Pop Remix</td>\n",
              "      <td>37i9dQZF1DXcZDD7cfEKhW</td>\n",
              "      <td>pop</td>\n",
              "      <td>dance pop</td>\n",
              "      <td>0.726</td>\n",
              "      <td>0.815</td>\n",
              "      <td>11</td>\n",
              "      <td>-4.969</td>\n",
              "      <td>1</td>\n",
              "      <td>0.0373</td>\n",
              "      <td>0.0724</td>\n",
              "      <td>0.004210</td>\n",
              "      <td>0.3570</td>\n",
              "      <td>0.693</td>\n",
              "      <td>99.972</td>\n",
              "      <td>162600</td>\n",
              "    </tr>\n",
              "    <tr>\n",
              "      <th>2</th>\n",
              "      <td>1z1Hg7Vb0AhHDiEmnDE79l</td>\n",
              "      <td>All the Time - Don Diablo Remix</td>\n",
              "      <td>Zara Larsson</td>\n",
              "      <td>70</td>\n",
              "      <td>1HoSmj2eLcsrR0vE9gThr4</td>\n",
              "      <td>All the Time (Don Diablo Remix)</td>\n",
              "      <td>2019-07-05</td>\n",
              "      <td>Pop Remix</td>\n",
              "      <td>37i9dQZF1DXcZDD7cfEKhW</td>\n",
              "      <td>pop</td>\n",
              "      <td>dance pop</td>\n",
              "      <td>0.675</td>\n",
              "      <td>0.931</td>\n",
              "      <td>1</td>\n",
              "      <td>-3.432</td>\n",
              "      <td>0</td>\n",
              "      <td>0.0742</td>\n",
              "      <td>0.0794</td>\n",
              "      <td>0.000023</td>\n",
              "      <td>0.1100</td>\n",
              "      <td>0.613</td>\n",
              "      <td>124.008</td>\n",
              "      <td>176616</td>\n",
              "    </tr>\n",
              "    <tr>\n",
              "      <th>3</th>\n",
              "      <td>75FpbthrwQmzHlBJLuGdC7</td>\n",
              "      <td>Call You Mine - Keanu Silva Remix</td>\n",
              "      <td>The Chainsmokers</td>\n",
              "      <td>60</td>\n",
              "      <td>1nqYsOef1yKKuGOVchbsk6</td>\n",
              "      <td>Call You Mine - The Remixes</td>\n",
              "      <td>2019-07-19</td>\n",
              "      <td>Pop Remix</td>\n",
              "      <td>37i9dQZF1DXcZDD7cfEKhW</td>\n",
              "      <td>pop</td>\n",
              "      <td>dance pop</td>\n",
              "      <td>0.718</td>\n",
              "      <td>0.930</td>\n",
              "      <td>7</td>\n",
              "      <td>-3.778</td>\n",
              "      <td>1</td>\n",
              "      <td>0.1020</td>\n",
              "      <td>0.0287</td>\n",
              "      <td>0.000009</td>\n",
              "      <td>0.2040</td>\n",
              "      <td>0.277</td>\n",
              "      <td>121.956</td>\n",
              "      <td>169093</td>\n",
              "    </tr>\n",
              "    <tr>\n",
              "      <th>4</th>\n",
              "      <td>1e8PAfcKUYoKkxPhrHqw4x</td>\n",
              "      <td>Someone You Loved - Future Humans Remix</td>\n",
              "      <td>Lewis Capaldi</td>\n",
              "      <td>69</td>\n",
              "      <td>7m7vv9wlQ4i0LFuJiE2zsQ</td>\n",
              "      <td>Someone You Loved (Future Humans Remix)</td>\n",
              "      <td>2019-03-05</td>\n",
              "      <td>Pop Remix</td>\n",
              "      <td>37i9dQZF1DXcZDD7cfEKhW</td>\n",
              "      <td>pop</td>\n",
              "      <td>dance pop</td>\n",
              "      <td>0.650</td>\n",
              "      <td>0.833</td>\n",
              "      <td>1</td>\n",
              "      <td>-4.672</td>\n",
              "      <td>1</td>\n",
              "      <td>0.0359</td>\n",
              "      <td>0.0803</td>\n",
              "      <td>0.000000</td>\n",
              "      <td>0.0833</td>\n",
              "      <td>0.725</td>\n",
              "      <td>123.976</td>\n",
              "      <td>189052</td>\n",
              "    </tr>\n",
              "  </tbody>\n",
              "</table>\n",
              "</div>"
            ],
            "text/plain": [
              "                 track_id  ... duration_ms\n",
              "0  6f807x0ima9a1j3VPbc7VN  ...      194754\n",
              "1  0r7CVbZTWZgbTCYdfa2P31  ...      162600\n",
              "2  1z1Hg7Vb0AhHDiEmnDE79l  ...      176616\n",
              "3  75FpbthrwQmzHlBJLuGdC7  ...      169093\n",
              "4  1e8PAfcKUYoKkxPhrHqw4x  ...      189052\n",
              "\n",
              "[5 rows x 23 columns]"
            ]
          },
          "metadata": {
            "tags": []
          },
          "execution_count": 3
        }
      ]
    },
    {
      "cell_type": "code",
      "metadata": {
        "colab": {
          "base_uri": "https://localhost:8080/"
        },
        "id": "D-iO57HCl7So",
        "outputId": "f34a32aa-e481-4219-aab7-85c76a295c33"
      },
      "source": [
        "np.max(spotify.track_popularity)"
      ],
      "execution_count": null,
      "outputs": [
        {
          "output_type": "execute_result",
          "data": {
            "text/plain": [
              "100"
            ]
          },
          "metadata": {
            "tags": []
          },
          "execution_count": 4
        }
      ]
    },
    {
      "cell_type": "code",
      "metadata": {
        "id": "BU8I2qH1mPaR"
      },
      "source": [
        "x = spotify.copy().dropna()  # Dropping all Null Values\r\n",
        "y = x.pop('track_popularity')\r\n",
        "artists = x['track_artist']"
      ],
      "execution_count": null,
      "outputs": []
    },
    {
      "cell_type": "code",
      "metadata": {
        "id": "VlXqeTHImj8N"
      },
      "source": [
        "features_num = ['danceability', 'energy',\t'key',\t'loudness',\t'mode',\t'speechiness',\r\n",
        "                'acousticness',\t'instrumentalness',\t'liveness',\t'valence',\t'tempo',\t'duration_ms']\r\n",
        "features_cat = ['playlist_genre']"
      ],
      "execution_count": null,
      "outputs": []
    },
    {
      "cell_type": "code",
      "metadata": {
        "id": "vjS25F2xnV8x"
      },
      "source": [
        "# Data preprocessing from scikit learn\r\n",
        "preprocessor = make_column_transformer(\r\n",
        "    (StandardScaler(), features_num),\r\n",
        "    (OneHotEncoder(), features_cat),\r\n",
        ")"
      ],
      "execution_count": null,
      "outputs": []
    },
    {
      "cell_type": "code",
      "metadata": {
        "id": "qNC-9cc5nvaN"
      },
      "source": [
        "def group_split(x,y, group, train_size=0.75):\r\n",
        "  splitter = GroupShuffleSplit(train_size=train_size)\r\n",
        "  train, test = next(splitter.split(x,y,groups=group))\r\n",
        "  return (x.iloc[train], x.iloc[test], y.iloc[train], y.iloc[test])"
      ],
      "execution_count": null,
      "outputs": []
    },
    {
      "cell_type": "code",
      "metadata": {
        "id": "yd5POvpSozXc"
      },
      "source": [
        "x_train, x_valid, y_train, y_valid = group_split(x,y,artists)"
      ],
      "execution_count": null,
      "outputs": []
    },
    {
      "cell_type": "code",
      "metadata": {
        "id": "8CpDu2zCoklG"
      },
      "source": [
        "x_train = preprocessor.fit_transform(x_train)"
      ],
      "execution_count": null,
      "outputs": []
    },
    {
      "cell_type": "code",
      "metadata": {
        "id": "3ZXiapV6otnE"
      },
      "source": [
        "x_valid = preprocessor.transform(x_valid)"
      ],
      "execution_count": null,
      "outputs": []
    },
    {
      "cell_type": "code",
      "metadata": {
        "id": "3rE4g6jjpXuc"
      },
      "source": [
        "y_train = y_train / 100\r\n",
        "y_valid = y_valid / 100"
      ],
      "execution_count": null,
      "outputs": []
    },
    {
      "cell_type": "code",
      "metadata": {
        "colab": {
          "base_uri": "https://localhost:8080/"
        },
        "id": "XM35OByppgKC",
        "outputId": "90bfe297-a742-4c56-8070-9240440f3ded"
      },
      "source": [
        "input_shape = [x_train.shape[1]]\r\n",
        "print('Input shape: {}'.format(input_shape))"
      ],
      "execution_count": null,
      "outputs": [
        {
          "output_type": "stream",
          "text": [
            "Input shape: [18]\n"
          ],
          "name": "stdout"
        }
      ]
    },
    {
      "cell_type": "code",
      "metadata": {
        "id": "KAC1o8YEpvG-"
      },
      "source": [
        "model = keras.Sequential([\r\n",
        "                          layers.Dense(1, input_shape=input_shape),\r\n",
        "])"
      ],
      "execution_count": null,
      "outputs": []
    },
    {
      "cell_type": "code",
      "metadata": {
        "id": "v3gLi79vp8x2"
      },
      "source": [
        "model.compile(\r\n",
        "    optimizer='adam',\r\n",
        "    loss='mae'\r\n",
        ")"
      ],
      "execution_count": null,
      "outputs": []
    },
    {
      "cell_type": "code",
      "metadata": {
        "id": "StCfKdM_qFPk"
      },
      "source": [
        "history = model.fit(x_train, y_train,\r\n",
        "                    validation_data = (x_valid, y_valid),\r\n",
        "                    batch_size=512,\r\n",
        "                    epochs=50,\r\n",
        "                    verbose=0)"
      ],
      "execution_count": null,
      "outputs": []
    },
    {
      "cell_type": "code",
      "metadata": {
        "colab": {
          "base_uri": "https://localhost:8080/",
          "height": 314
        },
        "id": "sVz17v5FqgWN",
        "outputId": "ab109e1b-52d7-4252-865b-a6eac54f649c"
      },
      "source": [
        "history_df = pd.DataFrame(history.history)\r\n",
        "history_df.loc[0:, ['loss', 'val_loss']].plot()\r\n",
        "print('minimum validation loss: {:0.4f}'.format(history_df['val_loss'].min()));"
      ],
      "execution_count": null,
      "outputs": [
        {
          "output_type": "stream",
          "text": [
            "minimum validation loss: 0.1993\n"
          ],
          "name": "stdout"
        },
        {
          "output_type": "display_data",
          "data": {
            "image/png": "[encoded data removed]",
            "text/plain": [
              "<Figure size 432x288 with 1 Axes>"
            ]
          },
          "metadata": {
            "tags": [],
            "needs_background": "light"
          }
        }
      ]
    },
    {
      "cell_type": "code",
      "metadata": {
        "id": "BeL8mr1NrKGT"
      },
      "source": [
        "model = keras.Sequential([\r\n",
        "                          layers.Dense(128, activation='relu', input_shape=input_shape),\r\n",
        "                          layers.Dense(64, activation='relu'),\r\n",
        "                          layers.Dense(1)\r\n",
        "                          ])"
      ],
      "execution_count": null,
      "outputs": []
    },
    {
      "cell_type": "code",
      "metadata": {
        "id": "Vd2MoVOesDy1"
      },
      "source": [
        "model.compile(\r\n",
        "    optimizer='adam',\r\n",
        "    loss = 'mae'\r\n",
        ")"
      ],
      "execution_count": null,
      "outputs": []
    },
    {
      "cell_type": "code",
      "metadata": {
        "colab": {
          "base_uri": "https://localhost:8080/"
        },
        "id": "NOtd1rEdsYiY",
        "outputId": "907bf142-f659-4fe8-b680-24349eeb4b9e"
      },
      "source": [
        "history = model.fit(\r\n",
        "    x_train, y_train,\r\n",
        "    validation_data=(x_valid, y_valid),\r\n",
        "    batch_size=512,\r\n",
        "    epochs=50\r\n",
        ")"
      ],
      "execution_count": null,
      "outputs": [
        {
          "output_type": "stream",
          "text": [
            "Epoch 1/50\n",
            "47/47 [==============================] - 1s 9ms/step - loss: 0.3390 - val_loss: 0.2136\n",
            "Epoch 2/50\n",
            "47/47 [==============================] - 0s 4ms/step - loss: 0.2026 - val_loss: 0.2054\n",
            "Epoch 3/50\n",
            "47/47 [==============================] - 0s 4ms/step - loss: 0.1969 - val_loss: 0.2027\n",
            "Epoch 4/50\n",
            "47/47 [==============================] - 0s 4ms/step - loss: 0.1940 - val_loss: 0.2033\n",
            "Epoch 5/50\n",
            "47/47 [==============================] - 0s 4ms/step - loss: 0.1904 - val_loss: 0.2012\n",
            "Epoch 6/50\n",
            "47/47 [==============================] - 0s 4ms/step - loss: 0.1893 - val_loss: 0.2001\n",
            "Epoch 7/50\n",
            "47/47 [==============================] - 0s 4ms/step - loss: 0.1860 - val_loss: 0.2000\n",
            "Epoch 8/50\n",
            "47/47 [==============================] - 0s 4ms/step - loss: 0.1859 - val_loss: 0.1995\n",
            "Epoch 9/50\n",
            "47/47 [==============================] - 0s 4ms/step - loss: 0.1836 - val_loss: 0.1986\n",
            "Epoch 10/50\n",
            "47/47 [==============================] - 0s 4ms/step - loss: 0.1845 - val_loss: 0.2002\n",
            "Epoch 11/50\n",
            "47/47 [==============================] - 0s 4ms/step - loss: 0.1828 - val_loss: 0.2002\n",
            "Epoch 12/50\n",
            "47/47 [==============================] - 0s 4ms/step - loss: 0.1832 - val_loss: 0.1988\n",
            "Epoch 13/50\n",
            "47/47 [==============================] - 0s 4ms/step - loss: 0.1809 - val_loss: 0.1987\n",
            "Epoch 14/50\n",
            "47/47 [==============================] - 0s 4ms/step - loss: 0.1808 - val_loss: 0.2024\n",
            "Epoch 15/50\n",
            "47/47 [==============================] - 0s 4ms/step - loss: 0.1799 - val_loss: 0.1996\n",
            "Epoch 16/50\n",
            "47/47 [==============================] - 0s 4ms/step - loss: 0.1810 - val_loss: 0.1996\n",
            "Epoch 17/50\n",
            "47/47 [==============================] - 0s 4ms/step - loss: 0.1797 - val_loss: 0.2009\n",
            "Epoch 18/50\n",
            "47/47 [==============================] - 0s 4ms/step - loss: 0.1793 - val_loss: 0.1996\n",
            "Epoch 19/50\n",
            "47/47 [==============================] - 0s 4ms/step - loss: 0.1795 - val_loss: 0.1994\n",
            "Epoch 20/50\n",
            "47/47 [==============================] - 0s 4ms/step - loss: 0.1783 - val_loss: 0.1998\n",
            "Epoch 21/50\n",
            "47/47 [==============================] - 0s 4ms/step - loss: 0.1782 - val_loss: 0.2003\n",
            "Epoch 22/50\n",
            "47/47 [==============================] - 0s 3ms/step - loss: 0.1771 - val_loss: 0.2010\n",
            "Epoch 23/50\n",
            "47/47 [==============================] - 0s 4ms/step - loss: 0.1749 - val_loss: 0.2006\n",
            "Epoch 24/50\n",
            "47/47 [==============================] - 0s 4ms/step - loss: 0.1763 - val_loss: 0.2010\n",
            "Epoch 25/50\n",
            "47/47 [==============================] - 0s 4ms/step - loss: 0.1750 - val_loss: 0.2003\n",
            "Epoch 26/50\n",
            "47/47 [==============================] - 0s 4ms/step - loss: 0.1742 - val_loss: 0.2007\n",
            "Epoch 27/50\n",
            "47/47 [==============================] - 0s 4ms/step - loss: 0.1729 - val_loss: 0.2006\n",
            "Epoch 28/50\n",
            "47/47 [==============================] - 0s 4ms/step - loss: 0.1726 - val_loss: 0.2026\n",
            "Epoch 29/50\n",
            "47/47 [==============================] - 0s 4ms/step - loss: 0.1735 - val_loss: 0.2028\n",
            "Epoch 30/50\n",
            "47/47 [==============================] - 0s 4ms/step - loss: 0.1699 - val_loss: 0.2030\n",
            "Epoch 31/50\n",
            "47/47 [==============================] - 0s 4ms/step - loss: 0.1734 - val_loss: 0.2026\n",
            "Epoch 32/50\n",
            "47/47 [==============================] - 0s 4ms/step - loss: 0.1744 - val_loss: 0.2008\n",
            "Epoch 33/50\n",
            "47/47 [==============================] - 0s 4ms/step - loss: 0.1703 - val_loss: 0.2022\n",
            "Epoch 34/50\n",
            "47/47 [==============================] - 0s 4ms/step - loss: 0.1708 - val_loss: 0.2013\n",
            "Epoch 35/50\n",
            "47/47 [==============================] - 0s 4ms/step - loss: 0.1707 - val_loss: 0.2036\n",
            "Epoch 36/50\n",
            "47/47 [==============================] - 0s 4ms/step - loss: 0.1710 - val_loss: 0.2014\n",
            "Epoch 37/50\n",
            "47/47 [==============================] - 0s 4ms/step - loss: 0.1686 - val_loss: 0.2039\n",
            "Epoch 38/50\n",
            "47/47 [==============================] - 0s 4ms/step - loss: 0.1698 - val_loss: 0.2022\n",
            "Epoch 39/50\n",
            "47/47 [==============================] - 0s 4ms/step - loss: 0.1682 - val_loss: 0.2029\n",
            "Epoch 40/50\n",
            "47/47 [==============================] - 0s 3ms/step - loss: 0.1685 - val_loss: 0.2021\n",
            "Epoch 41/50\n",
            "47/47 [==============================] - 0s 3ms/step - loss: 0.1662 - val_loss: 0.2035\n",
            "Epoch 42/50\n",
            "47/47 [==============================] - 0s 4ms/step - loss: 0.1655 - val_loss: 0.2042\n",
            "Epoch 43/50\n",
            "47/47 [==============================] - 0s 4ms/step - loss: 0.1655 - val_loss: 0.2028\n",
            "Epoch 44/50\n",
            "47/47 [==============================] - 0s 4ms/step - loss: 0.1646 - val_loss: 0.2057\n",
            "Epoch 45/50\n",
            "47/47 [==============================] - 0s 6ms/step - loss: 0.1642 - val_loss: 0.2054\n",
            "Epoch 46/50\n",
            "47/47 [==============================] - 0s 4ms/step - loss: 0.1657 - val_loss: 0.2033\n",
            "Epoch 47/50\n",
            "47/47 [==============================] - 0s 4ms/step - loss: 0.1660 - val_loss: 0.2045\n",
            "Epoch 48/50\n",
            "47/47 [==============================] - 0s 4ms/step - loss: 0.1630 - val_loss: 0.2044\n",
            "Epoch 49/50\n",
            "47/47 [==============================] - 0s 4ms/step - loss: 0.1642 - val_loss: 0.2047\n",
            "Epoch 50/50\n",
            "47/47 [==============================] - 0s 4ms/step - loss: 0.1632 - val_loss: 0.2042\n"
          ],
          "name": "stdout"
        }
      ]
    },
    {
      "cell_type": "code",
      "metadata": {
        "id": "XmJe1HFLZX3E"
      },
      "source": [
        ""
      ],
      "execution_count": null,
      "outputs": []
    },
    {
      "cell_type": "code",
      "metadata": {
        "id": "9-Fwdyj_spKN",
        "colab": {
          "base_uri": "https://localhost:8080/",
          "height": 231
        },
        "outputId": "bbeaea66-6d40-457d-cc93-ce482683144a"
      },
      "source": [
        "model = keras.Sequential([\r\n",
        "                          layers.Dense(128, activation='relu', input_shape=input_shape),\r\n",
        "                          layers.Dense(64, activation='relu'),\r\n",
        "                          layers.Dense(1)\r\n",
        "                          ])\r\n",
        "model.compile(\r\n",
        "    optimizer='adam',\r\n",
        "    loss = 'mae'\r\n",
        ")\r\n",
        "history = model.fit(\r\n",
        "    x_train, y_train,\r\n",
        "    validation_data=(x_valid, y_valid),\r\n",
        "    batch_size=512,\r\n",
        "    epochs=50,\r\n",
        "    callbacks=[early_stopping]\r\n",
        ")\r\n",
        "history_df = pd.DataFrame(history.history)\r\n",
        "history_df.loc[:, ['loss', 'val_loss']].plot()\r\n",
        "print(\"minimum validation loss: {:0.4f}\".format(history_df['val_loss'].min()))"
      ],
      "execution_count": null,
      "outputs": [
        {
          "output_type": "error",
          "ename": "NameError",
          "evalue": "ignored",
          "traceback": [
            "\u001b[0;31m---------------------------------------------------------------------------\u001b[0m",
            "\u001b[0;31mNameError\u001b[0m                                 Traceback (most recent call last)",
            "\u001b[0;32m<ipython-input-21-85478953ce5a>\u001b[0m in \u001b[0;36m<module>\u001b[0;34m()\u001b[0m\n\u001b[1;32m     13\u001b[0m     \u001b[0mbatch_size\u001b[0m\u001b[0;34m=\u001b[0m\u001b[0;36m512\u001b[0m\u001b[0;34m,\u001b[0m\u001b[0;34m\u001b[0m\u001b[0;34m\u001b[0m\u001b[0m\n\u001b[1;32m     14\u001b[0m     \u001b[0mepochs\u001b[0m\u001b[0;34m=\u001b[0m\u001b[0;36m50\u001b[0m\u001b[0;34m,\u001b[0m\u001b[0;34m\u001b[0m\u001b[0;34m\u001b[0m\u001b[0m\n\u001b[0;32m---> 15\u001b[0;31m     \u001b[0mcallbacks\u001b[0m\u001b[0;34m=\u001b[0m\u001b[0;34m[\u001b[0m\u001b[0mearly_stopping\u001b[0m\u001b[0;34m]\u001b[0m\u001b[0;34m\u001b[0m\u001b[0;34m\u001b[0m\u001b[0m\n\u001b[0m\u001b[1;32m     16\u001b[0m )\n\u001b[1;32m     17\u001b[0m \u001b[0mhistory_df\u001b[0m \u001b[0;34m=\u001b[0m \u001b[0mpd\u001b[0m\u001b[0;34m.\u001b[0m\u001b[0mDataFrame\u001b[0m\u001b[0;34m(\u001b[0m\u001b[0mhistory\u001b[0m\u001b[0;34m.\u001b[0m\u001b[0mhistory\u001b[0m\u001b[0;34m)\u001b[0m\u001b[0;34m\u001b[0m\u001b[0;34m\u001b[0m\u001b[0m\n",
            "\u001b[0;31mNameError\u001b[0m: name 'early_stopping' is not defined"
          ]
        }
      ]
    }
  ]
}