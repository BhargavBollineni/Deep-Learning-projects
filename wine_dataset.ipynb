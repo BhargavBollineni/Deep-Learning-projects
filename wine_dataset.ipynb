{
  "nbformat": 4,
  "nbformat_minor": 0,
  "metadata": {
    "colab": {
      "name": "wine dataset.ipynb",
      "provenance": [],
      "collapsed_sections": []
    },
    "kernelspec": {
      "name": "python3",
      "display_name": "Python 3"
    }
  },
  "cells": [
    {
      "cell_type": "code",
      "metadata": {
        "id": "RxLko_xnbdkK"
      },
      "source": [
        ""
      ],
      "execution_count": null,
      "outputs": []
    },
    {
      "cell_type": "code",
      "metadata": {
        "colab": {
          "base_uri": "https://localhost:8080/"
        },
        "id": "68qv2ZR7yxEk",
        "outputId": "5d1710ae-d2f3-425d-f681-238e9eef3e0a"
      },
      "source": [
        "!pip install -q git+https://github.com/tensorflow/docs\r\n"
      ],
      "execution_count": null,
      "outputs": [
        {
          "output_type": "stream",
          "text": [
            "\u001b[?25l\r\u001b[K     |▎                               | 10kB 13.7MB/s eta 0:00:01\r\u001b[K     |▋                               | 20kB 8.6MB/s eta 0:00:01\r\u001b[K     |█                               | 30kB 8.0MB/s eta 0:00:01\r\u001b[K     |█▎                              | 40kB 5.9MB/s eta 0:00:01\r\u001b[K     |█▋                              | 51kB 5.8MB/s eta 0:00:01\r\u001b[K     |██                              | 61kB 5.0MB/s eta 0:00:01\r\u001b[K     |██▎                             | 71kB 5.6MB/s eta 0:00:01\r\u001b[K     |██▋                             | 81kB 6.2MB/s eta 0:00:01\r\u001b[K     |██▉                             | 92kB 5.6MB/s eta 0:00:01\r\u001b[K     |███▏                            | 102kB 5.4MB/s eta 0:00:01\r\u001b[K     |███▌                            | 112kB 5.4MB/s eta 0:00:01\r\u001b[K     |███▉                            | 122kB 5.4MB/s eta 0:00:01\r\u001b[K     |████▏                           | 133kB 5.4MB/s eta 0:00:01\r\u001b[K     |████▌                           | 143kB 5.4MB/s eta 0:00:01\r\u001b[K     |████▉                           | 153kB 5.4MB/s eta 0:00:01\r\u001b[K     |█████▏                          | 163kB 5.4MB/s eta 0:00:01\r\u001b[K     |█████▌                          | 174kB 5.4MB/s eta 0:00:01\r\u001b[K     |█████▊                          | 184kB 5.4MB/s eta 0:00:01\r\u001b[K     |██████                          | 194kB 5.4MB/s eta 0:00:01\r\u001b[K     |██████▍                         | 204kB 5.4MB/s eta 0:00:01\r\u001b[K     |██████▊                         | 215kB 5.4MB/s eta 0:00:01\r\u001b[K     |███████                         | 225kB 5.4MB/s eta 0:00:01\r\u001b[K     |███████▍                        | 235kB 5.4MB/s eta 0:00:01\r\u001b[K     |███████▊                        | 245kB 5.4MB/s eta 0:00:01\r\u001b[K     |████████                        | 256kB 5.4MB/s eta 0:00:01\r\u001b[K     |████████▍                       | 266kB 5.4MB/s eta 0:00:01\r\u001b[K     |████████▋                       | 276kB 5.4MB/s eta 0:00:01\r\u001b[K     |█████████                       | 286kB 5.4MB/s eta 0:00:01\r\u001b[K     |█████████▎                      | 296kB 5.4MB/s eta 0:00:01\r\u001b[K     |█████████▋                      | 307kB 5.4MB/s eta 0:00:01\r\u001b[K     |██████████                      | 317kB 5.4MB/s eta 0:00:01\r\u001b[K     |██████████▎                     | 327kB 5.4MB/s eta 0:00:01\r\u001b[K     |██████████▋                     | 337kB 5.4MB/s eta 0:00:01\r\u001b[K     |███████████                     | 348kB 5.4MB/s eta 0:00:01\r\u001b[K     |███████████▎                    | 358kB 5.4MB/s eta 0:00:01\r\u001b[K     |███████████▌                    | 368kB 5.4MB/s eta 0:00:01\r\u001b[K     |███████████▉                    | 378kB 5.4MB/s eta 0:00:01\r\u001b[K     |████████████▏                   | 389kB 5.4MB/s eta 0:00:01\r\u001b[K     |████████████▌                   | 399kB 5.4MB/s eta 0:00:01\r\u001b[K     |████████████▉                   | 409kB 5.4MB/s eta 0:00:01\r\u001b[K     |█████████████▏                  | 419kB 5.4MB/s eta 0:00:01\r\u001b[K     |█████████████▌                  | 430kB 5.4MB/s eta 0:00:01\r\u001b[K     |█████████████▉                  | 440kB 5.4MB/s eta 0:00:01\r\u001b[K     |██████████████▏                 | 450kB 5.4MB/s eta 0:00:01\r\u001b[K     |██████████████▍                 | 460kB 5.4MB/s eta 0:00:01\r\u001b[K     |██████████████▊                 | 471kB 5.4MB/s eta 0:00:01\r\u001b[K     |███████████████                 | 481kB 5.4MB/s eta 0:00:01\r\u001b[K     |███████████████▍                | 491kB 5.4MB/s eta 0:00:01\r\u001b[K     |███████████████▊                | 501kB 5.4MB/s eta 0:00:01\r\u001b[K     |████████████████                | 512kB 5.4MB/s eta 0:00:01\r\u001b[K     |████████████████▍               | 522kB 5.4MB/s eta 0:00:01\r\u001b[K     |████████████████▊               | 532kB 5.4MB/s eta 0:00:01\r\u001b[K     |█████████████████               | 542kB 5.4MB/s eta 0:00:01\r\u001b[K     |█████████████████▎              | 552kB 5.4MB/s eta 0:00:01\r\u001b[K     |█████████████████▋              | 563kB 5.4MB/s eta 0:00:01\r\u001b[K     |██████████████████              | 573kB 5.4MB/s eta 0:00:01\r\u001b[K     |██████████████████▎             | 583kB 5.4MB/s eta 0:00:01\r\u001b[K     |██████████████████▋             | 593kB 5.4MB/s eta 0:00:01\r\u001b[K     |███████████████████             | 604kB 5.4MB/s eta 0:00:01\r\u001b[K     |███████████████████▎            | 614kB 5.4MB/s eta 0:00:01\r\u001b[K     |███████████████████▋            | 624kB 5.4MB/s eta 0:00:01\r\u001b[K     |████████████████████            | 634kB 5.4MB/s eta 0:00:01\r\u001b[K     |████████████████████▏           | 645kB 5.4MB/s eta 0:00:01\r\u001b[K     |████████████████████▌           | 655kB 5.4MB/s eta 0:00:01\r\u001b[K     |████████████████████▉           | 665kB 5.4MB/s eta 0:00:01\r\u001b[K     |█████████████████████▏          | 675kB 5.4MB/s eta 0:00:01\r\u001b[K     |█████████████████████▌          | 686kB 5.4MB/s eta 0:00:01\r\u001b[K     |█████████████████████▉          | 696kB 5.4MB/s eta 0:00:01\r\u001b[K     |██████████████████████▏         | 706kB 5.4MB/s eta 0:00:01\r\u001b[K     |██████████████████████▌         | 716kB 5.4MB/s eta 0:00:01\r\u001b[K     |██████████████████████▉         | 727kB 5.4MB/s eta 0:00:01\r\u001b[K     |███████████████████████         | 737kB 5.4MB/s eta 0:00:01\r\u001b[K     |███████████████████████▍        | 747kB 5.4MB/s eta 0:00:01\r\u001b[K     |███████████████████████▊        | 757kB 5.4MB/s eta 0:00:01\r\u001b[K     |████████████████████████        | 768kB 5.4MB/s eta 0:00:01\r\u001b[K     |████████████████████████▍       | 778kB 5.4MB/s eta 0:00:01\r\u001b[K     |████████████████████████▊       | 788kB 5.4MB/s eta 0:00:01\r\u001b[K     |█████████████████████████       | 798kB 5.4MB/s eta 0:00:01\r\u001b[K     |█████████████████████████▍      | 808kB 5.4MB/s eta 0:00:01\r\u001b[K     |█████████████████████████▊      | 819kB 5.4MB/s eta 0:00:01\r\u001b[K     |██████████████████████████      | 829kB 5.4MB/s eta 0:00:01\r\u001b[K     |██████████████████████████▎     | 839kB 5.4MB/s eta 0:00:01\r\u001b[K     |██████████████████████████▋     | 849kB 5.4MB/s eta 0:00:01\r\u001b[K     |███████████████████████████     | 860kB 5.4MB/s eta 0:00:01\r\u001b[K     |███████████████████████████▎    | 870kB 5.4MB/s eta 0:00:01\r\u001b[K     |███████████████████████████▋    | 880kB 5.4MB/s eta 0:00:01\r\u001b[K     |████████████████████████████    | 890kB 5.4MB/s eta 0:00:01\r\u001b[K     |████████████████████████████▎   | 901kB 5.4MB/s eta 0:00:01\r\u001b[K     |████████████████████████████▋   | 911kB 5.4MB/s eta 0:00:01\r\u001b[K     |████████████████████████████▉   | 921kB 5.4MB/s eta 0:00:01\r\u001b[K     |█████████████████████████████▏  | 931kB 5.4MB/s eta 0:00:01\r\u001b[K     |█████████████████████████████▌  | 942kB 5.4MB/s eta 0:00:01\r\u001b[K     |█████████████████████████████▉  | 952kB 5.4MB/s eta 0:00:01\r\u001b[K     |██████████████████████████████▏ | 962kB 5.4MB/s eta 0:00:01\r\u001b[K     |██████████████████████████████▌ | 972kB 5.4MB/s eta 0:00:01\r\u001b[K     |██████████████████████████████▉ | 983kB 5.4MB/s eta 0:00:01\r\u001b[K     |███████████████████████████████▏| 993kB 5.4MB/s eta 0:00:01\r\u001b[K     |███████████████████████████████▌| 1.0MB 5.4MB/s eta 0:00:01\r\u001b[K     |███████████████████████████████▊| 1.0MB 5.4MB/s eta 0:00:01\r\u001b[K     |████████████████████████████████| 1.0MB 5.4MB/s \n",
            "\u001b[?25h  Building wheel for tensorflow-docs (setup.py) ... \u001b[?25l\u001b[?25hdone\n"
          ],
          "name": "stdout"
        }
      ]
    },
    {
      "cell_type": "code",
      "metadata": {
        "id": "oWK7r36ry5Q8"
      },
      "source": [
        "!pip install -q seaborn\r\n"
      ],
      "execution_count": null,
      "outputs": []
    },
    {
      "cell_type": "code",
      "metadata": {
        "id": "0tzfTTX1y7NR"
      },
      "source": [
        "from keras.layers import LeakyReLU\r\n",
        "from tensorflow import keras\r\n",
        "from keras.models import Sequential\r\n",
        "from keras.layers import Activation, Dense\r\n",
        "import pandas as pd"
      ],
      "execution_count": null,
      "outputs": []
    },
    {
      "cell_type": "code",
      "metadata": {
        "id": "8rl-43hIHToV"
      },
      "source": [
        "import tensorflow_docs as tfdocs\r\n",
        "import tensorflow_docs.plots\r\n",
        "import tensorflow_docs.modeling\r\n",
        "import seaborn as sns"
      ],
      "execution_count": null,
      "outputs": []
    },
    {
      "cell_type": "code",
      "metadata": {
        "colab": {
          "base_uri": "https://localhost:8080/",
          "height": 204
        },
        "id": "Cwg3AAujE2UP",
        "outputId": "5af1290a-19c2-4373-e0d1-a7fe88bf7b1a"
      },
      "source": [
        "data = pd.read_csv('https://archive.ics.uci.edu/ml/machine-learning-databases/wine/wine.data')\r\n",
        "data.head()\r\n"
      ],
      "execution_count": null,
      "outputs": [
        {
          "output_type": "execute_result",
          "data": {
            "text/html": [
              "<div>\n",
              "<style scoped>\n",
              "    .dataframe tbody tr th:only-of-type {\n",
              "        vertical-align: middle;\n",
              "    }\n",
              "\n",
              "    .dataframe tbody tr th {\n",
              "        vertical-align: top;\n",
              "    }\n",
              "\n",
              "    .dataframe thead th {\n",
              "        text-align: right;\n",
              "    }\n",
              "</style>\n",
              "<table border=\"1\" class=\"dataframe\">\n",
              "  <thead>\n",
              "    <tr style=\"text-align: right;\">\n",
              "      <th></th>\n",
              "      <th>1</th>\n",
              "      <th>14.23</th>\n",
              "      <th>1.71</th>\n",
              "      <th>2.43</th>\n",
              "      <th>15.6</th>\n",
              "      <th>127</th>\n",
              "      <th>2.8</th>\n",
              "      <th>3.06</th>\n",
              "      <th>.28</th>\n",
              "      <th>2.29</th>\n",
              "      <th>5.64</th>\n",
              "      <th>1.04</th>\n",
              "      <th>3.92</th>\n",
              "      <th>1065</th>\n",
              "    </tr>\n",
              "  </thead>\n",
              "  <tbody>\n",
              "    <tr>\n",
              "      <th>0</th>\n",
              "      <td>1</td>\n",
              "      <td>13.20</td>\n",
              "      <td>1.78</td>\n",
              "      <td>2.14</td>\n",
              "      <td>11.2</td>\n",
              "      <td>100</td>\n",
              "      <td>2.65</td>\n",
              "      <td>2.76</td>\n",
              "      <td>0.26</td>\n",
              "      <td>1.28</td>\n",
              "      <td>4.38</td>\n",
              "      <td>1.05</td>\n",
              "      <td>3.40</td>\n",
              "      <td>1050</td>\n",
              "    </tr>\n",
              "    <tr>\n",
              "      <th>1</th>\n",
              "      <td>1</td>\n",
              "      <td>13.16</td>\n",
              "      <td>2.36</td>\n",
              "      <td>2.67</td>\n",
              "      <td>18.6</td>\n",
              "      <td>101</td>\n",
              "      <td>2.80</td>\n",
              "      <td>3.24</td>\n",
              "      <td>0.30</td>\n",
              "      <td>2.81</td>\n",
              "      <td>5.68</td>\n",
              "      <td>1.03</td>\n",
              "      <td>3.17</td>\n",
              "      <td>1185</td>\n",
              "    </tr>\n",
              "    <tr>\n",
              "      <th>2</th>\n",
              "      <td>1</td>\n",
              "      <td>14.37</td>\n",
              "      <td>1.95</td>\n",
              "      <td>2.50</td>\n",
              "      <td>16.8</td>\n",
              "      <td>113</td>\n",
              "      <td>3.85</td>\n",
              "      <td>3.49</td>\n",
              "      <td>0.24</td>\n",
              "      <td>2.18</td>\n",
              "      <td>7.80</td>\n",
              "      <td>0.86</td>\n",
              "      <td>3.45</td>\n",
              "      <td>1480</td>\n",
              "    </tr>\n",
              "    <tr>\n",
              "      <th>3</th>\n",
              "      <td>1</td>\n",
              "      <td>13.24</td>\n",
              "      <td>2.59</td>\n",
              "      <td>2.87</td>\n",
              "      <td>21.0</td>\n",
              "      <td>118</td>\n",
              "      <td>2.80</td>\n",
              "      <td>2.69</td>\n",
              "      <td>0.39</td>\n",
              "      <td>1.82</td>\n",
              "      <td>4.32</td>\n",
              "      <td>1.04</td>\n",
              "      <td>2.93</td>\n",
              "      <td>735</td>\n",
              "    </tr>\n",
              "    <tr>\n",
              "      <th>4</th>\n",
              "      <td>1</td>\n",
              "      <td>14.20</td>\n",
              "      <td>1.76</td>\n",
              "      <td>2.45</td>\n",
              "      <td>15.2</td>\n",
              "      <td>112</td>\n",
              "      <td>3.27</td>\n",
              "      <td>3.39</td>\n",
              "      <td>0.34</td>\n",
              "      <td>1.97</td>\n",
              "      <td>6.75</td>\n",
              "      <td>1.05</td>\n",
              "      <td>2.85</td>\n",
              "      <td>1450</td>\n",
              "    </tr>\n",
              "  </tbody>\n",
              "</table>\n",
              "</div>"
            ],
            "text/plain": [
              "   1  14.23  1.71  2.43  15.6  127  ...   .28  2.29  5.64  1.04  3.92  1065\n",
              "0  1  13.20  1.78  2.14  11.2  100  ...  0.26  1.28  4.38  1.05  3.40  1050\n",
              "1  1  13.16  2.36  2.67  18.6  101  ...  0.30  2.81  5.68  1.03  3.17  1185\n",
              "2  1  14.37  1.95  2.50  16.8  113  ...  0.24  2.18  7.80  0.86  3.45  1480\n",
              "3  1  13.24  2.59  2.87  21.0  118  ...  0.39  1.82  4.32  1.04  2.93   735\n",
              "4  1  14.20  1.76  2.45  15.2  112  ...  0.34  1.97  6.75  1.05  2.85  1450\n",
              "\n",
              "[5 rows x 14 columns]"
            ]
          },
          "metadata": {
            "tags": []
          },
          "execution_count": 5
        }
      ]
    },
    {
      "cell_type": "code",
      "metadata": {
        "colab": {
          "base_uri": "https://localhost:8080/",
          "height": 204
        },
        "id": "UTAvTIWNGEeX",
        "outputId": "f2fe05b8-02c3-46bd-e978-9932bb928a23"
      },
      "source": [
        "data.tail()"
      ],
      "execution_count": null,
      "outputs": [
        {
          "output_type": "execute_result",
          "data": {
            "text/html": [
              "<div>\n",
              "<style scoped>\n",
              "    .dataframe tbody tr th:only-of-type {\n",
              "        vertical-align: middle;\n",
              "    }\n",
              "\n",
              "    .dataframe tbody tr th {\n",
              "        vertical-align: top;\n",
              "    }\n",
              "\n",
              "    .dataframe thead th {\n",
              "        text-align: right;\n",
              "    }\n",
              "</style>\n",
              "<table border=\"1\" class=\"dataframe\">\n",
              "  <thead>\n",
              "    <tr style=\"text-align: right;\">\n",
              "      <th></th>\n",
              "      <th>1</th>\n",
              "      <th>14.23</th>\n",
              "      <th>1.71</th>\n",
              "      <th>2.43</th>\n",
              "      <th>15.6</th>\n",
              "      <th>127</th>\n",
              "      <th>2.8</th>\n",
              "      <th>3.06</th>\n",
              "      <th>.28</th>\n",
              "      <th>2.29</th>\n",
              "      <th>5.64</th>\n",
              "      <th>1.04</th>\n",
              "      <th>3.92</th>\n",
              "      <th>1065</th>\n",
              "    </tr>\n",
              "  </thead>\n",
              "  <tbody>\n",
              "    <tr>\n",
              "      <th>172</th>\n",
              "      <td>3</td>\n",
              "      <td>13.71</td>\n",
              "      <td>5.65</td>\n",
              "      <td>2.45</td>\n",
              "      <td>20.5</td>\n",
              "      <td>95</td>\n",
              "      <td>1.68</td>\n",
              "      <td>0.61</td>\n",
              "      <td>0.52</td>\n",
              "      <td>1.06</td>\n",
              "      <td>7.7</td>\n",
              "      <td>0.64</td>\n",
              "      <td>1.74</td>\n",
              "      <td>740</td>\n",
              "    </tr>\n",
              "    <tr>\n",
              "      <th>173</th>\n",
              "      <td>3</td>\n",
              "      <td>13.40</td>\n",
              "      <td>3.91</td>\n",
              "      <td>2.48</td>\n",
              "      <td>23.0</td>\n",
              "      <td>102</td>\n",
              "      <td>1.80</td>\n",
              "      <td>0.75</td>\n",
              "      <td>0.43</td>\n",
              "      <td>1.41</td>\n",
              "      <td>7.3</td>\n",
              "      <td>0.70</td>\n",
              "      <td>1.56</td>\n",
              "      <td>750</td>\n",
              "    </tr>\n",
              "    <tr>\n",
              "      <th>174</th>\n",
              "      <td>3</td>\n",
              "      <td>13.27</td>\n",
              "      <td>4.28</td>\n",
              "      <td>2.26</td>\n",
              "      <td>20.0</td>\n",
              "      <td>120</td>\n",
              "      <td>1.59</td>\n",
              "      <td>0.69</td>\n",
              "      <td>0.43</td>\n",
              "      <td>1.35</td>\n",
              "      <td>10.2</td>\n",
              "      <td>0.59</td>\n",
              "      <td>1.56</td>\n",
              "      <td>835</td>\n",
              "    </tr>\n",
              "    <tr>\n",
              "      <th>175</th>\n",
              "      <td>3</td>\n",
              "      <td>13.17</td>\n",
              "      <td>2.59</td>\n",
              "      <td>2.37</td>\n",
              "      <td>20.0</td>\n",
              "      <td>120</td>\n",
              "      <td>1.65</td>\n",
              "      <td>0.68</td>\n",
              "      <td>0.53</td>\n",
              "      <td>1.46</td>\n",
              "      <td>9.3</td>\n",
              "      <td>0.60</td>\n",
              "      <td>1.62</td>\n",
              "      <td>840</td>\n",
              "    </tr>\n",
              "    <tr>\n",
              "      <th>176</th>\n",
              "      <td>3</td>\n",
              "      <td>14.13</td>\n",
              "      <td>4.10</td>\n",
              "      <td>2.74</td>\n",
              "      <td>24.5</td>\n",
              "      <td>96</td>\n",
              "      <td>2.05</td>\n",
              "      <td>0.76</td>\n",
              "      <td>0.56</td>\n",
              "      <td>1.35</td>\n",
              "      <td>9.2</td>\n",
              "      <td>0.61</td>\n",
              "      <td>1.60</td>\n",
              "      <td>560</td>\n",
              "    </tr>\n",
              "  </tbody>\n",
              "</table>\n",
              "</div>"
            ],
            "text/plain": [
              "     1  14.23  1.71  2.43  15.6  127  ...   .28  2.29  5.64  1.04  3.92  1065\n",
              "172  3  13.71  5.65  2.45  20.5   95  ...  0.52  1.06   7.7  0.64  1.74   740\n",
              "173  3  13.40  3.91  2.48  23.0  102  ...  0.43  1.41   7.3  0.70  1.56   750\n",
              "174  3  13.27  4.28  2.26  20.0  120  ...  0.43  1.35  10.2  0.59  1.56   835\n",
              "175  3  13.17  2.59  2.37  20.0  120  ...  0.53  1.46   9.3  0.60  1.62   840\n",
              "176  3  14.13  4.10  2.74  24.5   96  ...  0.56  1.35   9.2  0.61  1.60   560\n",
              "\n",
              "[5 rows x 14 columns]"
            ]
          },
          "metadata": {
            "tags": []
          },
          "execution_count": 6
        }
      ]
    },
    {
      "cell_type": "markdown",
      "metadata": {
        "id": "_5p_9kAbFTTl"
      },
      "source": [
        "Alcohol\r\n",
        "2) Malic acid\r\n",
        "3) Ash\r\n",
        "4) Alcalinity of ash\r\n",
        "5) Magnesium\r\n",
        "6) Total phenols\r\n",
        "7) Flavanoids\r\n",
        "8) Nonflavanoid phenols\r\n",
        "9) Proanthocyanins\r\n",
        "10)Color intensity\r\n",
        "11)Hue\r\n",
        "12)OD280/OD315 of diluted wines\r\n",
        "13)Proline"
      ]
    },
    {
      "cell_type": "code",
      "metadata": {
        "id": "cyG58fLpFV9t"
      },
      "source": [
        "column_names=['Alcohol','Malic acid','Ash','Alcalinity of ash','Magnesium','Total phenols','Flavanoids','Nonflavanoid phenols','Proanthocyanins',\r\n",
        "              'Color intensity','Hue','OD280/OD315 of diluted wines','Proline','Wine Price']\r\n"
      ],
      "execution_count": null,
      "outputs": []
    },
    {
      "cell_type": "code",
      "metadata": {
        "id": "KQ6LxsvZFpfB"
      },
      "source": [
        "data.columns = column_names"
      ],
      "execution_count": null,
      "outputs": []
    },
    {
      "cell_type": "code",
      "metadata": {
        "colab": {
          "base_uri": "https://localhost:8080/",
          "height": 221
        },
        "id": "YiaPofMdGiag",
        "outputId": "92da118f-5f15-4f28-89f2-338d2c25db60"
      },
      "source": [
        "data.head()"
      ],
      "execution_count": null,
      "outputs": [
        {
          "output_type": "execute_result",
          "data": {
            "text/html": [
              "<div>\n",
              "<style scoped>\n",
              "    .dataframe tbody tr th:only-of-type {\n",
              "        vertical-align: middle;\n",
              "    }\n",
              "\n",
              "    .dataframe tbody tr th {\n",
              "        vertical-align: top;\n",
              "    }\n",
              "\n",
              "    .dataframe thead th {\n",
              "        text-align: right;\n",
              "    }\n",
              "</style>\n",
              "<table border=\"1\" class=\"dataframe\">\n",
              "  <thead>\n",
              "    <tr style=\"text-align: right;\">\n",
              "      <th></th>\n",
              "      <th>Alcohol</th>\n",
              "      <th>Malic acid</th>\n",
              "      <th>Ash</th>\n",
              "      <th>Alcalinity of ash</th>\n",
              "      <th>Magnesium</th>\n",
              "      <th>Total phenols</th>\n",
              "      <th>Flavanoids</th>\n",
              "      <th>Nonflavanoid phenols</th>\n",
              "      <th>Proanthocyanins</th>\n",
              "      <th>Color intensity</th>\n",
              "      <th>Hue</th>\n",
              "      <th>OD280/OD315 of diluted wines</th>\n",
              "      <th>Proline</th>\n",
              "      <th>Wine Price</th>\n",
              "    </tr>\n",
              "  </thead>\n",
              "  <tbody>\n",
              "    <tr>\n",
              "      <th>0</th>\n",
              "      <td>1</td>\n",
              "      <td>13.20</td>\n",
              "      <td>1.78</td>\n",
              "      <td>2.14</td>\n",
              "      <td>11.2</td>\n",
              "      <td>100</td>\n",
              "      <td>2.65</td>\n",
              "      <td>2.76</td>\n",
              "      <td>0.26</td>\n",
              "      <td>1.28</td>\n",
              "      <td>4.38</td>\n",
              "      <td>1.05</td>\n",
              "      <td>3.40</td>\n",
              "      <td>1050</td>\n",
              "    </tr>\n",
              "    <tr>\n",
              "      <th>1</th>\n",
              "      <td>1</td>\n",
              "      <td>13.16</td>\n",
              "      <td>2.36</td>\n",
              "      <td>2.67</td>\n",
              "      <td>18.6</td>\n",
              "      <td>101</td>\n",
              "      <td>2.80</td>\n",
              "      <td>3.24</td>\n",
              "      <td>0.30</td>\n",
              "      <td>2.81</td>\n",
              "      <td>5.68</td>\n",
              "      <td>1.03</td>\n",
              "      <td>3.17</td>\n",
              "      <td>1185</td>\n",
              "    </tr>\n",
              "    <tr>\n",
              "      <th>2</th>\n",
              "      <td>1</td>\n",
              "      <td>14.37</td>\n",
              "      <td>1.95</td>\n",
              "      <td>2.50</td>\n",
              "      <td>16.8</td>\n",
              "      <td>113</td>\n",
              "      <td>3.85</td>\n",
              "      <td>3.49</td>\n",
              "      <td>0.24</td>\n",
              "      <td>2.18</td>\n",
              "      <td>7.80</td>\n",
              "      <td>0.86</td>\n",
              "      <td>3.45</td>\n",
              "      <td>1480</td>\n",
              "    </tr>\n",
              "    <tr>\n",
              "      <th>3</th>\n",
              "      <td>1</td>\n",
              "      <td>13.24</td>\n",
              "      <td>2.59</td>\n",
              "      <td>2.87</td>\n",
              "      <td>21.0</td>\n",
              "      <td>118</td>\n",
              "      <td>2.80</td>\n",
              "      <td>2.69</td>\n",
              "      <td>0.39</td>\n",
              "      <td>1.82</td>\n",
              "      <td>4.32</td>\n",
              "      <td>1.04</td>\n",
              "      <td>2.93</td>\n",
              "      <td>735</td>\n",
              "    </tr>\n",
              "    <tr>\n",
              "      <th>4</th>\n",
              "      <td>1</td>\n",
              "      <td>14.20</td>\n",
              "      <td>1.76</td>\n",
              "      <td>2.45</td>\n",
              "      <td>15.2</td>\n",
              "      <td>112</td>\n",
              "      <td>3.27</td>\n",
              "      <td>3.39</td>\n",
              "      <td>0.34</td>\n",
              "      <td>1.97</td>\n",
              "      <td>6.75</td>\n",
              "      <td>1.05</td>\n",
              "      <td>2.85</td>\n",
              "      <td>1450</td>\n",
              "    </tr>\n",
              "  </tbody>\n",
              "</table>\n",
              "</div>"
            ],
            "text/plain": [
              "   Alcohol  Malic acid   Ash  ...  OD280/OD315 of diluted wines  Proline  Wine Price\n",
              "0        1       13.20  1.78  ...                          1.05     3.40        1050\n",
              "1        1       13.16  2.36  ...                          1.03     3.17        1185\n",
              "2        1       14.37  1.95  ...                          0.86     3.45        1480\n",
              "3        1       13.24  2.59  ...                          1.04     2.93         735\n",
              "4        1       14.20  1.76  ...                          1.05     2.85        1450\n",
              "\n",
              "[5 rows x 14 columns]"
            ]
          },
          "metadata": {
            "tags": []
          },
          "execution_count": 32
        }
      ]
    },
    {
      "cell_type": "code",
      "metadata": {
        "colab": {
          "base_uri": "https://localhost:8080/",
          "height": 221
        },
        "id": "UHFQ-YDEFvfD",
        "outputId": "0cfeef03-9dc6-4db8-b785-e9dbda27a7b9"
      },
      "source": [
        "data.tail()"
      ],
      "execution_count": null,
      "outputs": [
        {
          "output_type": "execute_result",
          "data": {
            "text/html": [
              "<div>\n",
              "<style scoped>\n",
              "    .dataframe tbody tr th:only-of-type {\n",
              "        vertical-align: middle;\n",
              "    }\n",
              "\n",
              "    .dataframe tbody tr th {\n",
              "        vertical-align: top;\n",
              "    }\n",
              "\n",
              "    .dataframe thead th {\n",
              "        text-align: right;\n",
              "    }\n",
              "</style>\n",
              "<table border=\"1\" class=\"dataframe\">\n",
              "  <thead>\n",
              "    <tr style=\"text-align: right;\">\n",
              "      <th></th>\n",
              "      <th>Alcohol</th>\n",
              "      <th>Malic acid</th>\n",
              "      <th>Ash</th>\n",
              "      <th>Alcalinity of ash</th>\n",
              "      <th>Magnesium</th>\n",
              "      <th>Total phenols</th>\n",
              "      <th>Flavanoids</th>\n",
              "      <th>Nonflavanoid phenols</th>\n",
              "      <th>Proanthocyanins</th>\n",
              "      <th>Color intensity</th>\n",
              "      <th>Hue</th>\n",
              "      <th>OD280/OD315 of diluted wines</th>\n",
              "      <th>Proline</th>\n",
              "      <th>Wine Price</th>\n",
              "    </tr>\n",
              "  </thead>\n",
              "  <tbody>\n",
              "    <tr>\n",
              "      <th>172</th>\n",
              "      <td>3</td>\n",
              "      <td>13.71</td>\n",
              "      <td>5.65</td>\n",
              "      <td>2.45</td>\n",
              "      <td>20.5</td>\n",
              "      <td>95</td>\n",
              "      <td>1.68</td>\n",
              "      <td>0.61</td>\n",
              "      <td>0.52</td>\n",
              "      <td>1.06</td>\n",
              "      <td>7.7</td>\n",
              "      <td>0.64</td>\n",
              "      <td>1.74</td>\n",
              "      <td>740</td>\n",
              "    </tr>\n",
              "    <tr>\n",
              "      <th>173</th>\n",
              "      <td>3</td>\n",
              "      <td>13.40</td>\n",
              "      <td>3.91</td>\n",
              "      <td>2.48</td>\n",
              "      <td>23.0</td>\n",
              "      <td>102</td>\n",
              "      <td>1.80</td>\n",
              "      <td>0.75</td>\n",
              "      <td>0.43</td>\n",
              "      <td>1.41</td>\n",
              "      <td>7.3</td>\n",
              "      <td>0.70</td>\n",
              "      <td>1.56</td>\n",
              "      <td>750</td>\n",
              "    </tr>\n",
              "    <tr>\n",
              "      <th>174</th>\n",
              "      <td>3</td>\n",
              "      <td>13.27</td>\n",
              "      <td>4.28</td>\n",
              "      <td>2.26</td>\n",
              "      <td>20.0</td>\n",
              "      <td>120</td>\n",
              "      <td>1.59</td>\n",
              "      <td>0.69</td>\n",
              "      <td>0.43</td>\n",
              "      <td>1.35</td>\n",
              "      <td>10.2</td>\n",
              "      <td>0.59</td>\n",
              "      <td>1.56</td>\n",
              "      <td>835</td>\n",
              "    </tr>\n",
              "    <tr>\n",
              "      <th>175</th>\n",
              "      <td>3</td>\n",
              "      <td>13.17</td>\n",
              "      <td>2.59</td>\n",
              "      <td>2.37</td>\n",
              "      <td>20.0</td>\n",
              "      <td>120</td>\n",
              "      <td>1.65</td>\n",
              "      <td>0.68</td>\n",
              "      <td>0.53</td>\n",
              "      <td>1.46</td>\n",
              "      <td>9.3</td>\n",
              "      <td>0.60</td>\n",
              "      <td>1.62</td>\n",
              "      <td>840</td>\n",
              "    </tr>\n",
              "    <tr>\n",
              "      <th>176</th>\n",
              "      <td>3</td>\n",
              "      <td>14.13</td>\n",
              "      <td>4.10</td>\n",
              "      <td>2.74</td>\n",
              "      <td>24.5</td>\n",
              "      <td>96</td>\n",
              "      <td>2.05</td>\n",
              "      <td>0.76</td>\n",
              "      <td>0.56</td>\n",
              "      <td>1.35</td>\n",
              "      <td>9.2</td>\n",
              "      <td>0.61</td>\n",
              "      <td>1.60</td>\n",
              "      <td>560</td>\n",
              "    </tr>\n",
              "  </tbody>\n",
              "</table>\n",
              "</div>"
            ],
            "text/plain": [
              "     Alcohol  Malic acid  ...  Proline  Wine Price\n",
              "172        3       13.71  ...     1.74         740\n",
              "173        3       13.40  ...     1.56         750\n",
              "174        3       13.27  ...     1.56         835\n",
              "175        3       13.17  ...     1.62         840\n",
              "176        3       14.13  ...     1.60         560\n",
              "\n",
              "[5 rows x 14 columns]"
            ]
          },
          "metadata": {
            "tags": []
          },
          "execution_count": 33
        }
      ]
    },
    {
      "cell_type": "code",
      "metadata": {
        "id": "xV_a1RkmGvaU"
      },
      "source": [
        "data.to_csv('G:\\Cources\\Deep_Learning\\data_wine.csv')"
      ],
      "execution_count": null,
      "outputs": []
    },
    {
      "cell_type": "code",
      "metadata": {
        "id": "KAsOrHY6y9bS"
      },
      "source": [
        "import tensorflow_docs as tfdocs\r\n",
        "import tensorflow_docs.plots\r\n",
        "import tensorflow_docs.modeling\r\n",
        "import seaborn as sns"
      ],
      "execution_count": null,
      "outputs": []
    },
    {
      "cell_type": "code",
      "metadata": {
        "id": "-U2a52o2Gui6"
      },
      "source": [
        ""
      ],
      "execution_count": null,
      "outputs": []
    },
    {
      "cell_type": "code",
      "metadata": {
        "id": "LNqUCiesy_WT",
        "colab": {
          "base_uri": "https://localhost:8080/",
          "height": 35
        },
        "outputId": "c312f7f9-eeb2-4b28-fa16-4ef57a88926d"
      },
      "source": [
        "data_path=keras.utils.get_file(\"wine.data\",\"https://archive.ics.uci.edu/ml/machine-learning-databases/wine/wine.data\")\r\n",
        "data_path"
      ],
      "execution_count": null,
      "outputs": [
        {
          "output_type": "execute_result",
          "data": {
            "application/vnd.google.colaboratory.intrinsic+json": {
              "type": "string"
            },
            "text/plain": [
              "'/root/.keras/datasets/wine.data'"
            ]
          },
          "metadata": {
            "tags": []
          },
          "execution_count": 36
        }
      ]
    },
    {
      "cell_type": "code",
      "metadata": {
        "id": "fh0R9I-z2LtA"
      },
      "source": [
        ""
      ],
      "execution_count": null,
      "outputs": []
    },
    {
      "cell_type": "code",
      "metadata": {
        "id": "7ME2Xx9C2BII"
      },
      "source": [
        ""
      ],
      "execution_count": null,
      "outputs": []
    },
    {
      "cell_type": "code",
      "metadata": {
        "id": "37HwlGcdEnG1",
        "colab": {
          "base_uri": "https://localhost:8080/"
        },
        "outputId": "03cae356-a38c-433c-e3bd-d4b77c18fda9"
      },
      "source": [
        "data.shape"
      ],
      "execution_count": null,
      "outputs": [
        {
          "output_type": "execute_result",
          "data": {
            "text/plain": [
              "(177, 14)"
            ]
          },
          "metadata": {
            "tags": []
          },
          "execution_count": 37
        }
      ]
    },
    {
      "cell_type": "code",
      "metadata": {
        "colab": {
          "base_uri": "https://localhost:8080/"
        },
        "id": "M4sssSr-D_2z",
        "outputId": "d79cdf53-f732-447d-ed9b-70ed1380b9a8"
      },
      "source": [
        "data.size"
      ],
      "execution_count": null,
      "outputs": [
        {
          "output_type": "execute_result",
          "data": {
            "text/plain": [
              "2478"
            ]
          },
          "metadata": {
            "tags": []
          },
          "execution_count": 38
        }
      ]
    },
    {
      "cell_type": "code",
      "metadata": {
        "colab": {
          "base_uri": "https://localhost:8080/"
        },
        "id": "oQN79bGpEBna",
        "outputId": "f8933805-0e91-4ac9-8eb0-b86adfeab9dc"
      },
      "source": [
        "data.ndim"
      ],
      "execution_count": null,
      "outputs": [
        {
          "output_type": "execute_result",
          "data": {
            "text/plain": [
              "2"
            ]
          },
          "metadata": {
            "tags": []
          },
          "execution_count": 39
        }
      ]
    },
    {
      "cell_type": "code",
      "metadata": {
        "colab": {
          "base_uri": "https://localhost:8080/",
          "height": 351
        },
        "id": "DA1Wawn-EDfM",
        "outputId": "a4e19953-0980-4d83-9057-0cc948f061f2"
      },
      "source": [
        "data.describe()"
      ],
      "execution_count": null,
      "outputs": [
        {
          "output_type": "execute_result",
          "data": {
            "text/html": [
              "<div>\n",
              "<style scoped>\n",
              "    .dataframe tbody tr th:only-of-type {\n",
              "        vertical-align: middle;\n",
              "    }\n",
              "\n",
              "    .dataframe tbody tr th {\n",
              "        vertical-align: top;\n",
              "    }\n",
              "\n",
              "    .dataframe thead th {\n",
              "        text-align: right;\n",
              "    }\n",
              "</style>\n",
              "<table border=\"1\" class=\"dataframe\">\n",
              "  <thead>\n",
              "    <tr style=\"text-align: right;\">\n",
              "      <th></th>\n",
              "      <th>Alcohol</th>\n",
              "      <th>Malic acid</th>\n",
              "      <th>Ash</th>\n",
              "      <th>Alcalinity of ash</th>\n",
              "      <th>Magnesium</th>\n",
              "      <th>Total phenols</th>\n",
              "      <th>Flavanoids</th>\n",
              "      <th>Nonflavanoid phenols</th>\n",
              "      <th>Proanthocyanins</th>\n",
              "      <th>Color intensity</th>\n",
              "      <th>Hue</th>\n",
              "      <th>OD280/OD315 of diluted wines</th>\n",
              "      <th>Proline</th>\n",
              "      <th>Wine Price</th>\n",
              "    </tr>\n",
              "  </thead>\n",
              "  <tbody>\n",
              "    <tr>\n",
              "      <th>count</th>\n",
              "      <td>177.000000</td>\n",
              "      <td>177.000000</td>\n",
              "      <td>177.000000</td>\n",
              "      <td>177.000000</td>\n",
              "      <td>177.000000</td>\n",
              "      <td>177.000000</td>\n",
              "      <td>177.000000</td>\n",
              "      <td>177.000000</td>\n",
              "      <td>177.000000</td>\n",
              "      <td>177.000000</td>\n",
              "      <td>177.000000</td>\n",
              "      <td>177.000000</td>\n",
              "      <td>177.000000</td>\n",
              "      <td>177.000000</td>\n",
              "    </tr>\n",
              "    <tr>\n",
              "      <th>mean</th>\n",
              "      <td>1.943503</td>\n",
              "      <td>12.993672</td>\n",
              "      <td>2.339887</td>\n",
              "      <td>2.366158</td>\n",
              "      <td>19.516949</td>\n",
              "      <td>99.587571</td>\n",
              "      <td>2.292260</td>\n",
              "      <td>2.023446</td>\n",
              "      <td>0.362316</td>\n",
              "      <td>1.586949</td>\n",
              "      <td>5.054802</td>\n",
              "      <td>0.956983</td>\n",
              "      <td>2.604294</td>\n",
              "      <td>745.096045</td>\n",
              "    </tr>\n",
              "    <tr>\n",
              "      <th>std</th>\n",
              "      <td>0.773991</td>\n",
              "      <td>0.808808</td>\n",
              "      <td>1.119314</td>\n",
              "      <td>0.275080</td>\n",
              "      <td>3.336071</td>\n",
              "      <td>14.174018</td>\n",
              "      <td>0.626465</td>\n",
              "      <td>0.998658</td>\n",
              "      <td>0.124653</td>\n",
              "      <td>0.571545</td>\n",
              "      <td>2.324446</td>\n",
              "      <td>0.229135</td>\n",
              "      <td>0.705103</td>\n",
              "      <td>314.884046</td>\n",
              "    </tr>\n",
              "    <tr>\n",
              "      <th>min</th>\n",
              "      <td>1.000000</td>\n",
              "      <td>11.030000</td>\n",
              "      <td>0.740000</td>\n",
              "      <td>1.360000</td>\n",
              "      <td>10.600000</td>\n",
              "      <td>70.000000</td>\n",
              "      <td>0.980000</td>\n",
              "      <td>0.340000</td>\n",
              "      <td>0.130000</td>\n",
              "      <td>0.410000</td>\n",
              "      <td>1.280000</td>\n",
              "      <td>0.480000</td>\n",
              "      <td>1.270000</td>\n",
              "      <td>278.000000</td>\n",
              "    </tr>\n",
              "    <tr>\n",
              "      <th>25%</th>\n",
              "      <td>1.000000</td>\n",
              "      <td>12.360000</td>\n",
              "      <td>1.600000</td>\n",
              "      <td>2.210000</td>\n",
              "      <td>17.200000</td>\n",
              "      <td>88.000000</td>\n",
              "      <td>1.740000</td>\n",
              "      <td>1.200000</td>\n",
              "      <td>0.270000</td>\n",
              "      <td>1.250000</td>\n",
              "      <td>3.210000</td>\n",
              "      <td>0.780000</td>\n",
              "      <td>1.930000</td>\n",
              "      <td>500.000000</td>\n",
              "    </tr>\n",
              "    <tr>\n",
              "      <th>50%</th>\n",
              "      <td>2.000000</td>\n",
              "      <td>13.050000</td>\n",
              "      <td>1.870000</td>\n",
              "      <td>2.360000</td>\n",
              "      <td>19.500000</td>\n",
              "      <td>98.000000</td>\n",
              "      <td>2.350000</td>\n",
              "      <td>2.130000</td>\n",
              "      <td>0.340000</td>\n",
              "      <td>1.550000</td>\n",
              "      <td>4.680000</td>\n",
              "      <td>0.960000</td>\n",
              "      <td>2.780000</td>\n",
              "      <td>672.000000</td>\n",
              "    </tr>\n",
              "    <tr>\n",
              "      <th>75%</th>\n",
              "      <td>3.000000</td>\n",
              "      <td>13.670000</td>\n",
              "      <td>3.100000</td>\n",
              "      <td>2.560000</td>\n",
              "      <td>21.500000</td>\n",
              "      <td>107.000000</td>\n",
              "      <td>2.800000</td>\n",
              "      <td>2.860000</td>\n",
              "      <td>0.440000</td>\n",
              "      <td>1.950000</td>\n",
              "      <td>6.200000</td>\n",
              "      <td>1.120000</td>\n",
              "      <td>3.170000</td>\n",
              "      <td>985.000000</td>\n",
              "    </tr>\n",
              "    <tr>\n",
              "      <th>max</th>\n",
              "      <td>3.000000</td>\n",
              "      <td>14.830000</td>\n",
              "      <td>5.800000</td>\n",
              "      <td>3.230000</td>\n",
              "      <td>30.000000</td>\n",
              "      <td>162.000000</td>\n",
              "      <td>3.880000</td>\n",
              "      <td>5.080000</td>\n",
              "      <td>0.660000</td>\n",
              "      <td>3.580000</td>\n",
              "      <td>13.000000</td>\n",
              "      <td>1.710000</td>\n",
              "      <td>4.000000</td>\n",
              "      <td>1680.000000</td>\n",
              "    </tr>\n",
              "  </tbody>\n",
              "</table>\n",
              "</div>"
            ],
            "text/plain": [
              "          Alcohol  Malic acid  ...     Proline   Wine Price\n",
              "count  177.000000  177.000000  ...  177.000000   177.000000\n",
              "mean     1.943503   12.993672  ...    2.604294   745.096045\n",
              "std      0.773991    0.808808  ...    0.705103   314.884046\n",
              "min      1.000000   11.030000  ...    1.270000   278.000000\n",
              "25%      1.000000   12.360000  ...    1.930000   500.000000\n",
              "50%      2.000000   13.050000  ...    2.780000   672.000000\n",
              "75%      3.000000   13.670000  ...    3.170000   985.000000\n",
              "max      3.000000   14.830000  ...    4.000000  1680.000000\n",
              "\n",
              "[8 rows x 14 columns]"
            ]
          },
          "metadata": {
            "tags": []
          },
          "execution_count": 40
        }
      ]
    },
    {
      "cell_type": "code",
      "metadata": {
        "colab": {
          "base_uri": "https://localhost:8080/"
        },
        "id": "OehgGoUZEHMm",
        "outputId": "616c7fac-8016-4d0c-9833-18caffea4135"
      },
      "source": [
        "data.info()"
      ],
      "execution_count": null,
      "outputs": [
        {
          "output_type": "stream",
          "text": [
            "<class 'pandas.core.frame.DataFrame'>\n",
            "RangeIndex: 177 entries, 0 to 176\n",
            "Data columns (total 14 columns):\n",
            " #   Column                        Non-Null Count  Dtype  \n",
            "---  ------                        --------------  -----  \n",
            " 0   Alcohol                       177 non-null    int64  \n",
            " 1   Malic acid                    177 non-null    float64\n",
            " 2   Ash                           177 non-null    float64\n",
            " 3   Alcalinity of ash             177 non-null    float64\n",
            " 4   Magnesium                     177 non-null    float64\n",
            " 5   Total phenols                 177 non-null    int64  \n",
            " 6   Flavanoids                    177 non-null    float64\n",
            " 7   Nonflavanoid phenols          177 non-null    float64\n",
            " 8   Proanthocyanins               177 non-null    float64\n",
            " 9   Color intensity               177 non-null    float64\n",
            " 10  Hue                           177 non-null    float64\n",
            " 11  OD280/OD315 of diluted wines  177 non-null    float64\n",
            " 12  Proline                       177 non-null    float64\n",
            " 13  Wine Price                    177 non-null    int64  \n",
            "dtypes: float64(11), int64(3)\n",
            "memory usage: 19.5 KB\n"
          ],
          "name": "stdout"
        }
      ]
    },
    {
      "cell_type": "code",
      "metadata": {
        "colab": {
          "base_uri": "https://localhost:8080/"
        },
        "id": "W4FLD5pKEIZ8",
        "outputId": "367d494a-f16b-458d-95ea-990a4aeb7bc6"
      },
      "source": [
        "data.isnull().sum()"
      ],
      "execution_count": null,
      "outputs": [
        {
          "output_type": "execute_result",
          "data": {
            "text/plain": [
              "Alcohol                         0\n",
              "Malic acid                      0\n",
              "Ash                             0\n",
              "Alcalinity of ash               0\n",
              "Magnesium                       0\n",
              "Total phenols                   0\n",
              "Flavanoids                      0\n",
              "Nonflavanoid phenols            0\n",
              "Proanthocyanins                 0\n",
              "Color intensity                 0\n",
              "Hue                             0\n",
              "OD280/OD315 of diluted wines    0\n",
              "Proline                         0\n",
              "Wine Price                      0\n",
              "dtype: int64"
            ]
          },
          "metadata": {
            "tags": []
          },
          "execution_count": 42
        }
      ]
    },
    {
      "cell_type": "code",
      "metadata": {
        "id": "1URnW_7rELZJ"
      },
      "source": [
        "import pandas_profiling"
      ],
      "execution_count": null,
      "outputs": []
    },
    {
      "cell_type": "code",
      "metadata": {
        "id": "NGAYI55CGG7U",
        "colab": {
          "base_uri": "https://localhost:8080/",
          "height": 323
        },
        "outputId": "4ea93af3-0d66-45bb-932d-8fa5fa357341"
      },
      "source": [
        "pandas_profiling.ProfileReport(data)"
      ],
      "execution_count": null,
      "outputs": [
        {
          "output_type": "error",
          "ename": "TypeError",
          "evalue": "ignored",
          "traceback": [
            "\u001b[0;31m---------------------------------------------------------------------------\u001b[0m",
            "\u001b[0;31mTypeError\u001b[0m                                 Traceback (most recent call last)",
            "\u001b[0;32m<ipython-input-44-7e92257ce716>\u001b[0m in \u001b[0;36m<module>\u001b[0;34m()\u001b[0m\n\u001b[0;32m----> 1\u001b[0;31m \u001b[0mpandas_profiling\u001b[0m\u001b[0;34m.\u001b[0m\u001b[0mProfileReport\u001b[0m\u001b[0;34m(\u001b[0m\u001b[0mdata\u001b[0m\u001b[0;34m)\u001b[0m\u001b[0;34m\u001b[0m\u001b[0;34m\u001b[0m\u001b[0m\n\u001b[0m",
            "\u001b[0;32m/usr/local/lib/python3.6/dist-packages/pandas_profiling/__init__.py\u001b[0m in \u001b[0;36m__init__\u001b[0;34m(self, df, **kwargs)\u001b[0m\n\u001b[1;32m     64\u001b[0m         \u001b[0msample\u001b[0m \u001b[0;34m=\u001b[0m \u001b[0mkwargs\u001b[0m\u001b[0;34m.\u001b[0m\u001b[0mget\u001b[0m\u001b[0;34m(\u001b[0m\u001b[0;34m'sample'\u001b[0m\u001b[0;34m,\u001b[0m \u001b[0mdf\u001b[0m\u001b[0;34m.\u001b[0m\u001b[0mhead\u001b[0m\u001b[0;34m(\u001b[0m\u001b[0;34m)\u001b[0m\u001b[0;34m)\u001b[0m\u001b[0;34m\u001b[0m\u001b[0;34m\u001b[0m\u001b[0m\n\u001b[1;32m     65\u001b[0m \u001b[0;34m\u001b[0m\u001b[0m\n\u001b[0;32m---> 66\u001b[0;31m         \u001b[0mdescription_set\u001b[0m \u001b[0;34m=\u001b[0m \u001b[0mdescribe\u001b[0m\u001b[0;34m(\u001b[0m\u001b[0mdf\u001b[0m\u001b[0;34m,\u001b[0m \u001b[0;34m**\u001b[0m\u001b[0mkwargs\u001b[0m\u001b[0;34m)\u001b[0m\u001b[0;34m\u001b[0m\u001b[0;34m\u001b[0m\u001b[0m\n\u001b[0m\u001b[1;32m     67\u001b[0m \u001b[0;34m\u001b[0m\u001b[0m\n\u001b[1;32m     68\u001b[0m         self.html = to_html(sample,\n",
            "\u001b[0;32m/usr/local/lib/python3.6/dist-packages/pandas_profiling/describe.py\u001b[0m in \u001b[0;36mdescribe\u001b[0;34m(df, bins, check_correlation, correlation_threshold, correlation_overrides, check_recoded, pool_size, **kwargs)\u001b[0m\n\u001b[1;32m    390\u001b[0m             \u001b[0;32mif\u001b[0m \u001b[0mname\u001b[0m \u001b[0;32mnot\u001b[0m \u001b[0;32min\u001b[0m \u001b[0mnames\u001b[0m\u001b[0;34m:\u001b[0m\u001b[0;34m\u001b[0m\u001b[0;34m\u001b[0m\u001b[0m\n\u001b[1;32m    391\u001b[0m                 \u001b[0mnames\u001b[0m\u001b[0;34m.\u001b[0m\u001b[0mappend\u001b[0m\u001b[0;34m(\u001b[0m\u001b[0mname\u001b[0m\u001b[0;34m)\u001b[0m\u001b[0;34m\u001b[0m\u001b[0;34m\u001b[0m\u001b[0m\n\u001b[0;32m--> 392\u001b[0;31m     \u001b[0mvariable_stats\u001b[0m \u001b[0;34m=\u001b[0m \u001b[0mpd\u001b[0m\u001b[0;34m.\u001b[0m\u001b[0mconcat\u001b[0m\u001b[0;34m(\u001b[0m\u001b[0mldesc\u001b[0m\u001b[0;34m,\u001b[0m \u001b[0mjoin_axes\u001b[0m\u001b[0;34m=\u001b[0m\u001b[0mpd\u001b[0m\u001b[0;34m.\u001b[0m\u001b[0mIndex\u001b[0m\u001b[0;34m(\u001b[0m\u001b[0;34m[\u001b[0m\u001b[0mnames\u001b[0m\u001b[0;34m]\u001b[0m\u001b[0;34m)\u001b[0m\u001b[0;34m,\u001b[0m \u001b[0maxis\u001b[0m\u001b[0;34m=\u001b[0m\u001b[0;36m1\u001b[0m\u001b[0;34m)\u001b[0m\u001b[0;34m\u001b[0m\u001b[0;34m\u001b[0m\u001b[0m\n\u001b[0m\u001b[1;32m    393\u001b[0m     \u001b[0mvariable_stats\u001b[0m\u001b[0;34m.\u001b[0m\u001b[0mcolumns\u001b[0m\u001b[0;34m.\u001b[0m\u001b[0mnames\u001b[0m \u001b[0;34m=\u001b[0m \u001b[0mdf\u001b[0m\u001b[0;34m.\u001b[0m\u001b[0mcolumns\u001b[0m\u001b[0;34m.\u001b[0m\u001b[0mnames\u001b[0m\u001b[0;34m\u001b[0m\u001b[0;34m\u001b[0m\u001b[0m\n\u001b[1;32m    394\u001b[0m \u001b[0;34m\u001b[0m\u001b[0m\n",
            "\u001b[0;31mTypeError\u001b[0m: concat() got an unexpected keyword argument 'join_axes'"
          ]
        }
      ]
    },
    {
      "cell_type": "code",
      "metadata": {
        "id": "gu-abhvSGMAz"
      },
      "source": [
        "sns.pairplot(data)"
      ],
      "execution_count": null,
      "outputs": []
    },
    {
      "cell_type": "code",
      "metadata": {
        "id": "jnxPqh0kGZA0"
      },
      "source": [
        "for i in data.columns.values:\r\n",
        "    sns.lmplot(x = i ,y='Wine Price',data=data)"
      ],
      "execution_count": null,
      "outputs": []
    },
    {
      "cell_type": "code",
      "metadata": {
        "id": "TP3Hu0m7Gss1"
      },
      "source": [
        "train_data=data.sample(frac=0.8,random_state=0)\r\n",
        "test_data=data.drop(train_data.index)"
      ],
      "execution_count": null,
      "outputs": []
    },
    {
      "cell_type": "code",
      "metadata": {
        "id": "L0WZix4RICKR"
      },
      "source": [
        "print(train_data.shape)\r\n",
        "print(test_data.shape)"
      ],
      "execution_count": null,
      "outputs": []
    },
    {
      "cell_type": "code",
      "metadata": {
        "id": "Te2y1hYIIKR3"
      },
      "source": [
        "train_data.columns"
      ],
      "execution_count": null,
      "outputs": []
    },
    {
      "cell_type": "code",
      "metadata": {
        "id": "wwHqDca8HV_b"
      },
      "source": [
        "test_data.columns"
      ],
      "execution_count": null,
      "outputs": []
    },
    {
      "cell_type": "code",
      "metadata": {
        "id": "Rp16q7yJIVEH"
      },
      "source": [
        "train_stats=train_data.describe()\r\n",
        "train_stats.pop('Wine Price')\r\n",
        "train_stats=train_stats.transpose()\r\n",
        "train_stats"
      ],
      "execution_count": null,
      "outputs": []
    },
    {
      "cell_type": "code",
      "metadata": {
        "id": "xEF-sjP8IfRV",
        "colab": {
          "base_uri": "https://localhost:8080/",
          "height": 561
        },
        "outputId": "420e529d-3e54-4ab8-e937-3585708a1cfb"
      },
      "source": [
        "train_labels=train_data.pop('Wine Price')\r\n",
        "test_labels=test_data.pop('Wine Price')"
      ],
      "execution_count": null,
      "outputs": [
        {
          "output_type": "error",
          "ename": "KeyError",
          "evalue": "ignored",
          "traceback": [
            "\u001b[0;31m---------------------------------------------------------------------------\u001b[0m",
            "\u001b[0;31mKeyError\u001b[0m                                  Traceback (most recent call last)",
            "\u001b[0;32m/usr/local/lib/python3.6/dist-packages/pandas/core/indexes/base.py\u001b[0m in \u001b[0;36mget_loc\u001b[0;34m(self, key, method, tolerance)\u001b[0m\n\u001b[1;32m   2897\u001b[0m             \u001b[0;32mtry\u001b[0m\u001b[0;34m:\u001b[0m\u001b[0;34m\u001b[0m\u001b[0;34m\u001b[0m\u001b[0m\n\u001b[0;32m-> 2898\u001b[0;31m                 \u001b[0;32mreturn\u001b[0m \u001b[0mself\u001b[0m\u001b[0;34m.\u001b[0m\u001b[0m_engine\u001b[0m\u001b[0;34m.\u001b[0m\u001b[0mget_loc\u001b[0m\u001b[0;34m(\u001b[0m\u001b[0mcasted_key\u001b[0m\u001b[0;34m)\u001b[0m\u001b[0;34m\u001b[0m\u001b[0;34m\u001b[0m\u001b[0m\n\u001b[0m\u001b[1;32m   2899\u001b[0m             \u001b[0;32mexcept\u001b[0m \u001b[0mKeyError\u001b[0m \u001b[0;32mas\u001b[0m \u001b[0merr\u001b[0m\u001b[0;34m:\u001b[0m\u001b[0;34m\u001b[0m\u001b[0;34m\u001b[0m\u001b[0m\n",
            "\u001b[0;32mpandas/_libs/index.pyx\u001b[0m in \u001b[0;36mpandas._libs.index.IndexEngine.get_loc\u001b[0;34m()\u001b[0m\n",
            "\u001b[0;32mpandas/_libs/index.pyx\u001b[0m in \u001b[0;36mpandas._libs.index.IndexEngine.get_loc\u001b[0;34m()\u001b[0m\n",
            "\u001b[0;32mpandas/_libs/hashtable_class_helper.pxi\u001b[0m in \u001b[0;36mpandas._libs.hashtable.PyObjectHashTable.get_item\u001b[0;34m()\u001b[0m\n",
            "\u001b[0;32mpandas/_libs/hashtable_class_helper.pxi\u001b[0m in \u001b[0;36mpandas._libs.hashtable.PyObjectHashTable.get_item\u001b[0;34m()\u001b[0m\n",
            "\u001b[0;31mKeyError\u001b[0m: 'Wine Price'",
            "\nThe above exception was the direct cause of the following exception:\n",
            "\u001b[0;31mKeyError\u001b[0m                                  Traceback (most recent call last)",
            "\u001b[0;32m<ipython-input-45-03446f139fcf>\u001b[0m in \u001b[0;36m<module>\u001b[0;34m()\u001b[0m\n\u001b[0;32m----> 1\u001b[0;31m \u001b[0mtrain_labels\u001b[0m\u001b[0;34m=\u001b[0m\u001b[0mtrain_data\u001b[0m\u001b[0;34m.\u001b[0m\u001b[0mpop\u001b[0m\u001b[0;34m(\u001b[0m\u001b[0;34m'Wine Price'\u001b[0m\u001b[0;34m)\u001b[0m\u001b[0;34m\u001b[0m\u001b[0;34m\u001b[0m\u001b[0m\n\u001b[0m\u001b[1;32m      2\u001b[0m \u001b[0mtest_labels\u001b[0m\u001b[0;34m=\u001b[0m\u001b[0mtest_data\u001b[0m\u001b[0;34m.\u001b[0m\u001b[0mpop\u001b[0m\u001b[0;34m(\u001b[0m\u001b[0;34m'Wine Price'\u001b[0m\u001b[0;34m)\u001b[0m\u001b[0;34m\u001b[0m\u001b[0;34m\u001b[0m\u001b[0m\n",
            "\u001b[0;32m/usr/local/lib/python3.6/dist-packages/pandas/core/frame.py\u001b[0m in \u001b[0;36mpop\u001b[0;34m(self, item)\u001b[0m\n\u001b[1;32m   4369\u001b[0m         \u001b[0;36m3\u001b[0m  \u001b[0mmonkey\u001b[0m        \u001b[0mNaN\u001b[0m\u001b[0;34m\u001b[0m\u001b[0;34m\u001b[0m\u001b[0m\n\u001b[1;32m   4370\u001b[0m         \"\"\"\n\u001b[0;32m-> 4371\u001b[0;31m         \u001b[0;32mreturn\u001b[0m \u001b[0msuper\u001b[0m\u001b[0;34m(\u001b[0m\u001b[0;34m)\u001b[0m\u001b[0;34m.\u001b[0m\u001b[0mpop\u001b[0m\u001b[0;34m(\u001b[0m\u001b[0mitem\u001b[0m\u001b[0;34m=\u001b[0m\u001b[0mitem\u001b[0m\u001b[0;34m)\u001b[0m\u001b[0;34m\u001b[0m\u001b[0;34m\u001b[0m\u001b[0m\n\u001b[0m\u001b[1;32m   4372\u001b[0m \u001b[0;34m\u001b[0m\u001b[0m\n\u001b[1;32m   4373\u001b[0m     \u001b[0;34m@\u001b[0m\u001b[0mdoc\u001b[0m\u001b[0;34m(\u001b[0m\u001b[0mNDFrame\u001b[0m\u001b[0;34m.\u001b[0m\u001b[0mreplace\u001b[0m\u001b[0;34m,\u001b[0m \u001b[0;34m**\u001b[0m\u001b[0m_shared_doc_kwargs\u001b[0m\u001b[0;34m)\u001b[0m\u001b[0;34m\u001b[0m\u001b[0;34m\u001b[0m\u001b[0m\n",
            "\u001b[0;32m/usr/local/lib/python3.6/dist-packages/pandas/core/generic.py\u001b[0m in \u001b[0;36mpop\u001b[0;34m(self, item)\u001b[0m\n\u001b[1;32m    659\u001b[0m \u001b[0;34m\u001b[0m\u001b[0m\n\u001b[1;32m    660\u001b[0m     \u001b[0;32mdef\u001b[0m \u001b[0mpop\u001b[0m\u001b[0;34m(\u001b[0m\u001b[0mself\u001b[0m\u001b[0;34m,\u001b[0m \u001b[0mitem\u001b[0m\u001b[0;34m:\u001b[0m \u001b[0mLabel\u001b[0m\u001b[0;34m)\u001b[0m \u001b[0;34m->\u001b[0m \u001b[0mUnion\u001b[0m\u001b[0;34m[\u001b[0m\u001b[0;34m\"Series\"\u001b[0m\u001b[0;34m,\u001b[0m \u001b[0mAny\u001b[0m\u001b[0;34m]\u001b[0m\u001b[0;34m:\u001b[0m\u001b[0;34m\u001b[0m\u001b[0;34m\u001b[0m\u001b[0m\n\u001b[0;32m--> 661\u001b[0;31m         \u001b[0mresult\u001b[0m \u001b[0;34m=\u001b[0m \u001b[0mself\u001b[0m\u001b[0;34m[\u001b[0m\u001b[0mitem\u001b[0m\u001b[0;34m]\u001b[0m\u001b[0;34m\u001b[0m\u001b[0;34m\u001b[0m\u001b[0m\n\u001b[0m\u001b[1;32m    662\u001b[0m         \u001b[0;32mdel\u001b[0m \u001b[0mself\u001b[0m\u001b[0;34m[\u001b[0m\u001b[0mitem\u001b[0m\u001b[0;34m]\u001b[0m\u001b[0;34m\u001b[0m\u001b[0;34m\u001b[0m\u001b[0m\n\u001b[1;32m    663\u001b[0m         \u001b[0;32mif\u001b[0m \u001b[0mself\u001b[0m\u001b[0;34m.\u001b[0m\u001b[0mndim\u001b[0m \u001b[0;34m==\u001b[0m \u001b[0;36m2\u001b[0m\u001b[0;34m:\u001b[0m\u001b[0;34m\u001b[0m\u001b[0;34m\u001b[0m\u001b[0m\n",
            "\u001b[0;32m/usr/local/lib/python3.6/dist-packages/pandas/core/frame.py\u001b[0m in \u001b[0;36m__getitem__\u001b[0;34m(self, key)\u001b[0m\n\u001b[1;32m   2904\u001b[0m             \u001b[0;32mif\u001b[0m \u001b[0mself\u001b[0m\u001b[0;34m.\u001b[0m\u001b[0mcolumns\u001b[0m\u001b[0;34m.\u001b[0m\u001b[0mnlevels\u001b[0m \u001b[0;34m>\u001b[0m \u001b[0;36m1\u001b[0m\u001b[0;34m:\u001b[0m\u001b[0;34m\u001b[0m\u001b[0;34m\u001b[0m\u001b[0m\n\u001b[1;32m   2905\u001b[0m                 \u001b[0;32mreturn\u001b[0m \u001b[0mself\u001b[0m\u001b[0;34m.\u001b[0m\u001b[0m_getitem_multilevel\u001b[0m\u001b[0;34m(\u001b[0m\u001b[0mkey\u001b[0m\u001b[0;34m)\u001b[0m\u001b[0;34m\u001b[0m\u001b[0;34m\u001b[0m\u001b[0m\n\u001b[0;32m-> 2906\u001b[0;31m             \u001b[0mindexer\u001b[0m \u001b[0;34m=\u001b[0m \u001b[0mself\u001b[0m\u001b[0;34m.\u001b[0m\u001b[0mcolumns\u001b[0m\u001b[0;34m.\u001b[0m\u001b[0mget_loc\u001b[0m\u001b[0;34m(\u001b[0m\u001b[0mkey\u001b[0m\u001b[0;34m)\u001b[0m\u001b[0;34m\u001b[0m\u001b[0;34m\u001b[0m\u001b[0m\n\u001b[0m\u001b[1;32m   2907\u001b[0m             \u001b[0;32mif\u001b[0m \u001b[0mis_integer\u001b[0m\u001b[0;34m(\u001b[0m\u001b[0mindexer\u001b[0m\u001b[0;34m)\u001b[0m\u001b[0;34m:\u001b[0m\u001b[0;34m\u001b[0m\u001b[0;34m\u001b[0m\u001b[0m\n\u001b[1;32m   2908\u001b[0m                 \u001b[0mindexer\u001b[0m \u001b[0;34m=\u001b[0m \u001b[0;34m[\u001b[0m\u001b[0mindexer\u001b[0m\u001b[0;34m]\u001b[0m\u001b[0;34m\u001b[0m\u001b[0;34m\u001b[0m\u001b[0m\n",
            "\u001b[0;32m/usr/local/lib/python3.6/dist-packages/pandas/core/indexes/base.py\u001b[0m in \u001b[0;36mget_loc\u001b[0;34m(self, key, method, tolerance)\u001b[0m\n\u001b[1;32m   2898\u001b[0m                 \u001b[0;32mreturn\u001b[0m \u001b[0mself\u001b[0m\u001b[0;34m.\u001b[0m\u001b[0m_engine\u001b[0m\u001b[0;34m.\u001b[0m\u001b[0mget_loc\u001b[0m\u001b[0;34m(\u001b[0m\u001b[0mcasted_key\u001b[0m\u001b[0;34m)\u001b[0m\u001b[0;34m\u001b[0m\u001b[0;34m\u001b[0m\u001b[0m\n\u001b[1;32m   2899\u001b[0m             \u001b[0;32mexcept\u001b[0m \u001b[0mKeyError\u001b[0m \u001b[0;32mas\u001b[0m \u001b[0merr\u001b[0m\u001b[0;34m:\u001b[0m\u001b[0;34m\u001b[0m\u001b[0;34m\u001b[0m\u001b[0m\n\u001b[0;32m-> 2900\u001b[0;31m                 \u001b[0;32mraise\u001b[0m \u001b[0mKeyError\u001b[0m\u001b[0;34m(\u001b[0m\u001b[0mkey\u001b[0m\u001b[0;34m)\u001b[0m \u001b[0;32mfrom\u001b[0m \u001b[0merr\u001b[0m\u001b[0;34m\u001b[0m\u001b[0;34m\u001b[0m\u001b[0m\n\u001b[0m\u001b[1;32m   2901\u001b[0m \u001b[0;34m\u001b[0m\u001b[0m\n\u001b[1;32m   2902\u001b[0m         \u001b[0;32mif\u001b[0m \u001b[0mtolerance\u001b[0m \u001b[0;32mis\u001b[0m \u001b[0;32mnot\u001b[0m \u001b[0;32mNone\u001b[0m\u001b[0;34m:\u001b[0m\u001b[0;34m\u001b[0m\u001b[0;34m\u001b[0m\u001b[0m\n",
            "\u001b[0;31mKeyError\u001b[0m: 'Wine Price'"
          ]
        }
      ]
    },
    {
      "cell_type": "code",
      "metadata": {
        "colab": {
          "base_uri": "https://localhost:8080/"
        },
        "id": "APeHVfZeIpPS",
        "outputId": "67f62293-03e4-4bd5-f170-0e7460329628"
      },
      "source": [
        "print(train_labels.shape)\r\n",
        "print(test_labels.shape)"
      ],
      "execution_count": null,
      "outputs": [
        {
          "output_type": "stream",
          "text": [
            "(142,)\n",
            "(35,)\n"
          ],
          "name": "stdout"
        }
      ]
    },
    {
      "cell_type": "code",
      "metadata": {
        "id": "twSFKllUIsY0"
      },
      "source": [
        "def norm(x):\r\n",
        "    return (x-train_stats['mean'])/train_stats['std']\r\n",
        "normed_train_data=norm(train_data)\r\n",
        "normed_test_data=norm(test_data)"
      ],
      "execution_count": null,
      "outputs": []
    },
    {
      "cell_type": "code",
      "metadata": {
        "id": "fAHEK2ovJZV9"
      },
      "source": [
        ""
      ],
      "execution_count": null,
      "outputs": []
    },
    {
      "cell_type": "code",
      "metadata": {
        "colab": {
          "base_uri": "https://localhost:8080/"
        },
        "id": "uZON45iZI1yj",
        "outputId": "6cb9bbf5-08bd-4404-e7de-a11b711baffc"
      },
      "source": [
        "len(train_data.keys())"
      ],
      "execution_count": null,
      "outputs": [
        {
          "output_type": "execute_result",
          "data": {
            "text/plain": [
              "13"
            ]
          },
          "metadata": {
            "tags": []
          },
          "execution_count": 48
        }
      ]
    },
    {
      "cell_type": "code",
      "metadata": {
        "id": "rSWVUsxhJaMD"
      },
      "source": [
        "from tensorflow import keras\r\n",
        "from tensorflow.keras import layers\r\n",
        "from tensorflow.keras import activations\r\n",
        "from tensorflow import keras\r\n",
        "import tensorflow as tf"
      ],
      "execution_count": null,
      "outputs": []
    },
    {
      "cell_type": "code",
      "metadata": {
        "id": "sczIiRCcI6A6"
      },
      "source": [
        "def build_model():\r\n",
        "    model=keras.Sequential([\r\n",
        "        layers.Dense(64,activation='swish',input_shape=[len(train_data.keys())]),## input layer\r\n",
        "        layers.Dense(64,activation='swish'),## hidden layer\r\n",
        "        layers.Dense(1)#output\r\n",
        "        \r\n",
        "      ])\r\n",
        "    optimizer=tf.keras.optimizers.RMSprop(0.001)\r\n",
        "    \r\n",
        "    model.compile(loss='mse',\r\n",
        "                 optimizer=optimizer,metrics=['mae','mse'])\r\n",
        "    return model"
      ],
      "execution_count": null,
      "outputs": []
    },
    {
      "cell_type": "code",
      "metadata": {
        "colab": {
          "base_uri": "https://localhost:8080/"
        },
        "id": "mnOVNSm4JHYa",
        "outputId": "d8c91fb4-f78e-4423-bd80-9471a9bf290c"
      },
      "source": [
        "model=build_model()\r\n",
        "model"
      ],
      "execution_count": null,
      "outputs": [
        {
          "output_type": "execute_result",
          "data": {
            "text/plain": [
              "<tensorflow.python.keras.engine.sequential.Sequential at 0x7f002100e588>"
            ]
          },
          "metadata": {
            "tags": []
          },
          "execution_count": 51
        }
      ]
    },
    {
      "cell_type": "code",
      "metadata": {
        "colab": {
          "base_uri": "https://localhost:8080/"
        },
        "id": "iy6VHvijJLGf",
        "outputId": "31dcb892-fff0-40d7-d042-b3885644b5bc"
      },
      "source": [
        "model.summary()"
      ],
      "execution_count": null,
      "outputs": [
        {
          "output_type": "stream",
          "text": [
            "Model: \"sequential\"\n",
            "_________________________________________________________________\n",
            "Layer (type)                 Output Shape              Param #   \n",
            "=================================================================\n",
            "dense (Dense)                (None, 64)                896       \n",
            "_________________________________________________________________\n",
            "dense_1 (Dense)              (None, 64)                4160      \n",
            "_________________________________________________________________\n",
            "dense_2 (Dense)              (None, 1)                 65        \n",
            "=================================================================\n",
            "Total params: 5,121\n",
            "Trainable params: 5,121\n",
            "Non-trainable params: 0\n",
            "_________________________________________________________________\n"
          ],
          "name": "stdout"
        }
      ]
    },
    {
      "cell_type": "code",
      "metadata": {
        "colab": {
          "base_uri": "https://localhost:8080/"
        },
        "id": "RBaW91LWJt1e",
        "outputId": "5c67b160-99e6-447e-9359-8343db4e0ebe"
      },
      "source": [
        "example_batch=normed_train_data[:10]\r\n",
        "example_result=model.predict(example_batch)\r\n",
        "example_result"
      ],
      "execution_count": null,
      "outputs": [
        {
          "output_type": "execute_result",
          "data": {
            "text/plain": [
              "array([[ 0.00601803],\n",
              "       [ 0.02136863],\n",
              "       [-0.07845664],\n",
              "       [-0.01326254],\n",
              "       [-0.13932703],\n",
              "       [ 0.0733619 ],\n",
              "       [-0.12916145],\n",
              "       [-0.17182344],\n",
              "       [-0.261953  ],\n",
              "       [-0.2945951 ]], dtype=float32)"
            ]
          },
          "metadata": {
            "tags": []
          },
          "execution_count": 53
        }
      ]
    },
    {
      "cell_type": "code",
      "metadata": {
        "colab": {
          "base_uri": "https://localhost:8080/"
        },
        "id": "F78LtxWcJ32F",
        "outputId": "9fd9627e-8510-4c53-8412-0d34d958a258"
      },
      "source": [
        "EPOCHS = 2000\r\n",
        "\r\n",
        "history = model.fit(\r\n",
        "  normed_train_data, train_labels,\r\n",
        "  epochs=EPOCHS, validation_split = 0.5, verbose=0,\r\n",
        "  callbacks=[tfdocs.modeling.EpochDots()])"
      ],
      "execution_count": null,
      "outputs": [
        {
          "output_type": "stream",
          "text": [
            "\n",
            "Epoch: 0, loss:630428.4375,  mae:733.5531,  mse:630428.4375,  val_loss:683581.4375,  val_mae:754.8814,  val_mse:683581.4375,  \n",
            "....................................................................................................\n",
            "Epoch: 100, loss:287447.4375,  mae:496.1212,  mse:287447.4375,  val_loss:283310.0938,  val_mae:493.7213,  val_mse:283310.0938,  \n",
            "....................................................................................................\n",
            "Epoch: 200, loss:59601.6328,  mae:191.7911,  mse:59601.6328,  val_loss:51060.6680,  val_mae:183.9180,  val_mse:51060.6680,  \n",
            "....................................................................................................\n",
            "Epoch: 300, loss:36814.1953,  mae:144.8188,  mse:36814.1953,  val_loss:35034.3086,  val_mae:151.5815,  val_mse:35034.3086,  \n",
            "....................................................................................................\n",
            "Epoch: 400, loss:25870.1699,  mae:117.6769,  mse:25870.1699,  val_loss:29373.2207,  val_mae:133.7139,  val_mse:29373.2207,  \n",
            "....................................................................................................\n",
            "Epoch: 500, loss:19007.0469,  mae:104.0420,  mse:19007.0469,  val_loss:25735.3008,  val_mae:130.3977,  val_mse:25735.3008,  \n",
            "....................................................................................................\n",
            "Epoch: 600, loss:13315.2764,  mae:89.3107,  mse:13315.2764,  val_loss:24815.3223,  val_mae:130.2268,  val_mse:24815.3223,  \n",
            "....................................................................................................\n",
            "Epoch: 700, loss:9886.2324,  mae:79.8736,  mse:9886.2324,  val_loss:24509.8164,  val_mae:126.5009,  val_mse:24509.8164,  \n",
            "....................................................................................................\n",
            "Epoch: 800, loss:7715.0581,  mae:70.3306,  mse:7715.0581,  val_loss:25596.4590,  val_mae:129.0006,  val_mse:25596.4590,  \n",
            "....................................................................................................\n",
            "Epoch: 900, loss:6221.2402,  mae:63.0893,  mse:6221.2402,  val_loss:27001.8652,  val_mae:132.1185,  val_mse:27001.8652,  \n",
            "....................................................................................................\n",
            "Epoch: 1000, loss:5088.7583,  mae:56.8142,  mse:5088.7583,  val_loss:28310.9688,  val_mae:135.6273,  val_mse:28310.9688,  \n",
            "....................................................................................................\n",
            "Epoch: 1100, loss:4244.5229,  mae:50.1516,  mse:4244.5229,  val_loss:29314.6504,  val_mae:139.6672,  val_mse:29314.6504,  \n",
            "....................................................................................................\n",
            "Epoch: 1200, loss:3597.9045,  mae:45.8248,  mse:3597.9045,  val_loss:30162.3457,  val_mae:141.2081,  val_mse:30162.3457,  \n",
            "....................................................................................................\n",
            "Epoch: 1300, loss:2988.4209,  mae:41.5682,  mse:2988.4209,  val_loss:30628.1836,  val_mae:142.5394,  val_mse:30628.1836,  \n",
            "....................................................................................................\n",
            "Epoch: 1400, loss:2459.2598,  mae:36.4014,  mse:2459.2598,  val_loss:32262.1094,  val_mae:146.7499,  val_mse:32262.1094,  \n",
            "....................................................................................................\n",
            "Epoch: 1500, loss:1999.5691,  mae:32.0590,  mse:1999.5691,  val_loss:32570.3066,  val_mae:146.9242,  val_mse:32570.3066,  \n",
            "....................................................................................................\n",
            "Epoch: 1600, loss:1618.9236,  mae:28.9422,  mse:1618.9236,  val_loss:33977.7500,  val_mae:150.1814,  val_mse:33977.7500,  \n",
            "....................................................................................................\n",
            "Epoch: 1700, loss:1291.6097,  mae:25.3906,  mse:1291.6097,  val_loss:35087.8438,  val_mae:152.9148,  val_mse:35087.8438,  \n",
            "....................................................................................................\n",
            "Epoch: 1800, loss:944.8578,  mae:21.6043,  mse:944.8578,  val_loss:36181.6445,  val_mae:153.6890,  val_mse:36181.6445,  \n",
            "....................................................................................................\n",
            "Epoch: 1900, loss:652.4280,  mae:17.4233,  mse:652.4280,  val_loss:36895.0078,  val_mae:154.9486,  val_mse:36895.0078,  \n",
            "....................................................................................................\n",
            "Epoch: 2000, loss:532.9623,  mae:16.0381,  mse:532.9623,  val_loss:38358.4688,  val_mae:157.5450,  val_mse:38358.4688,  \n",
            "....................................................................................................\n",
            "Epoch: 2100, loss:306.3325,  mae:11.8769,  mse:306.3325,  val_loss:39395.9453,  val_mae:158.9883,  val_mse:39395.9453,  \n",
            "....................................................................................................\n",
            "Epoch: 2200, loss:171.3637,  mae:8.7524,  mse:171.3637,  val_loss:41196.6797,  val_mae:163.0382,  val_mse:41196.6797,  \n",
            "....................................................................................................\n",
            "Epoch: 2300, loss:124.3395,  mae:6.6813,  mse:124.3395,  val_loss:42323.8516,  val_mae:164.8583,  val_mse:42323.8516,  \n",
            "....................................................................................................\n",
            "Epoch: 2400, loss:65.1999,  mae:4.9731,  mse:65.1999,  val_loss:43035.7461,  val_mae:165.1421,  val_mse:43035.7461,  \n",
            "....................................................................................................\n",
            "Epoch: 2500, loss:88.2666,  mae:6.4268,  mse:88.2666,  val_loss:43216.8008,  val_mae:165.6470,  val_mse:43216.8008,  \n",
            "....................................................................................................\n",
            "Epoch: 2600, loss:66.4899,  mae:5.2349,  mse:66.4899,  val_loss:44266.9180,  val_mae:168.0459,  val_mse:44266.9180,  \n",
            "....................................................................................................\n",
            "Epoch: 2700, loss:23.1852,  mae:2.8123,  mse:23.1852,  val_loss:44712.4492,  val_mae:168.8839,  val_mse:44712.4492,  \n",
            "....................................................................................................\n",
            "Epoch: 2800, loss:18.8214,  mae:3.1238,  mse:18.8214,  val_loss:44359.8633,  val_mae:167.3821,  val_mse:44359.8633,  \n",
            "....................................................................................................\n",
            "Epoch: 2900, loss:23.2938,  mae:3.4102,  mse:23.2938,  val_loss:44725.0039,  val_mae:167.2138,  val_mse:44725.0039,  \n",
            "....................................................................................................\n",
            "Epoch: 3000, loss:97.1327,  mae:6.4027,  mse:97.1327,  val_loss:45230.7656,  val_mae:168.3889,  val_mse:45230.7656,  \n",
            "....................................................................................................\n",
            "Epoch: 3100, loss:25.0558,  mae:3.9855,  mse:25.0558,  val_loss:45668.7266,  val_mae:170.2999,  val_mse:45668.7266,  \n",
            "....................................................................................................\n",
            "Epoch: 3200, loss:66.0209,  mae:5.4501,  mse:66.0209,  val_loss:45871.5469,  val_mae:170.3037,  val_mse:45871.5469,  \n",
            "....................................................................................................\n",
            "Epoch: 3300, loss:70.7479,  mae:6.3037,  mse:70.7479,  val_loss:45648.2266,  val_mae:168.7105,  val_mse:45648.2266,  \n",
            "....................................................................................................\n",
            "Epoch: 3400, loss:5.0961,  mae:1.8302,  mse:5.0961,  val_loss:45676.2891,  val_mae:169.2373,  val_mse:45676.2891,  \n",
            "....................................................................................................\n",
            "Epoch: 3500, loss:18.4242,  mae:3.3897,  mse:18.4242,  val_loss:45740.2617,  val_mae:169.3177,  val_mse:45740.2617,  \n",
            "....................................................................................................\n",
            "Epoch: 3600, loss:2.3113,  mae:1.1640,  mse:2.3113,  val_loss:45545.1602,  val_mae:168.6968,  val_mse:45545.1602,  \n",
            "....................................................................................................\n",
            "Epoch: 3700, loss:119.9966,  mae:8.2223,  mse:119.9966,  val_loss:45807.8359,  val_mae:169.1854,  val_mse:45807.8359,  \n",
            "....................................................................................................\n",
            "Epoch: 3800, loss:2.7211,  mae:1.2035,  mse:2.7211,  val_loss:45680.0938,  val_mae:169.3446,  val_mse:45680.0938,  \n",
            "....................................................................................................\n",
            "Epoch: 3900, loss:51.3412,  mae:4.7022,  mse:51.3412,  val_loss:45565.4727,  val_mae:168.6136,  val_mse:45565.4727,  \n",
            "....................................................................................................\n",
            "Epoch: 4000, loss:84.1972,  mae:6.2773,  mse:84.1972,  val_loss:45688.7188,  val_mae:169.7905,  val_mse:45688.7188,  \n",
            "....................................................................................................\n",
            "Epoch: 4100, loss:14.6266,  mae:2.7734,  mse:14.6266,  val_loss:45374.1250,  val_mae:168.9056,  val_mse:45374.1250,  \n",
            "....................................................................................................\n",
            "Epoch: 4200, loss:1.4331,  mae:0.9407,  mse:1.4331,  val_loss:45155.1836,  val_mae:168.1564,  val_mse:45155.1836,  \n",
            "....................................................................................................\n",
            "Epoch: 4300, loss:21.1760,  mae:3.2812,  mse:21.1760,  val_loss:45326.7656,  val_mae:168.7388,  val_mse:45326.7656,  \n",
            "....................................................................................................\n",
            "Epoch: 4400, loss:39.8464,  mae:4.2562,  mse:39.8464,  val_loss:45047.3047,  val_mae:168.4345,  val_mse:45047.3047,  \n",
            "....................................................................................................\n",
            "Epoch: 4500, loss:13.2884,  mae:2.5180,  mse:13.2884,  val_loss:45290.0781,  val_mae:168.4500,  val_mse:45290.0781,  \n",
            "....................................................................................................\n",
            "Epoch: 4600, loss:31.4739,  mae:3.7642,  mse:31.4739,  val_loss:44929.7148,  val_mae:168.0155,  val_mse:44929.7148,  \n",
            "....................................................................................................\n",
            "Epoch: 4700, loss:4.2927,  mae:1.5623,  mse:4.2927,  val_loss:44772.6641,  val_mae:167.4731,  val_mse:44772.6641,  \n",
            "....................................................................................................\n",
            "Epoch: 4800, loss:8.1282,  mae:2.3300,  mse:8.1282,  val_loss:44980.8789,  val_mae:168.4520,  val_mse:44980.8789,  \n",
            "....................................................................................................\n",
            "Epoch: 4900, loss:9.8517,  mae:2.0016,  mse:9.8517,  val_loss:45076.1289,  val_mae:168.1432,  val_mse:45076.1289,  \n",
            "...................................................................................................."
          ],
          "name": "stdout"
        }
      ]
    },
    {
      "cell_type": "code",
      "metadata": {
        "colab": {
          "base_uri": "https://localhost:8080/",
          "height": 419
        },
        "id": "Xlr7RRCHJ-E6",
        "outputId": "82af2416-263b-4361-9779-031880ec4a01"
      },
      "source": [
        "hist = pd.DataFrame(history.history)\r\n",
        "hist['epoch'] = history.epoch\r\n",
        "hist"
      ],
      "execution_count": null,
      "outputs": [
        {
          "output_type": "execute_result",
          "data": {
            "text/html": [
              "<div>\n",
              "<style scoped>\n",
              "    .dataframe tbody tr th:only-of-type {\n",
              "        vertical-align: middle;\n",
              "    }\n",
              "\n",
              "    .dataframe tbody tr th {\n",
              "        vertical-align: top;\n",
              "    }\n",
              "\n",
              "    .dataframe thead th {\n",
              "        text-align: right;\n",
              "    }\n",
              "</style>\n",
              "<table border=\"1\" class=\"dataframe\">\n",
              "  <thead>\n",
              "    <tr style=\"text-align: right;\">\n",
              "      <th></th>\n",
              "      <th>loss</th>\n",
              "      <th>mae</th>\n",
              "      <th>mse</th>\n",
              "      <th>val_loss</th>\n",
              "      <th>val_mae</th>\n",
              "      <th>val_mse</th>\n",
              "      <th>epoch</th>\n",
              "    </tr>\n",
              "  </thead>\n",
              "  <tbody>\n",
              "    <tr>\n",
              "      <th>0</th>\n",
              "      <td>630428.437500</td>\n",
              "      <td>733.553101</td>\n",
              "      <td>630428.437500</td>\n",
              "      <td>683581.437500</td>\n",
              "      <td>754.881409</td>\n",
              "      <td>683581.437500</td>\n",
              "      <td>0</td>\n",
              "    </tr>\n",
              "    <tr>\n",
              "      <th>1</th>\n",
              "      <td>630041.312500</td>\n",
              "      <td>733.319031</td>\n",
              "      <td>630041.312500</td>\n",
              "      <td>683230.312500</td>\n",
              "      <td>754.709473</td>\n",
              "      <td>683230.312500</td>\n",
              "      <td>1</td>\n",
              "    </tr>\n",
              "    <tr>\n",
              "      <th>2</th>\n",
              "      <td>629727.500000</td>\n",
              "      <td>733.149231</td>\n",
              "      <td>629727.500000</td>\n",
              "      <td>682997.937500</td>\n",
              "      <td>754.571289</td>\n",
              "      <td>682997.937500</td>\n",
              "      <td>2</td>\n",
              "    </tr>\n",
              "    <tr>\n",
              "      <th>3</th>\n",
              "      <td>629486.000000</td>\n",
              "      <td>733.001648</td>\n",
              "      <td>629486.000000</td>\n",
              "      <td>682748.187500</td>\n",
              "      <td>754.419922</td>\n",
              "      <td>682748.187500</td>\n",
              "      <td>3</td>\n",
              "    </tr>\n",
              "    <tr>\n",
              "      <th>4</th>\n",
              "      <td>629219.125000</td>\n",
              "      <td>732.836243</td>\n",
              "      <td>629219.125000</td>\n",
              "      <td>682462.562500</td>\n",
              "      <td>754.259033</td>\n",
              "      <td>682462.562500</td>\n",
              "      <td>4</td>\n",
              "    </tr>\n",
              "    <tr>\n",
              "      <th>...</th>\n",
              "      <td>...</td>\n",
              "      <td>...</td>\n",
              "      <td>...</td>\n",
              "      <td>...</td>\n",
              "      <td>...</td>\n",
              "      <td>...</td>\n",
              "      <td>...</td>\n",
              "    </tr>\n",
              "    <tr>\n",
              "      <th>4995</th>\n",
              "      <td>24.824915</td>\n",
              "      <td>3.349796</td>\n",
              "      <td>24.824915</td>\n",
              "      <td>44938.195312</td>\n",
              "      <td>167.705444</td>\n",
              "      <td>44938.195312</td>\n",
              "      <td>4995</td>\n",
              "    </tr>\n",
              "    <tr>\n",
              "      <th>4996</th>\n",
              "      <td>19.237957</td>\n",
              "      <td>3.466237</td>\n",
              "      <td>19.237957</td>\n",
              "      <td>45001.535156</td>\n",
              "      <td>168.411911</td>\n",
              "      <td>45001.535156</td>\n",
              "      <td>4996</td>\n",
              "    </tr>\n",
              "    <tr>\n",
              "      <th>4997</th>\n",
              "      <td>30.230207</td>\n",
              "      <td>3.902889</td>\n",
              "      <td>30.230207</td>\n",
              "      <td>44906.875000</td>\n",
              "      <td>168.143646</td>\n",
              "      <td>44906.875000</td>\n",
              "      <td>4997</td>\n",
              "    </tr>\n",
              "    <tr>\n",
              "      <th>4998</th>\n",
              "      <td>12.082615</td>\n",
              "      <td>2.463483</td>\n",
              "      <td>12.082615</td>\n",
              "      <td>45099.250000</td>\n",
              "      <td>167.960022</td>\n",
              "      <td>45099.250000</td>\n",
              "      <td>4998</td>\n",
              "    </tr>\n",
              "    <tr>\n",
              "      <th>4999</th>\n",
              "      <td>75.903999</td>\n",
              "      <td>5.968022</td>\n",
              "      <td>75.903999</td>\n",
              "      <td>45559.847656</td>\n",
              "      <td>169.261566</td>\n",
              "      <td>45559.847656</td>\n",
              "      <td>4999</td>\n",
              "    </tr>\n",
              "  </tbody>\n",
              "</table>\n",
              "<p>5000 rows × 7 columns</p>\n",
              "</div>"
            ],
            "text/plain": [
              "               loss         mae  ...        val_mse  epoch\n",
              "0     630428.437500  733.553101  ...  683581.437500      0\n",
              "1     630041.312500  733.319031  ...  683230.312500      1\n",
              "2     629727.500000  733.149231  ...  682997.937500      2\n",
              "3     629486.000000  733.001648  ...  682748.187500      3\n",
              "4     629219.125000  732.836243  ...  682462.562500      4\n",
              "...             ...         ...  ...            ...    ...\n",
              "4995      24.824915    3.349796  ...   44938.195312   4995\n",
              "4996      19.237957    3.466237  ...   45001.535156   4996\n",
              "4997      30.230207    3.902889  ...   44906.875000   4997\n",
              "4998      12.082615    2.463483  ...   45099.250000   4998\n",
              "4999      75.903999    5.968022  ...   45559.847656   4999\n",
              "\n",
              "[5000 rows x 7 columns]"
            ]
          },
          "metadata": {
            "tags": []
          },
          "execution_count": 55
        }
      ]
    },
    {
      "cell_type": "code",
      "metadata": {
        "colab": {
          "base_uri": "https://localhost:8080/"
        },
        "id": "yikqk7DGKWs1",
        "outputId": "3a963358-d237-4ab4-a96d-7afc8683d5ca"
      },
      "source": [
        "plotter = tfdocs.plots.HistoryPlotter(smoothing_std=2)\r\n",
        "plotter"
      ],
      "execution_count": null,
      "outputs": [
        {
          "output_type": "execute_result",
          "data": {
            "text/plain": [
              "<tensorflow_docs.plots.HistoryPlotter at 0x7f0020caacc0>"
            ]
          },
          "metadata": {
            "tags": []
          },
          "execution_count": 56
        }
      ]
    },
    {
      "cell_type": "code",
      "metadata": {
        "colab": {
          "base_uri": "https://localhost:8080/"
        },
        "id": "JZjJibzwKk2s",
        "outputId": "1df10671-53ac-40a6-8aa9-4e0c4f3658bd"
      },
      "source": [
        "import matplotlib.pyplot as plt\r\n",
        "plt.figure(figsize=(16,9))\r\n",
        "plotter.plot({'Basic': history}, metric = \"mae\")\r\n",
        "plt.ylim([0, 10])\r\n",
        "plt.ylabel('MAE [Wine Price]')\r\n"
      ],
      "execution_count": null,
      "outputs": [
        {
          "output_type": "execute_result",
          "data": {
            "text/plain": [
              "Text(0, 0.5, 'MAE [Wine Price]')"
            ]
          },
          "metadata": {
            "tags": []
          },
          "execution_count": 57
        }
      ]
    },
    {
      "cell_type": "code",
      "metadata": {
        "colab": {
          "base_uri": "https://localhost:8080/"
        },
        "id": "Ul3WrsEaKq-0",
        "outputId": "d803fad0-16fe-4e81-d543-abcce6b860b1"
      },
      "source": [
        "plt.figure(figsize=(16,9))\r\n",
        "plotter.plot({'Basic': history}, metric = \"mse\")\r\n",
        "plt.ylim([0, 20])\r\n",
        "plt.ylabel('MSE [Wine Price^2]')"
      ],
      "execution_count": null,
      "outputs": [
        {
          "output_type": "execute_result",
          "data": {
            "text/plain": [
              "Text(0, 0.5, 'MSE [Wine Price^2]')"
            ]
          },
          "metadata": {
            "tags": []
          },
          "execution_count": 58
        }
      ]
    },
    {
      "cell_type": "code",
      "metadata": {
        "colab": {
          "base_uri": "https://localhost:8080/"
        },
        "id": "LDwIj2cyKzIm",
        "outputId": "e480d238-4aea-4d8e-e612-6849ebad848b"
      },
      "source": [
        "model = build_model()\r\n",
        "\r\n",
        "# The patience parameter is the amount of epochs to check for improvement\r\n",
        "early_stop = keras.callbacks.EarlyStopping(monitor='val_loss', patience=20)\r\n",
        "\r\n",
        "early_history = model.fit(normed_train_data, train_labels, \r\n",
        "                    epochs=EPOCHS, validation_split = 0.2, verbose=0, \r\n",
        "                    callbacks=[early_stop, tfdocs.modeling.EpochDots()])"
      ],
      "execution_count": null,
      "outputs": [
        {
          "output_type": "stream",
          "text": [
            "\n",
            "Epoch: 0, loss:632037.2500,  mae:729.2783,  mse:632037.2500,  val_loss:753053.9375,  val_mae:801.7697,  val_mse:753053.9375,  \n",
            "....................................................................................................\n",
            "Epoch: 100, loss:123419.0078,  mae:302.6990,  mse:123419.0078,  val_loss:92667.4766,  val_mae:269.2137,  val_mse:92667.4766,  \n",
            "....................................................................................................\n",
            "Epoch: 200, loss:38080.0078,  mae:157.5627,  mse:38080.0078,  val_loss:36292.0859,  val_mae:157.5733,  val_mse:36292.0859,  \n",
            "....................................................................................................\n",
            "Epoch: 300, loss:22646.8027,  mae:117.5643,  mse:22646.8027,  val_loss:27784.6367,  val_mae:131.2036,  val_mse:27784.6367,  \n",
            "....................................................................................................\n",
            "Epoch: 400, loss:16201.6992,  mae:98.8338,  mse:16201.6992,  val_loss:21406.7734,  val_mae:117.7135,  val_mse:21406.7734,  \n",
            "....................................................................................................\n",
            "Epoch: 500, loss:12269.6260,  mae:86.0844,  mse:12269.6260,  val_loss:19219.3320,  val_mae:114.8295,  val_mse:19219.3320,  \n",
            "............"
          ],
          "name": "stdout"
        }
      ]
    },
    {
      "cell_type": "code",
      "metadata": {
        "colab": {
          "base_uri": "https://localhost:8080/"
        },
        "id": "Q5nyFpF1K63u",
        "outputId": "784535b0-5bd1-4756-881b-983b18c2bce3"
      },
      "source": [
        "plotter.plot({'Early Stopping': early_history}, metric = \"mae\")\r\n",
        "plt.ylim([0, 10])\r\n",
        "plt.ylabel('MAE [Wine Price]')"
      ],
      "execution_count": null,
      "outputs": [
        {
          "output_type": "execute_result",
          "data": {
            "text/plain": [
              "Text(152.73611111111111, 0.5, 'MAE [Wine Price]')"
            ]
          },
          "metadata": {
            "tags": []
          },
          "execution_count": 60
        }
      ]
    },
    {
      "cell_type": "code",
      "metadata": {
        "colab": {
          "base_uri": "https://localhost:8080/"
        },
        "id": "L9dXvv0DLtMu",
        "outputId": "5b9f3c97-ab04-4dbc-96db-f2135c3b55cf"
      },
      "source": [
        "loss, mae, mse = model.evaluate(normed_test_data, test_labels, verbose=2)\r\n",
        "\r\n",
        "print(\"Testing set Mean Abs Error: {:10.2f} Wine Price\".format(mae))"
      ],
      "execution_count": null,
      "outputs": [
        {
          "output_type": "stream",
          "text": [
            "2/2 - 0s - loss: 39243.1914 - mae: 167.5405 - mse: 39243.1914\n",
            "Testing set Mean Abs Error:     167.54 Wine Price\n"
          ],
          "name": "stdout"
        }
      ]
    },
    {
      "cell_type": "code",
      "metadata": {
        "id": "_d8BZpsyLyZr"
      },
      "source": [
        "test_predictions = model.predict(normed_test_data).flatten()\r\n",
        "plt.figure(figsize=(16,9))\r\n",
        "a = plt.axes(aspect='equal')\r\n",
        "plt.scatter(test_labels, test_predictions)\r\n",
        "plt.xlabel('True Values [Wine Price]')\r\n",
        "plt.ylabel('Predictions [Wine Price]')\r\n",
        "lims = [0, 50]\r\n",
        "plt.xlim(lims)\r\n",
        "plt.ylim(lims)\r\n",
        "_ = plt.plot(lims, lims)"
      ],
      "execution_count": null,
      "outputs": []
    },
    {
      "cell_type": "code",
      "metadata": {
        "colab": {
          "base_uri": "https://localhost:8080/"
        },
        "id": "SX89j2R1MAKq",
        "outputId": "845518d9-787f-4271-e30f-e59d3fd19abe"
      },
      "source": [
        "test_predictions.shape"
      ],
      "execution_count": null,
      "outputs": [
        {
          "output_type": "execute_result",
          "data": {
            "text/plain": [
              "(35,)"
            ]
          },
          "metadata": {
            "tags": []
          },
          "execution_count": 63
        }
      ]
    },
    {
      "cell_type": "code",
      "metadata": {
        "id": "r31aISc0MCz4"
      },
      "source": [
        "error = test_predictions - test_labels\r\n",
        "plt.hist(error, bins = 100)\r\n",
        "plt.xlabel(\"Prediction Error [Wine Price]\")\r\n",
        "_ = plt.ylabel(\"Count\")"
      ],
      "execution_count": null,
      "outputs": []
    },
    {
      "cell_type": "code",
      "metadata": {
        "colab": {
          "base_uri": "https://localhost:8080/",
          "height": 204
        },
        "id": "U7WSPfBKMNAH",
        "outputId": "98b085be-e19d-45b8-b085-7c1b66dd0e64"
      },
      "source": [
        "hist = pd.DataFrame(history.history)\r\n",
        "hist['epoch']= history.epoch\r\n",
        "hist.head()"
      ],
      "execution_count": null,
      "outputs": [
        {
          "output_type": "execute_result",
          "data": {
            "text/html": [
              "<div>\n",
              "<style scoped>\n",
              "    .dataframe tbody tr th:only-of-type {\n",
              "        vertical-align: middle;\n",
              "    }\n",
              "\n",
              "    .dataframe tbody tr th {\n",
              "        vertical-align: top;\n",
              "    }\n",
              "\n",
              "    .dataframe thead th {\n",
              "        text-align: right;\n",
              "    }\n",
              "</style>\n",
              "<table border=\"1\" class=\"dataframe\">\n",
              "  <thead>\n",
              "    <tr style=\"text-align: right;\">\n",
              "      <th></th>\n",
              "      <th>loss</th>\n",
              "      <th>mae</th>\n",
              "      <th>mse</th>\n",
              "      <th>val_loss</th>\n",
              "      <th>val_mae</th>\n",
              "      <th>val_mse</th>\n",
              "      <th>epoch</th>\n",
              "    </tr>\n",
              "  </thead>\n",
              "  <tbody>\n",
              "    <tr>\n",
              "      <th>0</th>\n",
              "      <td>630428.4375</td>\n",
              "      <td>733.553101</td>\n",
              "      <td>630428.4375</td>\n",
              "      <td>683581.4375</td>\n",
              "      <td>754.881409</td>\n",
              "      <td>683581.4375</td>\n",
              "      <td>0</td>\n",
              "    </tr>\n",
              "    <tr>\n",
              "      <th>1</th>\n",
              "      <td>630041.3125</td>\n",
              "      <td>733.319031</td>\n",
              "      <td>630041.3125</td>\n",
              "      <td>683230.3125</td>\n",
              "      <td>754.709473</td>\n",
              "      <td>683230.3125</td>\n",
              "      <td>1</td>\n",
              "    </tr>\n",
              "    <tr>\n",
              "      <th>2</th>\n",
              "      <td>629727.5000</td>\n",
              "      <td>733.149231</td>\n",
              "      <td>629727.5000</td>\n",
              "      <td>682997.9375</td>\n",
              "      <td>754.571289</td>\n",
              "      <td>682997.9375</td>\n",
              "      <td>2</td>\n",
              "    </tr>\n",
              "    <tr>\n",
              "      <th>3</th>\n",
              "      <td>629486.0000</td>\n",
              "      <td>733.001648</td>\n",
              "      <td>629486.0000</td>\n",
              "      <td>682748.1875</td>\n",
              "      <td>754.419922</td>\n",
              "      <td>682748.1875</td>\n",
              "      <td>3</td>\n",
              "    </tr>\n",
              "    <tr>\n",
              "      <th>4</th>\n",
              "      <td>629219.1250</td>\n",
              "      <td>732.836243</td>\n",
              "      <td>629219.1250</td>\n",
              "      <td>682462.5625</td>\n",
              "      <td>754.259033</td>\n",
              "      <td>682462.5625</td>\n",
              "      <td>4</td>\n",
              "    </tr>\n",
              "  </tbody>\n",
              "</table>\n",
              "</div>"
            ],
            "text/plain": [
              "          loss         mae          mse  ...     val_mae      val_mse  epoch\n",
              "0  630428.4375  733.553101  630428.4375  ...  754.881409  683581.4375      0\n",
              "1  630041.3125  733.319031  630041.3125  ...  754.709473  683230.3125      1\n",
              "2  629727.5000  733.149231  629727.5000  ...  754.571289  682997.9375      2\n",
              "3  629486.0000  733.001648  629486.0000  ...  754.419922  682748.1875      3\n",
              "4  629219.1250  732.836243  629219.1250  ...  754.259033  682462.5625      4\n",
              "\n",
              "[5 rows x 7 columns]"
            ]
          },
          "metadata": {
            "tags": []
          },
          "execution_count": 65
        }
      ]
    },
    {
      "cell_type": "code",
      "metadata": {
        "colab": {
          "base_uri": "https://localhost:8080/",
          "height": 204
        },
        "id": "3m6vmt9FMQKG",
        "outputId": "6b6855ca-a8a6-4aef-b264-395f3394011e"
      },
      "source": [
        "hist.tail()"
      ],
      "execution_count": null,
      "outputs": [
        {
          "output_type": "execute_result",
          "data": {
            "text/html": [
              "<div>\n",
              "<style scoped>\n",
              "    .dataframe tbody tr th:only-of-type {\n",
              "        vertical-align: middle;\n",
              "    }\n",
              "\n",
              "    .dataframe tbody tr th {\n",
              "        vertical-align: top;\n",
              "    }\n",
              "\n",
              "    .dataframe thead th {\n",
              "        text-align: right;\n",
              "    }\n",
              "</style>\n",
              "<table border=\"1\" class=\"dataframe\">\n",
              "  <thead>\n",
              "    <tr style=\"text-align: right;\">\n",
              "      <th></th>\n",
              "      <th>loss</th>\n",
              "      <th>mae</th>\n",
              "      <th>mse</th>\n",
              "      <th>val_loss</th>\n",
              "      <th>val_mae</th>\n",
              "      <th>val_mse</th>\n",
              "      <th>epoch</th>\n",
              "    </tr>\n",
              "  </thead>\n",
              "  <tbody>\n",
              "    <tr>\n",
              "      <th>4995</th>\n",
              "      <td>24.824915</td>\n",
              "      <td>3.349796</td>\n",
              "      <td>24.824915</td>\n",
              "      <td>44938.195312</td>\n",
              "      <td>167.705444</td>\n",
              "      <td>44938.195312</td>\n",
              "      <td>4995</td>\n",
              "    </tr>\n",
              "    <tr>\n",
              "      <th>4996</th>\n",
              "      <td>19.237957</td>\n",
              "      <td>3.466237</td>\n",
              "      <td>19.237957</td>\n",
              "      <td>45001.535156</td>\n",
              "      <td>168.411911</td>\n",
              "      <td>45001.535156</td>\n",
              "      <td>4996</td>\n",
              "    </tr>\n",
              "    <tr>\n",
              "      <th>4997</th>\n",
              "      <td>30.230207</td>\n",
              "      <td>3.902889</td>\n",
              "      <td>30.230207</td>\n",
              "      <td>44906.875000</td>\n",
              "      <td>168.143646</td>\n",
              "      <td>44906.875000</td>\n",
              "      <td>4997</td>\n",
              "    </tr>\n",
              "    <tr>\n",
              "      <th>4998</th>\n",
              "      <td>12.082615</td>\n",
              "      <td>2.463483</td>\n",
              "      <td>12.082615</td>\n",
              "      <td>45099.250000</td>\n",
              "      <td>167.960022</td>\n",
              "      <td>45099.250000</td>\n",
              "      <td>4998</td>\n",
              "    </tr>\n",
              "    <tr>\n",
              "      <th>4999</th>\n",
              "      <td>75.903999</td>\n",
              "      <td>5.968022</td>\n",
              "      <td>75.903999</td>\n",
              "      <td>45559.847656</td>\n",
              "      <td>169.261566</td>\n",
              "      <td>45559.847656</td>\n",
              "      <td>4999</td>\n",
              "    </tr>\n",
              "  </tbody>\n",
              "</table>\n",
              "</div>"
            ],
            "text/plain": [
              "           loss       mae        mse  ...     val_mae       val_mse  epoch\n",
              "4995  24.824915  3.349796  24.824915  ...  167.705444  44938.195312   4995\n",
              "4996  19.237957  3.466237  19.237957  ...  168.411911  45001.535156   4996\n",
              "4997  30.230207  3.902889  30.230207  ...  168.143646  44906.875000   4997\n",
              "4998  12.082615  2.463483  12.082615  ...  167.960022  45099.250000   4998\n",
              "4999  75.903999  5.968022  75.903999  ...  169.261566  45559.847656   4999\n",
              "\n",
              "[5 rows x 7 columns]"
            ]
          },
          "metadata": {
            "tags": []
          },
          "execution_count": 66
        }
      ]
    },
    {
      "cell_type": "code",
      "metadata": {
        "id": "Aq428kVSMgVH"
      },
      "source": [
        "plotter = tfdocs.plots.HistoryPlotter(smoothing_std=2)"
      ],
      "execution_count": null,
      "outputs": []
    },
    {
      "cell_type": "code",
      "metadata": {
        "colab": {
          "base_uri": "https://localhost:8080/"
        },
        "id": "0A3VzYBrMkpL",
        "outputId": "f098e17c-9fd4-4b9f-ab90-b6ba706e88cb"
      },
      "source": [
        "plt.figure(figsize=(16,9))\r\n",
        "plotter.plot({'Basic': history}, metric ='mae')\r\n",
        "plt.ylim([0, 20])\r\n",
        "plt.ylabel('MSE [Wine Price^2]')"
      ],
      "execution_count": null,
      "outputs": [
        {
          "output_type": "execute_result",
          "data": {
            "text/plain": [
              "Text(0, 0.5, 'MSE [Wine Price^2]')"
            ]
          },
          "metadata": {
            "tags": []
          },
          "execution_count": 68
        }
      ]
    },
    {
      "cell_type": "code",
      "metadata": {
        "colab": {
          "base_uri": "https://localhost:8080/"
        },
        "id": "8UgHXX2jMqwo",
        "outputId": "79238e2e-656f-42bb-857d-cdbff5a2d216"
      },
      "source": [
        "model = build_model()\r\n",
        "\r\n",
        "early_stop = keras.callbacks.EarlyStopping(monitor='val_loss',patience=10)\r\n",
        "\r\n",
        "early_history = model.fit(normed_train_data,train_labels, epochs=EPOCHS, validation_split= 0.2, verbose=0, callbacks=[early_stop, tfdocs.modeling.EpochDots()])"
      ],
      "execution_count": null,
      "outputs": [
        {
          "output_type": "stream",
          "text": [
            "\n",
            "Epoch: 0, loss:632288.0000,  mae:729.3585,  mse:632288.0000,  val_loss:753519.8750,  val_mae:801.9898,  val_mse:753519.8750,  \n",
            "....................................................................................................\n",
            "Epoch: 100, loss:123763.0156,  mae:298.8569,  mse:123763.0156,  val_loss:105278.7812,  val_mae:275.4846,  val_mse:105278.7812,  \n",
            "....................................................................................................\n",
            "Epoch: 200, loss:39244.9062,  mae:155.1581,  mse:39244.9062,  val_loss:40453.3203,  val_mae:156.2334,  val_mse:40453.3203,  \n",
            "..................."
          ],
          "name": "stdout"
        }
      ]
    },
    {
      "cell_type": "code",
      "metadata": {
        "colab": {
          "base_uri": "https://localhost:8080/"
        },
        "id": "-7aOxkvEMw7_",
        "outputId": "48769288-0623-4b8c-c367-be01b633bc96"
      },
      "source": [
        "plotter.plot({'Early Stopping': early_history}, metric = 'mae')\r\n",
        "plt.ylim([0, 10])\r\n",
        "plt.ylabel('MAE [Wine Price')"
      ],
      "execution_count": null,
      "outputs": [
        {
          "output_type": "execute_result",
          "data": {
            "text/plain": [
              "Text(152.73611111111111, 0.5, 'MAE [Wine Price')"
            ]
          },
          "metadata": {
            "tags": []
          },
          "execution_count": 70
        }
      ]
    },
    {
      "cell_type": "code",
      "metadata": {
        "colab": {
          "base_uri": "https://localhost:8080/"
        },
        "id": "PwDLS9CrM69t",
        "outputId": "67ab5ae8-746e-480a-adaa-17b7e9003d4f"
      },
      "source": [
        "loss, mae, mse = model.evaluate(normed_test_data, test_labels, verbose=2)\r\n",
        "print('testing se Mean Abs Error: {:10.2f} Wine Price'.format(mae))"
      ],
      "execution_count": null,
      "outputs": [
        {
          "output_type": "stream",
          "text": [
            "2/2 - 0s - loss: 51674.5508 - mae: 184.9150 - mse: 51674.5508\n",
            "testing se Mean Abs Error:     184.91 Wine Price\n"
          ],
          "name": "stdout"
        }
      ]
    },
    {
      "cell_type": "code",
      "metadata": {
        "colab": {
          "base_uri": "https://localhost:8080/"
        },
        "id": "9MVZTjzANDzI",
        "outputId": "d602a04b-6d1a-4b2e-fb88-94eb01440252"
      },
      "source": [
        "test_predictions = model.predict(normed_test_data).flatten()\r\n",
        "plt.figure(figsize=(16, 9))\r\n",
        "a= plt.axes(aspect='equal')\r\n",
        "plt.scatter(test_labels, test_predictions)\r\n",
        "plt.xlabel(\"True_values [Wine Price]\")\r\n",
        "plt.xlabel('predictions [Wine Price]')\r\n",
        "plt.xlim(lims)"
      ],
      "execution_count": null,
      "outputs": [
        {
          "output_type": "execute_result",
          "data": {
            "text/plain": [
              "(0.0, 50.0)"
            ]
          },
          "metadata": {
            "tags": []
          },
          "execution_count": 72
        }
      ]
    },
    {
      "cell_type": "code",
      "metadata": {
        "id": "MWEi_faGNQ_V"
      },
      "source": [
        "from keras.layers import BatchNormalization"
      ],
      "execution_count": null,
      "outputs": []
    },
    {
      "cell_type": "code",
      "metadata": {
        "id": "NlUxuwBDYj-c"
      },
      "source": [
        "from keras.layers.normalization import BatchNormalization"
      ],
      "execution_count": null,
      "outputs": []
    },
    {
      "cell_type": "code",
      "metadata": {
        "id": "_liT5OcRZCtz"
      },
      "source": [
        "model = keras.Sequential()"
      ],
      "execution_count": null,
      "outputs": []
    },
    {
      "cell_type": "code",
      "metadata": {
        "id": "kdFWLUauZFTH"
      },
      "source": [
        "model.add(keras.layers.Dense(64, input_dim=13))"
      ],
      "execution_count": null,
      "outputs": []
    },
    {
      "cell_type": "code",
      "metadata": {
        "id": "16i0QC48ZJq_"
      },
      "source": [
        "model.add(keras.layers.Dense(32, activation='swish'))"
      ],
      "execution_count": null,
      "outputs": []
    },
    {
      "cell_type": "code",
      "metadata": {
        "id": "OH0RpiUgZN-8"
      },
      "source": [
        "w1=model.weights"
      ],
      "execution_count": null,
      "outputs": []
    },
    {
      "cell_type": "code",
      "metadata": {
        "id": "aZBFd-LOZQmM"
      },
      "source": [
        "model.add(tf.keras.layers.BatchNormalization(epsilon=0.01))"
      ],
      "execution_count": null,
      "outputs": []
    },
    {
      "cell_type": "code",
      "metadata": {
        "id": "kWVjEcdvZisU"
      },
      "source": [
        "w2=model.weights"
      ],
      "execution_count": null,
      "outputs": []
    },
    {
      "cell_type": "code",
      "metadata": {
        "colab": {
          "base_uri": "https://localhost:8080/"
        },
        "id": "lMJOa1W4bjAQ",
        "outputId": "8fab6785-e85c-4c5b-bd5e-60df36ed9f93"
      },
      "source": [
        "w1"
      ],
      "execution_count": null,
      "outputs": [
        {
          "output_type": "execute_result",
          "data": {
            "text/plain": [
              "[<tf.Variable 'dense_9/kernel:0' shape=(14, 64) dtype=float32, numpy=\n",
              " array([[ 2.45440990e-01,  8.84953737e-02, -5.31672090e-02,\n",
              "          3.60937119e-02, -6.01400733e-02, -1.41192839e-01,\n",
              "          3.29735875e-03, -1.63076058e-01, -2.57370979e-01,\n",
              "          2.58610547e-02,  8.65457952e-02, -1.31765470e-01,\n",
              "          5.49417436e-02, -1.19112238e-01,  2.76895911e-01,\n",
              "          7.57124126e-02, -1.19965851e-01, -2.71185696e-01,\n",
              "          1.95727259e-01, -2.68169969e-01,  1.81108534e-01,\n",
              "          1.98433250e-01, -2.36462831e-01,  1.64894640e-01,\n",
              "         -1.85913324e-01, -3.39404643e-02, -1.51723117e-01,\n",
              "          2.42795020e-01,  4.94042039e-02,  8.65535438e-02,\n",
              "          2.10993826e-01,  2.53856689e-01, -2.42317110e-01,\n",
              "          1.39640152e-01,  2.48387426e-01, -1.50207520e-01,\n",
              "          2.43249029e-01, -7.64018297e-02, -2.41353273e-01,\n",
              "         -1.03315547e-01,  4.28481996e-02, -6.03501499e-02,\n",
              "          1.48934275e-01,  1.23885036e-01, -2.23928034e-01,\n",
              "         -2.20742434e-01, -2.57096291e-01, -1.61549032e-01,\n",
              "          1.20268315e-01,  2.41539270e-01,  1.20113254e-01,\n",
              "         -9.82785076e-02, -4.78289127e-02, -9.69591737e-03,\n",
              "          1.47021413e-02, -8.58381242e-02,  5.24243712e-03,\n",
              "          1.57202393e-01, -2.73337603e-01,  2.72719651e-01,\n",
              "          2.21678108e-01, -2.65144616e-01, -5.52057326e-02,\n",
              "         -1.41888350e-01],\n",
              "        [ 6.19999170e-02,  5.87030351e-02,  2.30092019e-01,\n",
              "         -2.26771235e-02,  2.31348783e-01,  1.49360925e-01,\n",
              "         -1.37426272e-01, -7.46816546e-02, -2.50877440e-01,\n",
              "         -2.01245308e-01, -1.50927752e-01, -5.58343232e-02,\n",
              "         -1.13799661e-01, -2.75974691e-01, -1.60016894e-01,\n",
              "          1.33864880e-02, -1.32537484e-01,  7.77995288e-02,\n",
              "          1.78142488e-02,  4.36875522e-02, -2.47205973e-01,\n",
              "         -1.69058233e-01, -1.30718172e-01, -2.58162320e-02,\n",
              "          1.59211457e-02, -1.87524199e-01,  6.39828742e-02,\n",
              "         -2.55820185e-01,  2.63278484e-02, -1.34736612e-01,\n",
              "          1.24032706e-01,  1.47221953e-01,  1.10057414e-01,\n",
              "         -2.08716944e-01, -8.92422050e-02,  5.01291454e-02,\n",
              "         -1.34168342e-01,  6.70266449e-02, -7.02378154e-03,\n",
              "          1.70844853e-01, -2.61582494e-01,  1.71525031e-01,\n",
              "          1.30966485e-01, -3.97586972e-02, -1.57218531e-01,\n",
              "          2.74283677e-01,  8.98942053e-02,  7.23860264e-02,\n",
              "          2.39493400e-01, -1.27072021e-01,  2.64262766e-01,\n",
              "          2.63369590e-01, -9.89031941e-02,  1.26848847e-01,\n",
              "          1.09681696e-01, -1.30380139e-01,  6.09883964e-02,\n",
              "          1.45694524e-01, -2.10044801e-01, -1.66000396e-01,\n",
              "          1.10457867e-01, -1.81147069e-01, -1.90666318e-03,\n",
              "         -6.73308969e-03],\n",
              "        [-2.30854347e-01, -1.13358662e-01, -1.67776257e-01,\n",
              "          2.55574882e-02, -2.62889564e-02, -8.02657008e-03,\n",
              "          1.96251571e-02, -2.20889971e-01, -1.58114791e-01,\n",
              "         -1.05616450e-03,  7.39341080e-02,  3.34575772e-03,\n",
              "          1.33297205e-01,  7.30484128e-02, -1.55865669e-01,\n",
              "          2.34264404e-01,  4.72752452e-02, -2.17276677e-01,\n",
              "          4.96637523e-02, -2.04959825e-01,  3.01020741e-02,\n",
              "         -2.01199934e-01,  7.67925084e-02,  5.15328646e-02,\n",
              "          9.99602079e-02,  2.41971225e-01, -1.66116834e-01,\n",
              "          4.82355952e-02,  1.07736886e-02, -1.26859561e-01,\n",
              "          2.46869594e-01,  2.12764442e-02,  3.15250158e-02,\n",
              "          1.16292506e-01, -1.06752336e-01,  2.55668849e-01,\n",
              "          1.74230546e-01, -1.02818146e-01, -7.11178184e-02,\n",
              "         -1.96475685e-02, -1.50565386e-01,  2.29610413e-01,\n",
              "         -1.14657775e-01,  2.03434914e-01, -1.49759382e-01,\n",
              "         -7.19808936e-02,  2.24097401e-01, -2.77026445e-02,\n",
              "          1.20516419e-01,  1.28537685e-01,  1.94043040e-01,\n",
              "         -2.39193752e-01,  2.64129728e-01, -8.28684419e-02,\n",
              "         -3.68988365e-02,  2.27284223e-01, -1.17521986e-01,\n",
              "          2.33715683e-01,  1.06361508e-03,  1.13307357e-01,\n",
              "         -2.19800487e-01, -1.08969003e-01,  2.43652374e-01,\n",
              "         -9.19869393e-02],\n",
              "        [ 2.71219462e-01, -2.30103821e-01, -1.15530491e-02,\n",
              "         -1.80796087e-02, -1.42435730e-01,  1.17408931e-01,\n",
              "         -1.53217912e-02, -3.13437730e-02, -2.21870542e-02,\n",
              "         -1.62083209e-02, -6.44108653e-03,  1.08781457e-03,\n",
              "          9.51122344e-02, -6.18594736e-02,  8.52882266e-02,\n",
              "         -1.40687704e-01,  2.19725221e-01, -2.13031098e-01,\n",
              "          2.52188116e-01, -2.69953698e-01, -2.55376965e-01,\n",
              "         -2.25188985e-01,  2.20929235e-01,  1.91124409e-01,\n",
              "          2.53059268e-02,  1.91425622e-01, -2.41517201e-01,\n",
              "          2.58584708e-01,  4.47015762e-02,  3.98211181e-02,\n",
              "          2.34489173e-01, -1.48034975e-01,  2.30774492e-01,\n",
              "          5.64700365e-02,  2.68320709e-01, -8.36292803e-02,\n",
              "         -1.48649335e-01, -1.24574333e-01,  1.81951493e-01,\n",
              "         -9.63120610e-02,  1.23059273e-01,  2.43752748e-01,\n",
              "          8.76734555e-02, -1.45603731e-01, -1.59854159e-01,\n",
              "         -1.16020277e-01,  8.72386694e-02, -1.15453452e-01,\n",
              "          2.42715925e-01, -6.59317970e-02,  3.80371809e-02,\n",
              "          1.39775783e-01, -1.62288755e-01,  1.74320668e-01,\n",
              "         -1.06367752e-01, -1.07051566e-01,  5.47554195e-02,\n",
              "         -8.50484669e-02,  2.24604100e-01,  1.63907200e-01,\n",
              "         -2.03592420e-01, -2.12014019e-01, -2.47952342e-02,\n",
              "         -6.55251890e-02],\n",
              "        [ 1.81885749e-01, -5.07783741e-02,  1.86676890e-01,\n",
              "          6.57344759e-02, -2.01554507e-01, -2.86730975e-02,\n",
              "          1.92217380e-01, -1.40697822e-01, -1.55612141e-01,\n",
              "          9.00540948e-02, -1.16384029e-02,  2.71098912e-02,\n",
              "         -1.95197672e-01,  2.22344667e-01,  1.15160912e-01,\n",
              "          1.66930318e-01, -1.26920536e-01, -9.06088799e-02,\n",
              "          1.23325497e-01, -2.32736200e-01, -2.09342882e-01,\n",
              "          1.96424752e-01,  1.48552328e-01, -1.94933504e-01,\n",
              "          2.41658241e-01, -9.75953639e-02,  2.46013850e-01,\n",
              "         -1.42225459e-01, -2.47049913e-01, -1.25299603e-01,\n",
              "         -2.22958967e-01, -2.36402795e-01,  8.23945701e-02,\n",
              "          1.20004416e-01, -3.70448530e-02, -1.83287680e-01,\n",
              "          7.75676966e-02, -1.44021615e-01,  1.45899594e-01,\n",
              "          3.30729485e-02,  2.71039277e-01,  6.97933137e-02,\n",
              "          2.11518407e-01, -1.80931181e-01, -4.15044129e-02,\n",
              "          7.54430294e-02, -2.09295735e-01, -6.39307499e-03,\n",
              "         -2.17198133e-02, -8.30467045e-02, -4.47393954e-02,\n",
              "         -1.35855794e-01, -1.82971537e-01, -1.77498072e-01,\n",
              "          6.30548894e-02,  2.12640882e-01,  1.87029868e-01,\n",
              "         -2.70275921e-01,  1.13238841e-01,  1.15047902e-01,\n",
              "         -2.86242366e-03, -1.61900073e-01,  8.58237147e-02,\n",
              "          5.78976274e-02],\n",
              "        [ 1.04774982e-01,  1.90443903e-01, -2.63222456e-01,\n",
              "          1.48310572e-01,  7.95775652e-02,  3.94341052e-02,\n",
              "          1.02099359e-01, -1.74583599e-01, -2.55054235e-02,\n",
              "          2.62780339e-01, -2.56462812e-01,  8.69779289e-02,\n",
              "          1.39864653e-01,  1.61130577e-01, -4.85781729e-02,\n",
              "          2.41877884e-01, -9.59505588e-02,  2.80227661e-02,\n",
              "         -1.73817277e-02, -2.24002153e-01,  1.48413807e-01,\n",
              "         -1.63307637e-01, -5.18462956e-02, -1.07114181e-01,\n",
              "         -2.64762729e-01, -2.52119422e-01,  2.63788909e-01,\n",
              "          1.13340080e-01,  2.68082410e-01, -1.29728869e-01,\n",
              "          4.95231748e-02,  2.96733081e-02, -1.84505910e-01,\n",
              "          7.13169873e-02, -5.22375554e-02, -3.44219804e-02,\n",
              "         -2.36793190e-01, -2.52143830e-01, -2.40698561e-01,\n",
              "         -2.55982459e-01,  2.73959666e-01,  2.38013595e-01,\n",
              "         -2.44804680e-01, -1.00956708e-01, -1.37425408e-01,\n",
              "         -1.79252252e-01,  1.30191028e-01, -2.12186337e-01,\n",
              "         -2.04494506e-01, -1.99476048e-01,  8.05155635e-02,\n",
              "          1.88075751e-01, -2.21094236e-01, -1.24233395e-01,\n",
              "         -2.34962180e-01,  4.05883193e-02, -2.38285914e-01,\n",
              "          7.38851726e-02, -1.42010882e-01,  1.78339392e-01,\n",
              "         -8.61275643e-02,  1.84590280e-01,  1.46978289e-01,\n",
              "         -4.97886091e-02],\n",
              "        [ 9.13567543e-02, -4.31186706e-02,  2.56855458e-01,\n",
              "         -2.00699762e-01,  2.01409876e-01,  1.38342381e-04,\n",
              "          2.43018538e-01, -2.73302764e-01,  2.73179621e-01,\n",
              "          7.76268840e-02,  2.39294201e-01, -2.36157537e-01,\n",
              "         -2.22743332e-01,  1.98368311e-01, -1.20712146e-01,\n",
              "         -1.09269679e-01,  8.69898498e-02, -5.64234257e-02,\n",
              "          6.11800253e-02,  8.43384862e-02,  6.60733879e-02,\n",
              "          1.60664052e-01,  2.55703956e-01, -2.48510629e-01,\n",
              "          1.85907781e-01,  1.76410377e-01, -2.50647336e-01,\n",
              "         -8.31075460e-02, -2.74608284e-02, -1.15134865e-01,\n",
              "          5.02678156e-02,  2.67744362e-02, -6.97318912e-02,\n",
              "          2.13716686e-01, -8.43500495e-02,  1.86689198e-02,\n",
              "          4.69548702e-02,  1.69420332e-01,  1.64949507e-01,\n",
              "          2.58308351e-02, -4.47294116e-02,  1.80581689e-01,\n",
              "         -2.23751009e-01, -8.76141340e-02,  8.94591510e-02,\n",
              "          2.13584840e-01,  6.44285679e-02,  2.28383988e-01,\n",
              "         -4.15747613e-02, -2.35586464e-02,  1.10511452e-01,\n",
              "          9.57643390e-02,  7.01981485e-02,  1.67363107e-01,\n",
              "         -2.05168575e-01,  2.06705272e-01,  6.83802962e-02,\n",
              "         -2.67807722e-01, -2.70733237e-02,  8.54235888e-02,\n",
              "          2.26817280e-01, -5.66983819e-02, -1.49172857e-01,\n",
              "         -2.29495138e-01],\n",
              "        [-2.46866748e-01, -1.02149293e-01, -2.21925229e-01,\n",
              "          2.30901033e-01,  2.45691985e-01,  1.12900555e-01,\n",
              "         -1.88069284e-01, -4.55925465e-02,  2.33861417e-01,\n",
              "         -1.77629262e-01, -2.66249895e-01,  2.09292889e-01,\n",
              "          2.42274076e-01, -8.15807730e-02, -2.07751378e-01,\n",
              "         -3.10757011e-02,  1.50417656e-01, -1.63588062e-01,\n",
              "          3.11399102e-02, -2.76909649e-01, -1.97809950e-01,\n",
              "          2.34179199e-02,  1.46581411e-01,  1.21973097e-01,\n",
              "         -7.59706944e-02,  1.90680385e-01, -2.35454619e-01,\n",
              "         -1.80598363e-01, -2.06965342e-01,  1.13553792e-01,\n",
              "          9.01632607e-02,  1.04000658e-01,  2.55215079e-01,\n",
              "          2.48494953e-01, -1.51158407e-01,  1.47875547e-01,\n",
              "         -1.64080560e-01,  4.93342578e-02, -1.59370318e-01,\n",
              "          6.11916780e-02,  2.57909447e-01,  2.31573015e-01,\n",
              "         -4.07029092e-02,  1.23573929e-01,  1.47762477e-01,\n",
              "         -6.51997328e-03,  6.75900877e-02,  2.72275120e-01,\n",
              "         -1.70269847e-01,  2.28697151e-01, -2.27062702e-02,\n",
              "         -1.27519816e-01, -1.19707838e-01, -2.68026203e-01,\n",
              "          2.43027717e-01, -2.43904531e-01, -2.17764676e-01,\n",
              "          1.89602196e-01, -8.11068565e-02, -2.75216639e-01,\n",
              "         -2.53876776e-01, -8.37366581e-02, -1.74171627e-02,\n",
              "         -1.89111486e-01],\n",
              "        [-1.90619797e-01,  2.42264837e-01,  2.58161336e-01,\n",
              "         -1.18607283e-02,  1.56435609e-01,  1.69021338e-01,\n",
              "          2.56399959e-01,  2.53239840e-01, -6.77294880e-02,\n",
              "          2.49487728e-01, -2.83219814e-02,  1.26838326e-01,\n",
              "         -4.46652770e-02,  6.57381713e-02,  1.70228243e-01,\n",
              "         -1.96900964e-02, -5.87170571e-02, -1.22160614e-02,\n",
              "          2.12553948e-01, -1.74931079e-01, -8.79282206e-02,\n",
              "         -1.28125459e-01,  7.21380115e-02,  9.61610377e-02,\n",
              "          1.04901820e-01,  6.01132810e-02, -2.15359509e-01,\n",
              "          1.59439415e-01,  2.26710588e-01, -1.51821911e-01,\n",
              "         -1.88400447e-02, -1.88069746e-01,  2.36469179e-01,\n",
              "          8.31849873e-02,  2.54003197e-01, -5.05403131e-02,\n",
              "          8.07764828e-02,  3.35022509e-02, -1.73693478e-01,\n",
              "          8.15329552e-02,  2.74152726e-01,  2.44071335e-01,\n",
              "          2.43432790e-01, -1.50897741e-01,  7.37492144e-02,\n",
              "         -1.31907508e-01, -8.29243809e-02, -5.89461178e-02,\n",
              "         -1.55247808e-01, -1.88570708e-01,  1.13186806e-01,\n",
              "         -1.06807649e-02,  1.79882884e-01,  6.23369515e-02,\n",
              "         -2.48391196e-01,  2.29728818e-02, -2.35984489e-01,\n",
              "          6.70716166e-02,  2.29239911e-01, -7.82505721e-02,\n",
              "          1.05480671e-01,  5.63983619e-02, -1.50629327e-01,\n",
              "          2.53897011e-02],\n",
              "        [ 8.09598565e-02,  1.72062367e-01,  2.51719087e-01,\n",
              "         -2.35904410e-01, -2.68325299e-01, -2.51540542e-02,\n",
              "         -3.98093462e-03, -2.06178650e-01, -9.05538648e-02,\n",
              "          9.37936902e-02,  1.07548952e-01, -1.35779947e-01,\n",
              "         -1.19469523e-01,  1.23964936e-01, -2.54835457e-01,\n",
              "          2.69983381e-01, -1.01089954e-01, -9.21897441e-02,\n",
              "         -2.57604390e-01, -1.93792701e-01, -2.19753340e-01,\n",
              "         -7.58868456e-03,  9.47798193e-02,  1.54477119e-01,\n",
              "         -1.24729589e-01, -1.16756722e-01,  1.55971944e-01,\n",
              "          9.42500234e-02, -2.07498908e-01,  1.03928864e-01,\n",
              "          9.77763534e-02, -2.28089109e-01,  2.35292941e-01,\n",
              "         -4.99840677e-02, -3.40288877e-03,  1.71553403e-01,\n",
              "         -2.33337879e-01, -2.61613756e-01, -1.90852821e-01,\n",
              "         -1.59324557e-01,  1.42063975e-01,  1.03262067e-02,\n",
              "          1.45333886e-01,  1.47357702e-01, -6.85899109e-02,\n",
              "          2.68928021e-01,  4.23069894e-02,  2.15271503e-01,\n",
              "          7.06904531e-02,  1.99259818e-01, -8.96148831e-02,\n",
              "          1.94364488e-01,  1.60056055e-01, -1.74916804e-01,\n",
              "          2.29210466e-01, -8.59030038e-02, -2.11174101e-01,\n",
              "          1.74776882e-01,  2.73587614e-01, -1.31382212e-01,\n",
              "         -6.54226989e-02, -7.21666366e-02, -2.29431182e-01,\n",
              "          1.28709823e-01],\n",
              "        [ 1.38409168e-01,  1.17999882e-01,  1.00047559e-01,\n",
              "         -6.24118149e-02,  2.38088757e-01, -1.55221745e-01,\n",
              "         -9.75839943e-02,  2.00997531e-01, -1.34507298e-01,\n",
              "         -1.21904448e-01, -2.45519966e-01, -1.49576962e-02,\n",
              "         -7.04387724e-02,  1.20412469e-01, -6.32329583e-02,\n",
              "         -1.53211802e-01, -1.51576191e-01,  1.62529200e-01,\n",
              "         -2.14549392e-01, -8.78393501e-02,  3.93513143e-02,\n",
              "          1.43254578e-01, -3.42506468e-02, -1.87883675e-01,\n",
              "          1.59657121e-01,  2.17365295e-01,  2.18124002e-01,\n",
              "         -4.47298735e-02,  1.51284903e-01, -2.59020865e-01,\n",
              "         -1.81184411e-02, -1.90894216e-01, -2.28545368e-01,\n",
              "          1.17751718e-01,  1.93908751e-01,  5.02693951e-02,\n",
              "          2.03769833e-01,  2.66339183e-02,  5.52916825e-02,\n",
              "          1.00818247e-01,  1.85077846e-01, -1.26716062e-01,\n",
              "         -2.01577112e-01,  2.36742109e-01, -1.26881644e-01,\n",
              "          1.35013819e-01,  2.48535246e-01, -2.76358336e-01,\n",
              "          3.85173261e-02,  6.15624189e-02,  1.42163485e-01,\n",
              "          7.81184435e-03, -4.04781401e-02,  2.70821184e-01,\n",
              "          1.01014644e-01,  2.21501768e-01,  2.26101667e-01,\n",
              "         -1.72734261e-02, -2.54792869e-01,  1.07255280e-02,\n",
              "         -6.63720667e-02, -2.53831476e-01,  8.89757872e-02,\n",
              "          9.23226476e-02],\n",
              "        [ 1.65416569e-01,  2.65918285e-01,  7.67716169e-02,\n",
              "          1.37429833e-01, -5.66625446e-02,  1.52536660e-01,\n",
              "          2.43342727e-01,  1.26645982e-01,  5.14533818e-02,\n",
              "         -3.43509614e-02,  2.65471369e-01, -2.30135158e-01,\n",
              "         -1.28370196e-01,  9.58796740e-02, -1.28561631e-01,\n",
              "          7.97736943e-02, -1.44760832e-01, -1.04061693e-01,\n",
              "          1.12864524e-01, -2.26501048e-01, -9.40210819e-02,\n",
              "         -1.20377690e-01, -3.66841257e-02, -2.41340712e-01,\n",
              "         -2.32723981e-01,  1.71922982e-01, -2.71914512e-01,\n",
              "         -7.03619421e-02,  2.67291576e-01,  5.85024655e-02,\n",
              "         -1.32887423e-01, -1.43298402e-01,  1.33455902e-01,\n",
              "          2.13007897e-01, -1.00688115e-01, -2.22466856e-01,\n",
              "         -5.25439829e-02,  2.55252123e-02,  4.67191339e-02,\n",
              "         -2.60049582e-01,  1.10287607e-01,  1.72947735e-01,\n",
              "          1.62753642e-01, -6.08525127e-02,  1.81108445e-01,\n",
              "          1.41240239e-01, -7.86368698e-02,  6.84820712e-02,\n",
              "          1.47492290e-01, -1.89096928e-01, -2.72024870e-02,\n",
              "          2.13209093e-01,  1.81813031e-01,  8.42390954e-02,\n",
              "         -2.16268793e-01,  1.38247818e-01,  2.41154581e-01,\n",
              "          2.32951194e-01,  4.74032760e-03, -1.57526150e-01,\n",
              "         -9.03657377e-02, -8.61780196e-02, -1.36845887e-01,\n",
              "         -1.61201924e-01],\n",
              "        [ 1.49342477e-01,  2.72403032e-01,  8.05712342e-02,\n",
              "          2.67162889e-01,  2.98227072e-02,  1.55110985e-01,\n",
              "         -3.39399278e-02, -2.75955200e-02, -1.73737258e-01,\n",
              "         -1.91036403e-01, -1.77961618e-01, -1.71387956e-01,\n",
              "          1.28992200e-02, -2.38072857e-01, -1.81820422e-01,\n",
              "          2.58364588e-01, -2.12743908e-01, -6.74280524e-03,\n",
              "          2.41591841e-01,  2.12882906e-01, -1.91405237e-01,\n",
              "         -4.92755324e-02,  1.36128426e-01, -1.36015147e-01,\n",
              "          1.03277057e-01, -5.74231744e-02,  2.12689430e-01,\n",
              "          1.39022529e-01,  2.16629565e-01, -2.55553842e-01,\n",
              "          8.41524601e-02,  2.16728896e-01,  1.78958178e-01,\n",
              "         -1.50337592e-01,  1.82318807e-01,  1.33748174e-01,\n",
              "         -7.83004314e-02, -1.76642805e-01, -1.64686412e-01,\n",
              "          2.52539724e-01,  2.27900833e-01, -1.04704961e-01,\n",
              "          1.20917916e-01,  5.72422743e-02,  2.19082087e-01,\n",
              "          1.02066636e-01,  8.02394152e-02, -1.59317017e-01,\n",
              "         -1.97815776e-01,  8.41155648e-03,  6.52308762e-02,\n",
              "          2.62759596e-01, -1.67303592e-01, -1.94724351e-01,\n",
              "          9.42130387e-02,  1.95750087e-01, -4.12614644e-02,\n",
              "         -1.41001940e-01, -7.15357363e-02, -2.39933953e-01,\n",
              "          4.77373302e-02, -2.57707864e-01,  2.05907464e-01,\n",
              "         -2.09229410e-01],\n",
              "        [-1.52443752e-01,  6.96586967e-02, -1.16883293e-01,\n",
              "          2.49171257e-02, -1.23337254e-01,  1.29067600e-02,\n",
              "         -1.62231699e-01,  1.43389583e-01,  8.97873342e-02,\n",
              "         -2.70601332e-01,  9.50995386e-02, -1.04467571e-01,\n",
              "          2.56182581e-01,  4.74375188e-02, -1.25060156e-01,\n",
              "          1.67158246e-01, -1.91606730e-01, -1.60940930e-01,\n",
              "         -2.74668783e-01, -2.30405286e-01,  1.04607105e-01,\n",
              "         -1.47322997e-01, -2.46768549e-01,  6.62866235e-03,\n",
              "         -1.40829414e-01,  1.48704082e-01, -1.27331764e-01,\n",
              "         -2.27000028e-01, -6.59019053e-02, -2.27853835e-01,\n",
              "         -1.63109988e-01,  1.38012469e-02, -1.28969491e-01,\n",
              "         -1.22702256e-01,  5.58634102e-02,  6.89855516e-02,\n",
              "          1.70258671e-01,  2.03126758e-01, -6.07889593e-02,\n",
              "         -1.92165077e-02, -2.61461556e-01,  2.76888162e-01,\n",
              "          2.54799038e-01,  1.01025879e-01,  9.00577903e-02,\n",
              "          1.64935648e-01, -5.13117313e-02,  9.11509097e-02,\n",
              "          1.85709804e-01,  1.23732686e-02,  3.71491909e-02,\n",
              "          1.04574025e-01, -8.36869329e-02,  7.34665990e-03,\n",
              "         -8.08467120e-02, -9.87426341e-02, -1.16705343e-01,\n",
              "         -9.98605490e-02, -1.00459114e-01,  7.05847144e-02,\n",
              "          1.47797108e-01,  3.91632318e-02,  2.61861831e-01,\n",
              "         -2.67246932e-01]], dtype=float32)>,\n",
              " <tf.Variable 'dense_9/bias:0' shape=(64,) dtype=float32, numpy=\n",
              " array([0., 0., 0., 0., 0., 0., 0., 0., 0., 0., 0., 0., 0., 0., 0., 0., 0.,\n",
              "        0., 0., 0., 0., 0., 0., 0., 0., 0., 0., 0., 0., 0., 0., 0., 0., 0.,\n",
              "        0., 0., 0., 0., 0., 0., 0., 0., 0., 0., 0., 0., 0., 0., 0., 0., 0.,\n",
              "        0., 0., 0., 0., 0., 0., 0., 0., 0., 0., 0., 0., 0.], dtype=float32)>,\n",
              " <tf.Variable 'dense_10/kernel:0' shape=(64, 32) dtype=float32, numpy=\n",
              " array([[-0.17100215, -0.05587667, -0.00581968, ..., -0.13300157,\n",
              "          0.10636777, -0.1476388 ],\n",
              "        [-0.2340883 , -0.0577625 ,  0.0833717 , ..., -0.14511389,\n",
              "          0.18810248, -0.21228743],\n",
              "        [-0.02243227, -0.08001727, -0.21806979, ..., -0.10520321,\n",
              "          0.04763901, -0.06885737],\n",
              "        ...,\n",
              "        [ 0.04279053,  0.15764219,  0.07385439, ...,  0.08673286,\n",
              "          0.0685398 , -0.12837821],\n",
              "        [ 0.09330851, -0.1634413 , -0.06178468, ...,  0.09250319,\n",
              "         -0.17195725, -0.14981025],\n",
              "        [ 0.21414834,  0.130777  ,  0.10518801, ..., -0.03161049,\n",
              "          0.1962682 ,  0.24837065]], dtype=float32)>,\n",
              " <tf.Variable 'dense_10/bias:0' shape=(32,) dtype=float32, numpy=\n",
              " array([0., 0., 0., 0., 0., 0., 0., 0., 0., 0., 0., 0., 0., 0., 0., 0., 0.,\n",
              "        0., 0., 0., 0., 0., 0., 0., 0., 0., 0., 0., 0., 0., 0., 0.],\n",
              "       dtype=float32)>,\n",
              " <tf.Variable 'batch_normalization/gamma:0' shape=(32,) dtype=float32, numpy=\n",
              " array([1., 1., 1., 1., 1., 1., 1., 1., 1., 1., 1., 1., 1., 1., 1., 1., 1.,\n",
              "        1., 1., 1., 1., 1., 1., 1., 1., 1., 1., 1., 1., 1., 1., 1.],\n",
              "       dtype=float32)>,\n",
              " <tf.Variable 'batch_normalization/beta:0' shape=(32,) dtype=float32, numpy=\n",
              " array([0., 0., 0., 0., 0., 0., 0., 0., 0., 0., 0., 0., 0., 0., 0., 0., 0.,\n",
              "        0., 0., 0., 0., 0., 0., 0., 0., 0., 0., 0., 0., 0., 0., 0.],\n",
              "       dtype=float32)>,\n",
              " <tf.Variable 'batch_normalization/moving_mean:0' shape=(32,) dtype=float32, numpy=\n",
              " array([0., 0., 0., 0., 0., 0., 0., 0., 0., 0., 0., 0., 0., 0., 0., 0., 0.,\n",
              "        0., 0., 0., 0., 0., 0., 0., 0., 0., 0., 0., 0., 0., 0., 0.],\n",
              "       dtype=float32)>,\n",
              " <tf.Variable 'batch_normalization/moving_variance:0' shape=(32,) dtype=float32, numpy=\n",
              " array([1., 1., 1., 1., 1., 1., 1., 1., 1., 1., 1., 1., 1., 1., 1., 1., 1.,\n",
              "        1., 1., 1., 1., 1., 1., 1., 1., 1., 1., 1., 1., 1., 1., 1.],\n",
              "       dtype=float32)>,\n",
              " <tf.Variable 'dense_11/kernel:0' shape=(32, 32) dtype=float32, numpy=\n",
              " array([[-0.09304671,  0.2863656 ,  0.02194065, ..., -0.2823606 ,\n",
              "          0.09679893, -0.22197053],\n",
              "        [ 0.1628724 ,  0.19403449, -0.03037658, ...,  0.29183003,\n",
              "          0.0654656 ,  0.2894117 ],\n",
              "        [-0.0410111 , -0.25924963, -0.23591626, ..., -0.09976582,\n",
              "         -0.30542198, -0.14092766],\n",
              "        ...,\n",
              "        [ 0.20138016, -0.15215987,  0.16013423, ..., -0.00547415,\n",
              "         -0.28466386,  0.29140922],\n",
              "        [ 0.294426  ,  0.23643026,  0.2774031 , ..., -0.15667985,\n",
              "          0.23665193,  0.15762731],\n",
              "        [-0.01463398,  0.03387105,  0.16226906, ..., -0.08788288,\n",
              "         -0.271369  ,  0.16430542]], dtype=float32)>,\n",
              " <tf.Variable 'dense_11/bias:0' shape=(32,) dtype=float32, numpy=\n",
              " array([0., 0., 0., 0., 0., 0., 0., 0., 0., 0., 0., 0., 0., 0., 0., 0., 0.,\n",
              "        0., 0., 0., 0., 0., 0., 0., 0., 0., 0., 0., 0., 0., 0., 0.],\n",
              "       dtype=float32)>,\n",
              " <tf.Variable 'batch_normalization_1/gamma:0' shape=(32,) dtype=float32, numpy=\n",
              " array([1., 1., 1., 1., 1., 1., 1., 1., 1., 1., 1., 1., 1., 1., 1., 1., 1.,\n",
              "        1., 1., 1., 1., 1., 1., 1., 1., 1., 1., 1., 1., 1., 1., 1.],\n",
              "       dtype=float32)>,\n",
              " <tf.Variable 'batch_normalization_1/beta:0' shape=(32,) dtype=float32, numpy=\n",
              " array([0., 0., 0., 0., 0., 0., 0., 0., 0., 0., 0., 0., 0., 0., 0., 0., 0.,\n",
              "        0., 0., 0., 0., 0., 0., 0., 0., 0., 0., 0., 0., 0., 0., 0.],\n",
              "       dtype=float32)>,\n",
              " <tf.Variable 'batch_normalization_1/moving_mean:0' shape=(32,) dtype=float32, numpy=\n",
              " array([0., 0., 0., 0., 0., 0., 0., 0., 0., 0., 0., 0., 0., 0., 0., 0., 0.,\n",
              "        0., 0., 0., 0., 0., 0., 0., 0., 0., 0., 0., 0., 0., 0., 0.],\n",
              "       dtype=float32)>,\n",
              " <tf.Variable 'batch_normalization_1/moving_variance:0' shape=(32,) dtype=float32, numpy=\n",
              " array([1., 1., 1., 1., 1., 1., 1., 1., 1., 1., 1., 1., 1., 1., 1., 1., 1.,\n",
              "        1., 1., 1., 1., 1., 1., 1., 1., 1., 1., 1., 1., 1., 1., 1.],\n",
              "       dtype=float32)>,\n",
              " <tf.Variable 'dense_12/kernel:0' shape=(32, 64) dtype=float32, numpy=\n",
              " array([[-0.12969261, -0.19219369,  0.1280865 , ...,  0.02518642,\n",
              "         -0.01798469,  0.14603645],\n",
              "        [ 0.13736224,  0.07049268, -0.12413079, ..., -0.19186687,\n",
              "         -0.21757722, -0.24370539],\n",
              "        [-0.0303213 ,  0.03692484, -0.02537566, ...,  0.00768101,\n",
              "         -0.10933524,  0.14886677],\n",
              "        ...,\n",
              "        [-0.08324927, -0.19378221, -0.24081439, ..., -0.00854182,\n",
              "         -0.02433276, -0.00561237],\n",
              "        [-0.2397793 , -0.15457219, -0.05155516, ...,  0.05421472,\n",
              "         -0.1274057 ,  0.17557544],\n",
              "        [ 0.20993847, -0.14420176, -0.15941334, ...,  0.10278326,\n",
              "         -0.20276809, -0.24534601]], dtype=float32)>,\n",
              " <tf.Variable 'dense_12/bias:0' shape=(64,) dtype=float32, numpy=\n",
              " array([0., 0., 0., 0., 0., 0., 0., 0., 0., 0., 0., 0., 0., 0., 0., 0., 0.,\n",
              "        0., 0., 0., 0., 0., 0., 0., 0., 0., 0., 0., 0., 0., 0., 0., 0., 0.,\n",
              "        0., 0., 0., 0., 0., 0., 0., 0., 0., 0., 0., 0., 0., 0., 0., 0., 0.,\n",
              "        0., 0., 0., 0., 0., 0., 0., 0., 0., 0., 0., 0., 0.], dtype=float32)>,\n",
              " <tf.Variable 'dense_13/kernel:0' shape=(64, 32) dtype=float32, numpy=\n",
              " array([[ 0.05096626,  0.13333237, -0.08798015, ..., -0.18574268,\n",
              "          0.03109157,  0.23096985],\n",
              "        [-0.1048066 , -0.20645499,  0.23466879, ...,  0.08140427,\n",
              "          0.24713248,  0.19411516],\n",
              "        [ 0.06134152,  0.11712718, -0.24448282, ..., -0.09200138,\n",
              "          0.00613707,  0.13130563],\n",
              "        ...,\n",
              "        [-0.18849397, -0.1976108 ,  0.07753158, ...,  0.21427274,\n",
              "          0.17952287,  0.03822118],\n",
              "        [ 0.2084558 , -0.08788073, -0.12833863, ...,  0.0770461 ,\n",
              "          0.17786175, -0.19516146],\n",
              "        [ 0.19726998, -0.17054647,  0.11946595, ..., -0.12837201,\n",
              "         -0.08512992, -0.09207892]], dtype=float32)>,\n",
              " <tf.Variable 'dense_13/bias:0' shape=(32,) dtype=float32, numpy=\n",
              " array([0., 0., 0., 0., 0., 0., 0., 0., 0., 0., 0., 0., 0., 0., 0., 0., 0.,\n",
              "        0., 0., 0., 0., 0., 0., 0., 0., 0., 0., 0., 0., 0., 0., 0.],\n",
              "       dtype=float32)>]"
            ]
          },
          "metadata": {
            "tags": []
          },
          "execution_count": 108
        }
      ]
    },
    {
      "cell_type": "code",
      "metadata": {
        "colab": {
          "base_uri": "https://localhost:8080/"
        },
        "id": "k_Unvg7-ZmfB",
        "outputId": "00007dc7-a802-4fb7-cd0d-7eb5b7181265"
      },
      "source": [
        "w2"
      ],
      "execution_count": null,
      "outputs": [
        {
          "output_type": "execute_result",
          "data": {
            "text/plain": [
              "[<tf.Variable 'dense_9/kernel:0' shape=(14, 64) dtype=float32, numpy=\n",
              " array([[ 2.45440990e-01,  8.84953737e-02, -5.31672090e-02,\n",
              "          3.60937119e-02, -6.01400733e-02, -1.41192839e-01,\n",
              "          3.29735875e-03, -1.63076058e-01, -2.57370979e-01,\n",
              "          2.58610547e-02,  8.65457952e-02, -1.31765470e-01,\n",
              "          5.49417436e-02, -1.19112238e-01,  2.76895911e-01,\n",
              "          7.57124126e-02, -1.19965851e-01, -2.71185696e-01,\n",
              "          1.95727259e-01, -2.68169969e-01,  1.81108534e-01,\n",
              "          1.98433250e-01, -2.36462831e-01,  1.64894640e-01,\n",
              "         -1.85913324e-01, -3.39404643e-02, -1.51723117e-01,\n",
              "          2.42795020e-01,  4.94042039e-02,  8.65535438e-02,\n",
              "          2.10993826e-01,  2.53856689e-01, -2.42317110e-01,\n",
              "          1.39640152e-01,  2.48387426e-01, -1.50207520e-01,\n",
              "          2.43249029e-01, -7.64018297e-02, -2.41353273e-01,\n",
              "         -1.03315547e-01,  4.28481996e-02, -6.03501499e-02,\n",
              "          1.48934275e-01,  1.23885036e-01, -2.23928034e-01,\n",
              "         -2.20742434e-01, -2.57096291e-01, -1.61549032e-01,\n",
              "          1.20268315e-01,  2.41539270e-01,  1.20113254e-01,\n",
              "         -9.82785076e-02, -4.78289127e-02, -9.69591737e-03,\n",
              "          1.47021413e-02, -8.58381242e-02,  5.24243712e-03,\n",
              "          1.57202393e-01, -2.73337603e-01,  2.72719651e-01,\n",
              "          2.21678108e-01, -2.65144616e-01, -5.52057326e-02,\n",
              "         -1.41888350e-01],\n",
              "        [ 6.19999170e-02,  5.87030351e-02,  2.30092019e-01,\n",
              "         -2.26771235e-02,  2.31348783e-01,  1.49360925e-01,\n",
              "         -1.37426272e-01, -7.46816546e-02, -2.50877440e-01,\n",
              "         -2.01245308e-01, -1.50927752e-01, -5.58343232e-02,\n",
              "         -1.13799661e-01, -2.75974691e-01, -1.60016894e-01,\n",
              "          1.33864880e-02, -1.32537484e-01,  7.77995288e-02,\n",
              "          1.78142488e-02,  4.36875522e-02, -2.47205973e-01,\n",
              "         -1.69058233e-01, -1.30718172e-01, -2.58162320e-02,\n",
              "          1.59211457e-02, -1.87524199e-01,  6.39828742e-02,\n",
              "         -2.55820185e-01,  2.63278484e-02, -1.34736612e-01,\n",
              "          1.24032706e-01,  1.47221953e-01,  1.10057414e-01,\n",
              "         -2.08716944e-01, -8.92422050e-02,  5.01291454e-02,\n",
              "         -1.34168342e-01,  6.70266449e-02, -7.02378154e-03,\n",
              "          1.70844853e-01, -2.61582494e-01,  1.71525031e-01,\n",
              "          1.30966485e-01, -3.97586972e-02, -1.57218531e-01,\n",
              "          2.74283677e-01,  8.98942053e-02,  7.23860264e-02,\n",
              "          2.39493400e-01, -1.27072021e-01,  2.64262766e-01,\n",
              "          2.63369590e-01, -9.89031941e-02,  1.26848847e-01,\n",
              "          1.09681696e-01, -1.30380139e-01,  6.09883964e-02,\n",
              "          1.45694524e-01, -2.10044801e-01, -1.66000396e-01,\n",
              "          1.10457867e-01, -1.81147069e-01, -1.90666318e-03,\n",
              "         -6.73308969e-03],\n",
              "        [-2.30854347e-01, -1.13358662e-01, -1.67776257e-01,\n",
              "          2.55574882e-02, -2.62889564e-02, -8.02657008e-03,\n",
              "          1.96251571e-02, -2.20889971e-01, -1.58114791e-01,\n",
              "         -1.05616450e-03,  7.39341080e-02,  3.34575772e-03,\n",
              "          1.33297205e-01,  7.30484128e-02, -1.55865669e-01,\n",
              "          2.34264404e-01,  4.72752452e-02, -2.17276677e-01,\n",
              "          4.96637523e-02, -2.04959825e-01,  3.01020741e-02,\n",
              "         -2.01199934e-01,  7.67925084e-02,  5.15328646e-02,\n",
              "          9.99602079e-02,  2.41971225e-01, -1.66116834e-01,\n",
              "          4.82355952e-02,  1.07736886e-02, -1.26859561e-01,\n",
              "          2.46869594e-01,  2.12764442e-02,  3.15250158e-02,\n",
              "          1.16292506e-01, -1.06752336e-01,  2.55668849e-01,\n",
              "          1.74230546e-01, -1.02818146e-01, -7.11178184e-02,\n",
              "         -1.96475685e-02, -1.50565386e-01,  2.29610413e-01,\n",
              "         -1.14657775e-01,  2.03434914e-01, -1.49759382e-01,\n",
              "         -7.19808936e-02,  2.24097401e-01, -2.77026445e-02,\n",
              "          1.20516419e-01,  1.28537685e-01,  1.94043040e-01,\n",
              "         -2.39193752e-01,  2.64129728e-01, -8.28684419e-02,\n",
              "         -3.68988365e-02,  2.27284223e-01, -1.17521986e-01,\n",
              "          2.33715683e-01,  1.06361508e-03,  1.13307357e-01,\n",
              "         -2.19800487e-01, -1.08969003e-01,  2.43652374e-01,\n",
              "         -9.19869393e-02],\n",
              "        [ 2.71219462e-01, -2.30103821e-01, -1.15530491e-02,\n",
              "         -1.80796087e-02, -1.42435730e-01,  1.17408931e-01,\n",
              "         -1.53217912e-02, -3.13437730e-02, -2.21870542e-02,\n",
              "         -1.62083209e-02, -6.44108653e-03,  1.08781457e-03,\n",
              "          9.51122344e-02, -6.18594736e-02,  8.52882266e-02,\n",
              "         -1.40687704e-01,  2.19725221e-01, -2.13031098e-01,\n",
              "          2.52188116e-01, -2.69953698e-01, -2.55376965e-01,\n",
              "         -2.25188985e-01,  2.20929235e-01,  1.91124409e-01,\n",
              "          2.53059268e-02,  1.91425622e-01, -2.41517201e-01,\n",
              "          2.58584708e-01,  4.47015762e-02,  3.98211181e-02,\n",
              "          2.34489173e-01, -1.48034975e-01,  2.30774492e-01,\n",
              "          5.64700365e-02,  2.68320709e-01, -8.36292803e-02,\n",
              "         -1.48649335e-01, -1.24574333e-01,  1.81951493e-01,\n",
              "         -9.63120610e-02,  1.23059273e-01,  2.43752748e-01,\n",
              "          8.76734555e-02, -1.45603731e-01, -1.59854159e-01,\n",
              "         -1.16020277e-01,  8.72386694e-02, -1.15453452e-01,\n",
              "          2.42715925e-01, -6.59317970e-02,  3.80371809e-02,\n",
              "          1.39775783e-01, -1.62288755e-01,  1.74320668e-01,\n",
              "         -1.06367752e-01, -1.07051566e-01,  5.47554195e-02,\n",
              "         -8.50484669e-02,  2.24604100e-01,  1.63907200e-01,\n",
              "         -2.03592420e-01, -2.12014019e-01, -2.47952342e-02,\n",
              "         -6.55251890e-02],\n",
              "        [ 1.81885749e-01, -5.07783741e-02,  1.86676890e-01,\n",
              "          6.57344759e-02, -2.01554507e-01, -2.86730975e-02,\n",
              "          1.92217380e-01, -1.40697822e-01, -1.55612141e-01,\n",
              "          9.00540948e-02, -1.16384029e-02,  2.71098912e-02,\n",
              "         -1.95197672e-01,  2.22344667e-01,  1.15160912e-01,\n",
              "          1.66930318e-01, -1.26920536e-01, -9.06088799e-02,\n",
              "          1.23325497e-01, -2.32736200e-01, -2.09342882e-01,\n",
              "          1.96424752e-01,  1.48552328e-01, -1.94933504e-01,\n",
              "          2.41658241e-01, -9.75953639e-02,  2.46013850e-01,\n",
              "         -1.42225459e-01, -2.47049913e-01, -1.25299603e-01,\n",
              "         -2.22958967e-01, -2.36402795e-01,  8.23945701e-02,\n",
              "          1.20004416e-01, -3.70448530e-02, -1.83287680e-01,\n",
              "          7.75676966e-02, -1.44021615e-01,  1.45899594e-01,\n",
              "          3.30729485e-02,  2.71039277e-01,  6.97933137e-02,\n",
              "          2.11518407e-01, -1.80931181e-01, -4.15044129e-02,\n",
              "          7.54430294e-02, -2.09295735e-01, -6.39307499e-03,\n",
              "         -2.17198133e-02, -8.30467045e-02, -4.47393954e-02,\n",
              "         -1.35855794e-01, -1.82971537e-01, -1.77498072e-01,\n",
              "          6.30548894e-02,  2.12640882e-01,  1.87029868e-01,\n",
              "         -2.70275921e-01,  1.13238841e-01,  1.15047902e-01,\n",
              "         -2.86242366e-03, -1.61900073e-01,  8.58237147e-02,\n",
              "          5.78976274e-02],\n",
              "        [ 1.04774982e-01,  1.90443903e-01, -2.63222456e-01,\n",
              "          1.48310572e-01,  7.95775652e-02,  3.94341052e-02,\n",
              "          1.02099359e-01, -1.74583599e-01, -2.55054235e-02,\n",
              "          2.62780339e-01, -2.56462812e-01,  8.69779289e-02,\n",
              "          1.39864653e-01,  1.61130577e-01, -4.85781729e-02,\n",
              "          2.41877884e-01, -9.59505588e-02,  2.80227661e-02,\n",
              "         -1.73817277e-02, -2.24002153e-01,  1.48413807e-01,\n",
              "         -1.63307637e-01, -5.18462956e-02, -1.07114181e-01,\n",
              "         -2.64762729e-01, -2.52119422e-01,  2.63788909e-01,\n",
              "          1.13340080e-01,  2.68082410e-01, -1.29728869e-01,\n",
              "          4.95231748e-02,  2.96733081e-02, -1.84505910e-01,\n",
              "          7.13169873e-02, -5.22375554e-02, -3.44219804e-02,\n",
              "         -2.36793190e-01, -2.52143830e-01, -2.40698561e-01,\n",
              "         -2.55982459e-01,  2.73959666e-01,  2.38013595e-01,\n",
              "         -2.44804680e-01, -1.00956708e-01, -1.37425408e-01,\n",
              "         -1.79252252e-01,  1.30191028e-01, -2.12186337e-01,\n",
              "         -2.04494506e-01, -1.99476048e-01,  8.05155635e-02,\n",
              "          1.88075751e-01, -2.21094236e-01, -1.24233395e-01,\n",
              "         -2.34962180e-01,  4.05883193e-02, -2.38285914e-01,\n",
              "          7.38851726e-02, -1.42010882e-01,  1.78339392e-01,\n",
              "         -8.61275643e-02,  1.84590280e-01,  1.46978289e-01,\n",
              "         -4.97886091e-02],\n",
              "        [ 9.13567543e-02, -4.31186706e-02,  2.56855458e-01,\n",
              "         -2.00699762e-01,  2.01409876e-01,  1.38342381e-04,\n",
              "          2.43018538e-01, -2.73302764e-01,  2.73179621e-01,\n",
              "          7.76268840e-02,  2.39294201e-01, -2.36157537e-01,\n",
              "         -2.22743332e-01,  1.98368311e-01, -1.20712146e-01,\n",
              "         -1.09269679e-01,  8.69898498e-02, -5.64234257e-02,\n",
              "          6.11800253e-02,  8.43384862e-02,  6.60733879e-02,\n",
              "          1.60664052e-01,  2.55703956e-01, -2.48510629e-01,\n",
              "          1.85907781e-01,  1.76410377e-01, -2.50647336e-01,\n",
              "         -8.31075460e-02, -2.74608284e-02, -1.15134865e-01,\n",
              "          5.02678156e-02,  2.67744362e-02, -6.97318912e-02,\n",
              "          2.13716686e-01, -8.43500495e-02,  1.86689198e-02,\n",
              "          4.69548702e-02,  1.69420332e-01,  1.64949507e-01,\n",
              "          2.58308351e-02, -4.47294116e-02,  1.80581689e-01,\n",
              "         -2.23751009e-01, -8.76141340e-02,  8.94591510e-02,\n",
              "          2.13584840e-01,  6.44285679e-02,  2.28383988e-01,\n",
              "         -4.15747613e-02, -2.35586464e-02,  1.10511452e-01,\n",
              "          9.57643390e-02,  7.01981485e-02,  1.67363107e-01,\n",
              "         -2.05168575e-01,  2.06705272e-01,  6.83802962e-02,\n",
              "         -2.67807722e-01, -2.70733237e-02,  8.54235888e-02,\n",
              "          2.26817280e-01, -5.66983819e-02, -1.49172857e-01,\n",
              "         -2.29495138e-01],\n",
              "        [-2.46866748e-01, -1.02149293e-01, -2.21925229e-01,\n",
              "          2.30901033e-01,  2.45691985e-01,  1.12900555e-01,\n",
              "         -1.88069284e-01, -4.55925465e-02,  2.33861417e-01,\n",
              "         -1.77629262e-01, -2.66249895e-01,  2.09292889e-01,\n",
              "          2.42274076e-01, -8.15807730e-02, -2.07751378e-01,\n",
              "         -3.10757011e-02,  1.50417656e-01, -1.63588062e-01,\n",
              "          3.11399102e-02, -2.76909649e-01, -1.97809950e-01,\n",
              "          2.34179199e-02,  1.46581411e-01,  1.21973097e-01,\n",
              "         -7.59706944e-02,  1.90680385e-01, -2.35454619e-01,\n",
              "         -1.80598363e-01, -2.06965342e-01,  1.13553792e-01,\n",
              "          9.01632607e-02,  1.04000658e-01,  2.55215079e-01,\n",
              "          2.48494953e-01, -1.51158407e-01,  1.47875547e-01,\n",
              "         -1.64080560e-01,  4.93342578e-02, -1.59370318e-01,\n",
              "          6.11916780e-02,  2.57909447e-01,  2.31573015e-01,\n",
              "         -4.07029092e-02,  1.23573929e-01,  1.47762477e-01,\n",
              "         -6.51997328e-03,  6.75900877e-02,  2.72275120e-01,\n",
              "         -1.70269847e-01,  2.28697151e-01, -2.27062702e-02,\n",
              "         -1.27519816e-01, -1.19707838e-01, -2.68026203e-01,\n",
              "          2.43027717e-01, -2.43904531e-01, -2.17764676e-01,\n",
              "          1.89602196e-01, -8.11068565e-02, -2.75216639e-01,\n",
              "         -2.53876776e-01, -8.37366581e-02, -1.74171627e-02,\n",
              "         -1.89111486e-01],\n",
              "        [-1.90619797e-01,  2.42264837e-01,  2.58161336e-01,\n",
              "         -1.18607283e-02,  1.56435609e-01,  1.69021338e-01,\n",
              "          2.56399959e-01,  2.53239840e-01, -6.77294880e-02,\n",
              "          2.49487728e-01, -2.83219814e-02,  1.26838326e-01,\n",
              "         -4.46652770e-02,  6.57381713e-02,  1.70228243e-01,\n",
              "         -1.96900964e-02, -5.87170571e-02, -1.22160614e-02,\n",
              "          2.12553948e-01, -1.74931079e-01, -8.79282206e-02,\n",
              "         -1.28125459e-01,  7.21380115e-02,  9.61610377e-02,\n",
              "          1.04901820e-01,  6.01132810e-02, -2.15359509e-01,\n",
              "          1.59439415e-01,  2.26710588e-01, -1.51821911e-01,\n",
              "         -1.88400447e-02, -1.88069746e-01,  2.36469179e-01,\n",
              "          8.31849873e-02,  2.54003197e-01, -5.05403131e-02,\n",
              "          8.07764828e-02,  3.35022509e-02, -1.73693478e-01,\n",
              "          8.15329552e-02,  2.74152726e-01,  2.44071335e-01,\n",
              "          2.43432790e-01, -1.50897741e-01,  7.37492144e-02,\n",
              "         -1.31907508e-01, -8.29243809e-02, -5.89461178e-02,\n",
              "         -1.55247808e-01, -1.88570708e-01,  1.13186806e-01,\n",
              "         -1.06807649e-02,  1.79882884e-01,  6.23369515e-02,\n",
              "         -2.48391196e-01,  2.29728818e-02, -2.35984489e-01,\n",
              "          6.70716166e-02,  2.29239911e-01, -7.82505721e-02,\n",
              "          1.05480671e-01,  5.63983619e-02, -1.50629327e-01,\n",
              "          2.53897011e-02],\n",
              "        [ 8.09598565e-02,  1.72062367e-01,  2.51719087e-01,\n",
              "         -2.35904410e-01, -2.68325299e-01, -2.51540542e-02,\n",
              "         -3.98093462e-03, -2.06178650e-01, -9.05538648e-02,\n",
              "          9.37936902e-02,  1.07548952e-01, -1.35779947e-01,\n",
              "         -1.19469523e-01,  1.23964936e-01, -2.54835457e-01,\n",
              "          2.69983381e-01, -1.01089954e-01, -9.21897441e-02,\n",
              "         -2.57604390e-01, -1.93792701e-01, -2.19753340e-01,\n",
              "         -7.58868456e-03,  9.47798193e-02,  1.54477119e-01,\n",
              "         -1.24729589e-01, -1.16756722e-01,  1.55971944e-01,\n",
              "          9.42500234e-02, -2.07498908e-01,  1.03928864e-01,\n",
              "          9.77763534e-02, -2.28089109e-01,  2.35292941e-01,\n",
              "         -4.99840677e-02, -3.40288877e-03,  1.71553403e-01,\n",
              "         -2.33337879e-01, -2.61613756e-01, -1.90852821e-01,\n",
              "         -1.59324557e-01,  1.42063975e-01,  1.03262067e-02,\n",
              "          1.45333886e-01,  1.47357702e-01, -6.85899109e-02,\n",
              "          2.68928021e-01,  4.23069894e-02,  2.15271503e-01,\n",
              "          7.06904531e-02,  1.99259818e-01, -8.96148831e-02,\n",
              "          1.94364488e-01,  1.60056055e-01, -1.74916804e-01,\n",
              "          2.29210466e-01, -8.59030038e-02, -2.11174101e-01,\n",
              "          1.74776882e-01,  2.73587614e-01, -1.31382212e-01,\n",
              "         -6.54226989e-02, -7.21666366e-02, -2.29431182e-01,\n",
              "          1.28709823e-01],\n",
              "        [ 1.38409168e-01,  1.17999882e-01,  1.00047559e-01,\n",
              "         -6.24118149e-02,  2.38088757e-01, -1.55221745e-01,\n",
              "         -9.75839943e-02,  2.00997531e-01, -1.34507298e-01,\n",
              "         -1.21904448e-01, -2.45519966e-01, -1.49576962e-02,\n",
              "         -7.04387724e-02,  1.20412469e-01, -6.32329583e-02,\n",
              "         -1.53211802e-01, -1.51576191e-01,  1.62529200e-01,\n",
              "         -2.14549392e-01, -8.78393501e-02,  3.93513143e-02,\n",
              "          1.43254578e-01, -3.42506468e-02, -1.87883675e-01,\n",
              "          1.59657121e-01,  2.17365295e-01,  2.18124002e-01,\n",
              "         -4.47298735e-02,  1.51284903e-01, -2.59020865e-01,\n",
              "         -1.81184411e-02, -1.90894216e-01, -2.28545368e-01,\n",
              "          1.17751718e-01,  1.93908751e-01,  5.02693951e-02,\n",
              "          2.03769833e-01,  2.66339183e-02,  5.52916825e-02,\n",
              "          1.00818247e-01,  1.85077846e-01, -1.26716062e-01,\n",
              "         -2.01577112e-01,  2.36742109e-01, -1.26881644e-01,\n",
              "          1.35013819e-01,  2.48535246e-01, -2.76358336e-01,\n",
              "          3.85173261e-02,  6.15624189e-02,  1.42163485e-01,\n",
              "          7.81184435e-03, -4.04781401e-02,  2.70821184e-01,\n",
              "          1.01014644e-01,  2.21501768e-01,  2.26101667e-01,\n",
              "         -1.72734261e-02, -2.54792869e-01,  1.07255280e-02,\n",
              "         -6.63720667e-02, -2.53831476e-01,  8.89757872e-02,\n",
              "          9.23226476e-02],\n",
              "        [ 1.65416569e-01,  2.65918285e-01,  7.67716169e-02,\n",
              "          1.37429833e-01, -5.66625446e-02,  1.52536660e-01,\n",
              "          2.43342727e-01,  1.26645982e-01,  5.14533818e-02,\n",
              "         -3.43509614e-02,  2.65471369e-01, -2.30135158e-01,\n",
              "         -1.28370196e-01,  9.58796740e-02, -1.28561631e-01,\n",
              "          7.97736943e-02, -1.44760832e-01, -1.04061693e-01,\n",
              "          1.12864524e-01, -2.26501048e-01, -9.40210819e-02,\n",
              "         -1.20377690e-01, -3.66841257e-02, -2.41340712e-01,\n",
              "         -2.32723981e-01,  1.71922982e-01, -2.71914512e-01,\n",
              "         -7.03619421e-02,  2.67291576e-01,  5.85024655e-02,\n",
              "         -1.32887423e-01, -1.43298402e-01,  1.33455902e-01,\n",
              "          2.13007897e-01, -1.00688115e-01, -2.22466856e-01,\n",
              "         -5.25439829e-02,  2.55252123e-02,  4.67191339e-02,\n",
              "         -2.60049582e-01,  1.10287607e-01,  1.72947735e-01,\n",
              "          1.62753642e-01, -6.08525127e-02,  1.81108445e-01,\n",
              "          1.41240239e-01, -7.86368698e-02,  6.84820712e-02,\n",
              "          1.47492290e-01, -1.89096928e-01, -2.72024870e-02,\n",
              "          2.13209093e-01,  1.81813031e-01,  8.42390954e-02,\n",
              "         -2.16268793e-01,  1.38247818e-01,  2.41154581e-01,\n",
              "          2.32951194e-01,  4.74032760e-03, -1.57526150e-01,\n",
              "         -9.03657377e-02, -8.61780196e-02, -1.36845887e-01,\n",
              "         -1.61201924e-01],\n",
              "        [ 1.49342477e-01,  2.72403032e-01,  8.05712342e-02,\n",
              "          2.67162889e-01,  2.98227072e-02,  1.55110985e-01,\n",
              "         -3.39399278e-02, -2.75955200e-02, -1.73737258e-01,\n",
              "         -1.91036403e-01, -1.77961618e-01, -1.71387956e-01,\n",
              "          1.28992200e-02, -2.38072857e-01, -1.81820422e-01,\n",
              "          2.58364588e-01, -2.12743908e-01, -6.74280524e-03,\n",
              "          2.41591841e-01,  2.12882906e-01, -1.91405237e-01,\n",
              "         -4.92755324e-02,  1.36128426e-01, -1.36015147e-01,\n",
              "          1.03277057e-01, -5.74231744e-02,  2.12689430e-01,\n",
              "          1.39022529e-01,  2.16629565e-01, -2.55553842e-01,\n",
              "          8.41524601e-02,  2.16728896e-01,  1.78958178e-01,\n",
              "         -1.50337592e-01,  1.82318807e-01,  1.33748174e-01,\n",
              "         -7.83004314e-02, -1.76642805e-01, -1.64686412e-01,\n",
              "          2.52539724e-01,  2.27900833e-01, -1.04704961e-01,\n",
              "          1.20917916e-01,  5.72422743e-02,  2.19082087e-01,\n",
              "          1.02066636e-01,  8.02394152e-02, -1.59317017e-01,\n",
              "         -1.97815776e-01,  8.41155648e-03,  6.52308762e-02,\n",
              "          2.62759596e-01, -1.67303592e-01, -1.94724351e-01,\n",
              "          9.42130387e-02,  1.95750087e-01, -4.12614644e-02,\n",
              "         -1.41001940e-01, -7.15357363e-02, -2.39933953e-01,\n",
              "          4.77373302e-02, -2.57707864e-01,  2.05907464e-01,\n",
              "         -2.09229410e-01],\n",
              "        [-1.52443752e-01,  6.96586967e-02, -1.16883293e-01,\n",
              "          2.49171257e-02, -1.23337254e-01,  1.29067600e-02,\n",
              "         -1.62231699e-01,  1.43389583e-01,  8.97873342e-02,\n",
              "         -2.70601332e-01,  9.50995386e-02, -1.04467571e-01,\n",
              "          2.56182581e-01,  4.74375188e-02, -1.25060156e-01,\n",
              "          1.67158246e-01, -1.91606730e-01, -1.60940930e-01,\n",
              "         -2.74668783e-01, -2.30405286e-01,  1.04607105e-01,\n",
              "         -1.47322997e-01, -2.46768549e-01,  6.62866235e-03,\n",
              "         -1.40829414e-01,  1.48704082e-01, -1.27331764e-01,\n",
              "         -2.27000028e-01, -6.59019053e-02, -2.27853835e-01,\n",
              "         -1.63109988e-01,  1.38012469e-02, -1.28969491e-01,\n",
              "         -1.22702256e-01,  5.58634102e-02,  6.89855516e-02,\n",
              "          1.70258671e-01,  2.03126758e-01, -6.07889593e-02,\n",
              "         -1.92165077e-02, -2.61461556e-01,  2.76888162e-01,\n",
              "          2.54799038e-01,  1.01025879e-01,  9.00577903e-02,\n",
              "          1.64935648e-01, -5.13117313e-02,  9.11509097e-02,\n",
              "          1.85709804e-01,  1.23732686e-02,  3.71491909e-02,\n",
              "          1.04574025e-01, -8.36869329e-02,  7.34665990e-03,\n",
              "         -8.08467120e-02, -9.87426341e-02, -1.16705343e-01,\n",
              "         -9.98605490e-02, -1.00459114e-01,  7.05847144e-02,\n",
              "          1.47797108e-01,  3.91632318e-02,  2.61861831e-01,\n",
              "         -2.67246932e-01]], dtype=float32)>,\n",
              " <tf.Variable 'dense_9/bias:0' shape=(64,) dtype=float32, numpy=\n",
              " array([0., 0., 0., 0., 0., 0., 0., 0., 0., 0., 0., 0., 0., 0., 0., 0., 0.,\n",
              "        0., 0., 0., 0., 0., 0., 0., 0., 0., 0., 0., 0., 0., 0., 0., 0., 0.,\n",
              "        0., 0., 0., 0., 0., 0., 0., 0., 0., 0., 0., 0., 0., 0., 0., 0., 0.,\n",
              "        0., 0., 0., 0., 0., 0., 0., 0., 0., 0., 0., 0., 0.], dtype=float32)>,\n",
              " <tf.Variable 'dense_10/kernel:0' shape=(64, 32) dtype=float32, numpy=\n",
              " array([[-0.17100215, -0.05587667, -0.00581968, ..., -0.13300157,\n",
              "          0.10636777, -0.1476388 ],\n",
              "        [-0.2340883 , -0.0577625 ,  0.0833717 , ..., -0.14511389,\n",
              "          0.18810248, -0.21228743],\n",
              "        [-0.02243227, -0.08001727, -0.21806979, ..., -0.10520321,\n",
              "          0.04763901, -0.06885737],\n",
              "        ...,\n",
              "        [ 0.04279053,  0.15764219,  0.07385439, ...,  0.08673286,\n",
              "          0.0685398 , -0.12837821],\n",
              "        [ 0.09330851, -0.1634413 , -0.06178468, ...,  0.09250319,\n",
              "         -0.17195725, -0.14981025],\n",
              "        [ 0.21414834,  0.130777  ,  0.10518801, ..., -0.03161049,\n",
              "          0.1962682 ,  0.24837065]], dtype=float32)>,\n",
              " <tf.Variable 'dense_10/bias:0' shape=(32,) dtype=float32, numpy=\n",
              " array([0., 0., 0., 0., 0., 0., 0., 0., 0., 0., 0., 0., 0., 0., 0., 0., 0.,\n",
              "        0., 0., 0., 0., 0., 0., 0., 0., 0., 0., 0., 0., 0., 0., 0.],\n",
              "       dtype=float32)>,\n",
              " <tf.Variable 'batch_normalization/gamma:0' shape=(32,) dtype=float32, numpy=\n",
              " array([1., 1., 1., 1., 1., 1., 1., 1., 1., 1., 1., 1., 1., 1., 1., 1., 1.,\n",
              "        1., 1., 1., 1., 1., 1., 1., 1., 1., 1., 1., 1., 1., 1., 1.],\n",
              "       dtype=float32)>,\n",
              " <tf.Variable 'batch_normalization/beta:0' shape=(32,) dtype=float32, numpy=\n",
              " array([0., 0., 0., 0., 0., 0., 0., 0., 0., 0., 0., 0., 0., 0., 0., 0., 0.,\n",
              "        0., 0., 0., 0., 0., 0., 0., 0., 0., 0., 0., 0., 0., 0., 0.],\n",
              "       dtype=float32)>,\n",
              " <tf.Variable 'batch_normalization/moving_mean:0' shape=(32,) dtype=float32, numpy=\n",
              " array([0., 0., 0., 0., 0., 0., 0., 0., 0., 0., 0., 0., 0., 0., 0., 0., 0.,\n",
              "        0., 0., 0., 0., 0., 0., 0., 0., 0., 0., 0., 0., 0., 0., 0.],\n",
              "       dtype=float32)>,\n",
              " <tf.Variable 'batch_normalization/moving_variance:0' shape=(32,) dtype=float32, numpy=\n",
              " array([1., 1., 1., 1., 1., 1., 1., 1., 1., 1., 1., 1., 1., 1., 1., 1., 1.,\n",
              "        1., 1., 1., 1., 1., 1., 1., 1., 1., 1., 1., 1., 1., 1., 1.],\n",
              "       dtype=float32)>,\n",
              " <tf.Variable 'dense_11/kernel:0' shape=(32, 32) dtype=float32, numpy=\n",
              " array([[-0.09304671,  0.2863656 ,  0.02194065, ..., -0.2823606 ,\n",
              "          0.09679893, -0.22197053],\n",
              "        [ 0.1628724 ,  0.19403449, -0.03037658, ...,  0.29183003,\n",
              "          0.0654656 ,  0.2894117 ],\n",
              "        [-0.0410111 , -0.25924963, -0.23591626, ..., -0.09976582,\n",
              "         -0.30542198, -0.14092766],\n",
              "        ...,\n",
              "        [ 0.20138016, -0.15215987,  0.16013423, ..., -0.00547415,\n",
              "         -0.28466386,  0.29140922],\n",
              "        [ 0.294426  ,  0.23643026,  0.2774031 , ..., -0.15667985,\n",
              "          0.23665193,  0.15762731],\n",
              "        [-0.01463398,  0.03387105,  0.16226906, ..., -0.08788288,\n",
              "         -0.271369  ,  0.16430542]], dtype=float32)>,\n",
              " <tf.Variable 'dense_11/bias:0' shape=(32,) dtype=float32, numpy=\n",
              " array([0., 0., 0., 0., 0., 0., 0., 0., 0., 0., 0., 0., 0., 0., 0., 0., 0.,\n",
              "        0., 0., 0., 0., 0., 0., 0., 0., 0., 0., 0., 0., 0., 0., 0.],\n",
              "       dtype=float32)>,\n",
              " <tf.Variable 'batch_normalization_1/gamma:0' shape=(32,) dtype=float32, numpy=\n",
              " array([1., 1., 1., 1., 1., 1., 1., 1., 1., 1., 1., 1., 1., 1., 1., 1., 1.,\n",
              "        1., 1., 1., 1., 1., 1., 1., 1., 1., 1., 1., 1., 1., 1., 1.],\n",
              "       dtype=float32)>,\n",
              " <tf.Variable 'batch_normalization_1/beta:0' shape=(32,) dtype=float32, numpy=\n",
              " array([0., 0., 0., 0., 0., 0., 0., 0., 0., 0., 0., 0., 0., 0., 0., 0., 0.,\n",
              "        0., 0., 0., 0., 0., 0., 0., 0., 0., 0., 0., 0., 0., 0., 0.],\n",
              "       dtype=float32)>,\n",
              " <tf.Variable 'batch_normalization_1/moving_mean:0' shape=(32,) dtype=float32, numpy=\n",
              " array([0., 0., 0., 0., 0., 0., 0., 0., 0., 0., 0., 0., 0., 0., 0., 0., 0.,\n",
              "        0., 0., 0., 0., 0., 0., 0., 0., 0., 0., 0., 0., 0., 0., 0.],\n",
              "       dtype=float32)>,\n",
              " <tf.Variable 'batch_normalization_1/moving_variance:0' shape=(32,) dtype=float32, numpy=\n",
              " array([1., 1., 1., 1., 1., 1., 1., 1., 1., 1., 1., 1., 1., 1., 1., 1., 1.,\n",
              "        1., 1., 1., 1., 1., 1., 1., 1., 1., 1., 1., 1., 1., 1., 1.],\n",
              "       dtype=float32)>,\n",
              " <tf.Variable 'dense_12/kernel:0' shape=(32, 64) dtype=float32, numpy=\n",
              " array([[-0.12969261, -0.19219369,  0.1280865 , ...,  0.02518642,\n",
              "         -0.01798469,  0.14603645],\n",
              "        [ 0.13736224,  0.07049268, -0.12413079, ..., -0.19186687,\n",
              "         -0.21757722, -0.24370539],\n",
              "        [-0.0303213 ,  0.03692484, -0.02537566, ...,  0.00768101,\n",
              "         -0.10933524,  0.14886677],\n",
              "        ...,\n",
              "        [-0.08324927, -0.19378221, -0.24081439, ..., -0.00854182,\n",
              "         -0.02433276, -0.00561237],\n",
              "        [-0.2397793 , -0.15457219, -0.05155516, ...,  0.05421472,\n",
              "         -0.1274057 ,  0.17557544],\n",
              "        [ 0.20993847, -0.14420176, -0.15941334, ...,  0.10278326,\n",
              "         -0.20276809, -0.24534601]], dtype=float32)>,\n",
              " <tf.Variable 'dense_12/bias:0' shape=(64,) dtype=float32, numpy=\n",
              " array([0., 0., 0., 0., 0., 0., 0., 0., 0., 0., 0., 0., 0., 0., 0., 0., 0.,\n",
              "        0., 0., 0., 0., 0., 0., 0., 0., 0., 0., 0., 0., 0., 0., 0., 0., 0.,\n",
              "        0., 0., 0., 0., 0., 0., 0., 0., 0., 0., 0., 0., 0., 0., 0., 0., 0.,\n",
              "        0., 0., 0., 0., 0., 0., 0., 0., 0., 0., 0., 0., 0.], dtype=float32)>,\n",
              " <tf.Variable 'dense_13/kernel:0' shape=(64, 32) dtype=float32, numpy=\n",
              " array([[ 0.05096626,  0.13333237, -0.08798015, ..., -0.18574268,\n",
              "          0.03109157,  0.23096985],\n",
              "        [-0.1048066 , -0.20645499,  0.23466879, ...,  0.08140427,\n",
              "          0.24713248,  0.19411516],\n",
              "        [ 0.06134152,  0.11712718, -0.24448282, ..., -0.09200138,\n",
              "          0.00613707,  0.13130563],\n",
              "        ...,\n",
              "        [-0.18849397, -0.1976108 ,  0.07753158, ...,  0.21427274,\n",
              "          0.17952287,  0.03822118],\n",
              "        [ 0.2084558 , -0.08788073, -0.12833863, ...,  0.0770461 ,\n",
              "          0.17786175, -0.19516146],\n",
              "        [ 0.19726998, -0.17054647,  0.11946595, ..., -0.12837201,\n",
              "         -0.08512992, -0.09207892]], dtype=float32)>,\n",
              " <tf.Variable 'dense_13/bias:0' shape=(32,) dtype=float32, numpy=\n",
              " array([0., 0., 0., 0., 0., 0., 0., 0., 0., 0., 0., 0., 0., 0., 0., 0., 0.,\n",
              "        0., 0., 0., 0., 0., 0., 0., 0., 0., 0., 0., 0., 0., 0., 0.],\n",
              "       dtype=float32)>,\n",
              " <tf.Variable 'batch_normalization_2/gamma:0' shape=(32,) dtype=float32, numpy=\n",
              " array([1., 1., 1., 1., 1., 1., 1., 1., 1., 1., 1., 1., 1., 1., 1., 1., 1.,\n",
              "        1., 1., 1., 1., 1., 1., 1., 1., 1., 1., 1., 1., 1., 1., 1.],\n",
              "       dtype=float32)>,\n",
              " <tf.Variable 'batch_normalization_2/beta:0' shape=(32,) dtype=float32, numpy=\n",
              " array([0., 0., 0., 0., 0., 0., 0., 0., 0., 0., 0., 0., 0., 0., 0., 0., 0.,\n",
              "        0., 0., 0., 0., 0., 0., 0., 0., 0., 0., 0., 0., 0., 0., 0.],\n",
              "       dtype=float32)>,\n",
              " <tf.Variable 'batch_normalization_2/moving_mean:0' shape=(32,) dtype=float32, numpy=\n",
              " array([0., 0., 0., 0., 0., 0., 0., 0., 0., 0., 0., 0., 0., 0., 0., 0., 0.,\n",
              "        0., 0., 0., 0., 0., 0., 0., 0., 0., 0., 0., 0., 0., 0., 0.],\n",
              "       dtype=float32)>,\n",
              " <tf.Variable 'batch_normalization_2/moving_variance:0' shape=(32,) dtype=float32, numpy=\n",
              " array([1., 1., 1., 1., 1., 1., 1., 1., 1., 1., 1., 1., 1., 1., 1., 1., 1.,\n",
              "        1., 1., 1., 1., 1., 1., 1., 1., 1., 1., 1., 1., 1., 1., 1.],\n",
              "       dtype=float32)>]"
            ]
          },
          "metadata": {
            "tags": []
          },
          "execution_count": 109
        }
      ]
    },
    {
      "cell_type": "code",
      "metadata": {
        "colab": {
          "base_uri": "https://localhost:8080/",
          "height": 360
        },
        "id": "XRBlsEk_aowi",
        "outputId": "7b843d08-dced-48fc-c7b6-8b0f98eca56f"
      },
      "source": [
        "sns.relplot(w1,w2)"
      ],
      "execution_count": null,
      "outputs": [
        {
          "output_type": "stream",
          "text": [
            "/usr/local/lib/python3.6/dist-packages/seaborn/_decorators.py:43: FutureWarning: Pass the following variables as keyword args: x, y. From version 0.12, the only valid positional argument will be `data`, and passing other arguments without an explicit keyword will result in an error or misinterpretation.\n",
            "  FutureWarning\n"
          ],
          "name": "stderr"
        },
        {
          "output_type": "error",
          "ename": "ValueError",
          "evalue": "ignored",
          "traceback": [
            "\u001b[0;31m---------------------------------------------------------------------------\u001b[0m",
            "\u001b[0;31mValueError\u001b[0m                                Traceback (most recent call last)",
            "\u001b[0;32m<ipython-input-110-31757031bca1>\u001b[0m in \u001b[0;36m<module>\u001b[0;34m()\u001b[0m\n\u001b[0;32m----> 1\u001b[0;31m \u001b[0msns\u001b[0m\u001b[0;34m.\u001b[0m\u001b[0mrelplot\u001b[0m\u001b[0;34m(\u001b[0m\u001b[0mw1\u001b[0m\u001b[0;34m,\u001b[0m\u001b[0mw2\u001b[0m\u001b[0;34m)\u001b[0m\u001b[0;34m\u001b[0m\u001b[0;34m\u001b[0m\u001b[0m\n\u001b[0m",
            "\u001b[0;32m/usr/local/lib/python3.6/dist-packages/seaborn/_decorators.py\u001b[0m in \u001b[0;36minner_f\u001b[0;34m(*args, **kwargs)\u001b[0m\n\u001b[1;32m     44\u001b[0m             )\n\u001b[1;32m     45\u001b[0m         \u001b[0mkwargs\u001b[0m\u001b[0;34m.\u001b[0m\u001b[0mupdate\u001b[0m\u001b[0;34m(\u001b[0m\u001b[0;34m{\u001b[0m\u001b[0mk\u001b[0m\u001b[0;34m:\u001b[0m \u001b[0marg\u001b[0m \u001b[0;32mfor\u001b[0m \u001b[0mk\u001b[0m\u001b[0;34m,\u001b[0m \u001b[0marg\u001b[0m \u001b[0;32min\u001b[0m \u001b[0mzip\u001b[0m\u001b[0;34m(\u001b[0m\u001b[0msig\u001b[0m\u001b[0;34m.\u001b[0m\u001b[0mparameters\u001b[0m\u001b[0;34m,\u001b[0m \u001b[0margs\u001b[0m\u001b[0;34m)\u001b[0m\u001b[0;34m}\u001b[0m\u001b[0;34m)\u001b[0m\u001b[0;34m\u001b[0m\u001b[0;34m\u001b[0m\u001b[0m\n\u001b[0;32m---> 46\u001b[0;31m         \u001b[0;32mreturn\u001b[0m \u001b[0mf\u001b[0m\u001b[0;34m(\u001b[0m\u001b[0;34m**\u001b[0m\u001b[0mkwargs\u001b[0m\u001b[0;34m)\u001b[0m\u001b[0;34m\u001b[0m\u001b[0;34m\u001b[0m\u001b[0m\n\u001b[0m\u001b[1;32m     47\u001b[0m     \u001b[0;32mreturn\u001b[0m \u001b[0minner_f\u001b[0m\u001b[0;34m\u001b[0m\u001b[0;34m\u001b[0m\u001b[0m\n\u001b[1;32m     48\u001b[0m \u001b[0;34m\u001b[0m\u001b[0m\n",
            "\u001b[0;32m/usr/local/lib/python3.6/dist-packages/seaborn/relational.py\u001b[0m in \u001b[0;36mrelplot\u001b[0;34m(x, y, hue, size, style, data, row, col, col_wrap, row_order, col_order, palette, hue_order, hue_norm, sizes, size_order, size_norm, markers, dashes, style_order, legend, kind, height, aspect, facet_kws, units, **kwargs)\u001b[0m\n\u001b[1;32m    934\u001b[0m         \u001b[0mdata\u001b[0m\u001b[0;34m=\u001b[0m\u001b[0mdata\u001b[0m\u001b[0;34m,\u001b[0m\u001b[0;34m\u001b[0m\u001b[0;34m\u001b[0m\u001b[0m\n\u001b[1;32m    935\u001b[0m         \u001b[0mvariables\u001b[0m\u001b[0;34m=\u001b[0m\u001b[0mplotter\u001b[0m\u001b[0;34m.\u001b[0m\u001b[0mget_semantics\u001b[0m\u001b[0;34m(\u001b[0m\u001b[0mlocals\u001b[0m\u001b[0;34m(\u001b[0m\u001b[0;34m)\u001b[0m\u001b[0;34m)\u001b[0m\u001b[0;34m,\u001b[0m\u001b[0;34m\u001b[0m\u001b[0;34m\u001b[0m\u001b[0m\n\u001b[0;32m--> 936\u001b[0;31m         \u001b[0mlegend\u001b[0m\u001b[0;34m=\u001b[0m\u001b[0mlegend\u001b[0m\u001b[0;34m,\u001b[0m\u001b[0;34m\u001b[0m\u001b[0;34m\u001b[0m\u001b[0m\n\u001b[0m\u001b[1;32m    937\u001b[0m     )\n\u001b[1;32m    938\u001b[0m     \u001b[0mp\u001b[0m\u001b[0;34m.\u001b[0m\u001b[0mmap_hue\u001b[0m\u001b[0;34m(\u001b[0m\u001b[0mpalette\u001b[0m\u001b[0;34m=\u001b[0m\u001b[0mpalette\u001b[0m\u001b[0;34m,\u001b[0m \u001b[0morder\u001b[0m\u001b[0;34m=\u001b[0m\u001b[0mhue_order\u001b[0m\u001b[0;34m,\u001b[0m \u001b[0mnorm\u001b[0m\u001b[0;34m=\u001b[0m\u001b[0mhue_norm\u001b[0m\u001b[0;34m)\u001b[0m\u001b[0;34m\u001b[0m\u001b[0;34m\u001b[0m\u001b[0m\n",
            "\u001b[0;32m/usr/local/lib/python3.6/dist-packages/seaborn/relational.py\u001b[0m in \u001b[0;36m__init__\u001b[0;34m(self, data, variables, x_bins, y_bins, estimator, ci, n_boot, alpha, x_jitter, y_jitter, legend)\u001b[0m\n\u001b[1;32m    578\u001b[0m         )\n\u001b[1;32m    579\u001b[0m \u001b[0;34m\u001b[0m\u001b[0m\n\u001b[0;32m--> 580\u001b[0;31m         \u001b[0msuper\u001b[0m\u001b[0;34m(\u001b[0m\u001b[0;34m)\u001b[0m\u001b[0;34m.\u001b[0m\u001b[0m__init__\u001b[0m\u001b[0;34m(\u001b[0m\u001b[0mdata\u001b[0m\u001b[0;34m=\u001b[0m\u001b[0mdata\u001b[0m\u001b[0;34m,\u001b[0m \u001b[0mvariables\u001b[0m\u001b[0;34m=\u001b[0m\u001b[0mvariables\u001b[0m\u001b[0;34m)\u001b[0m\u001b[0;34m\u001b[0m\u001b[0;34m\u001b[0m\u001b[0m\n\u001b[0m\u001b[1;32m    581\u001b[0m \u001b[0;34m\u001b[0m\u001b[0m\n\u001b[1;32m    582\u001b[0m         \u001b[0mself\u001b[0m\u001b[0;34m.\u001b[0m\u001b[0malpha\u001b[0m \u001b[0;34m=\u001b[0m \u001b[0malpha\u001b[0m\u001b[0;34m\u001b[0m\u001b[0;34m\u001b[0m\u001b[0m\n",
            "\u001b[0;32m/usr/local/lib/python3.6/dist-packages/seaborn/_core.py\u001b[0m in \u001b[0;36m__init__\u001b[0;34m(self, data, variables)\u001b[0m\n\u001b[1;32m    602\u001b[0m     \u001b[0;32mdef\u001b[0m \u001b[0m__init__\u001b[0m\u001b[0;34m(\u001b[0m\u001b[0mself\u001b[0m\u001b[0;34m,\u001b[0m \u001b[0mdata\u001b[0m\u001b[0;34m=\u001b[0m\u001b[0;32mNone\u001b[0m\u001b[0;34m,\u001b[0m \u001b[0mvariables\u001b[0m\u001b[0;34m=\u001b[0m\u001b[0;34m{\u001b[0m\u001b[0;34m}\u001b[0m\u001b[0;34m)\u001b[0m\u001b[0;34m:\u001b[0m\u001b[0;34m\u001b[0m\u001b[0;34m\u001b[0m\u001b[0m\n\u001b[1;32m    603\u001b[0m \u001b[0;34m\u001b[0m\u001b[0m\n\u001b[0;32m--> 604\u001b[0;31m         \u001b[0mself\u001b[0m\u001b[0;34m.\u001b[0m\u001b[0massign_variables\u001b[0m\u001b[0;34m(\u001b[0m\u001b[0mdata\u001b[0m\u001b[0;34m,\u001b[0m \u001b[0mvariables\u001b[0m\u001b[0;34m)\u001b[0m\u001b[0;34m\u001b[0m\u001b[0;34m\u001b[0m\u001b[0m\n\u001b[0m\u001b[1;32m    605\u001b[0m \u001b[0;34m\u001b[0m\u001b[0m\n\u001b[1;32m    606\u001b[0m         \u001b[0;32mfor\u001b[0m \u001b[0mvar\u001b[0m\u001b[0;34m,\u001b[0m \u001b[0mcls\u001b[0m \u001b[0;32min\u001b[0m \u001b[0mself\u001b[0m\u001b[0;34m.\u001b[0m\u001b[0m_semantic_mappings\u001b[0m\u001b[0;34m.\u001b[0m\u001b[0mitems\u001b[0m\u001b[0;34m(\u001b[0m\u001b[0;34m)\u001b[0m\u001b[0;34m:\u001b[0m\u001b[0;34m\u001b[0m\u001b[0;34m\u001b[0m\u001b[0m\n",
            "\u001b[0;32m/usr/local/lib/python3.6/dist-packages/seaborn/_core.py\u001b[0m in \u001b[0;36massign_variables\u001b[0;34m(self, data, variables)\u001b[0m\n\u001b[1;32m    666\u001b[0m             \u001b[0mself\u001b[0m\u001b[0;34m.\u001b[0m\u001b[0minput_format\u001b[0m \u001b[0;34m=\u001b[0m \u001b[0;34m\"long\"\u001b[0m\u001b[0;34m\u001b[0m\u001b[0;34m\u001b[0m\u001b[0m\n\u001b[1;32m    667\u001b[0m             plot_data, variables = self._assign_variables_longform(\n\u001b[0;32m--> 668\u001b[0;31m                 \u001b[0mdata\u001b[0m\u001b[0;34m,\u001b[0m \u001b[0;34m**\u001b[0m\u001b[0mvariables\u001b[0m\u001b[0;34m,\u001b[0m\u001b[0;34m\u001b[0m\u001b[0;34m\u001b[0m\u001b[0m\n\u001b[0m\u001b[1;32m    669\u001b[0m             )\n\u001b[1;32m    670\u001b[0m \u001b[0;34m\u001b[0m\u001b[0m\n",
            "\u001b[0;32m/usr/local/lib/python3.6/dist-packages/seaborn/_core.py\u001b[0m in \u001b[0;36m_assign_variables_longform\u001b[0;34m(self, data, **kwargs)\u001b[0m\n\u001b[1;32m    909\u001b[0m         \u001b[0;31m# Construct a tidy plot DataFrame. This will convert a number of\u001b[0m\u001b[0;34m\u001b[0m\u001b[0;34m\u001b[0m\u001b[0;34m\u001b[0m\u001b[0m\n\u001b[1;32m    910\u001b[0m         \u001b[0;31m# types automatically, aligning on index in case of pandas objects\u001b[0m\u001b[0;34m\u001b[0m\u001b[0;34m\u001b[0m\u001b[0;34m\u001b[0m\u001b[0m\n\u001b[0;32m--> 911\u001b[0;31m         \u001b[0mplot_data\u001b[0m \u001b[0;34m=\u001b[0m \u001b[0mpd\u001b[0m\u001b[0;34m.\u001b[0m\u001b[0mDataFrame\u001b[0m\u001b[0;34m(\u001b[0m\u001b[0mplot_data\u001b[0m\u001b[0;34m)\u001b[0m\u001b[0;34m\u001b[0m\u001b[0;34m\u001b[0m\u001b[0m\n\u001b[0m\u001b[1;32m    912\u001b[0m \u001b[0;34m\u001b[0m\u001b[0m\n\u001b[1;32m    913\u001b[0m         \u001b[0;31m# Reduce the variables dictionary to fields with valid data\u001b[0m\u001b[0;34m\u001b[0m\u001b[0;34m\u001b[0m\u001b[0;34m\u001b[0m\u001b[0m\n",
            "\u001b[0;32m/usr/local/lib/python3.6/dist-packages/pandas/core/frame.py\u001b[0m in \u001b[0;36m__init__\u001b[0;34m(self, data, index, columns, dtype, copy)\u001b[0m\n\u001b[1;32m    466\u001b[0m \u001b[0;34m\u001b[0m\u001b[0m\n\u001b[1;32m    467\u001b[0m         \u001b[0;32melif\u001b[0m \u001b[0misinstance\u001b[0m\u001b[0;34m(\u001b[0m\u001b[0mdata\u001b[0m\u001b[0;34m,\u001b[0m \u001b[0mdict\u001b[0m\u001b[0;34m)\u001b[0m\u001b[0;34m:\u001b[0m\u001b[0;34m\u001b[0m\u001b[0;34m\u001b[0m\u001b[0m\n\u001b[0;32m--> 468\u001b[0;31m             \u001b[0mmgr\u001b[0m \u001b[0;34m=\u001b[0m \u001b[0minit_dict\u001b[0m\u001b[0;34m(\u001b[0m\u001b[0mdata\u001b[0m\u001b[0;34m,\u001b[0m \u001b[0mindex\u001b[0m\u001b[0;34m,\u001b[0m \u001b[0mcolumns\u001b[0m\u001b[0;34m,\u001b[0m \u001b[0mdtype\u001b[0m\u001b[0;34m=\u001b[0m\u001b[0mdtype\u001b[0m\u001b[0;34m)\u001b[0m\u001b[0;34m\u001b[0m\u001b[0;34m\u001b[0m\u001b[0m\n\u001b[0m\u001b[1;32m    469\u001b[0m         \u001b[0;32melif\u001b[0m \u001b[0misinstance\u001b[0m\u001b[0;34m(\u001b[0m\u001b[0mdata\u001b[0m\u001b[0;34m,\u001b[0m \u001b[0mma\u001b[0m\u001b[0;34m.\u001b[0m\u001b[0mMaskedArray\u001b[0m\u001b[0;34m)\u001b[0m\u001b[0;34m:\u001b[0m\u001b[0;34m\u001b[0m\u001b[0;34m\u001b[0m\u001b[0m\n\u001b[1;32m    470\u001b[0m             \u001b[0;32mimport\u001b[0m \u001b[0mnumpy\u001b[0m\u001b[0;34m.\u001b[0m\u001b[0mma\u001b[0m\u001b[0;34m.\u001b[0m\u001b[0mmrecords\u001b[0m \u001b[0;32mas\u001b[0m \u001b[0mmrecords\u001b[0m\u001b[0;34m\u001b[0m\u001b[0;34m\u001b[0m\u001b[0m\n",
            "\u001b[0;32m/usr/local/lib/python3.6/dist-packages/pandas/core/internals/construction.py\u001b[0m in \u001b[0;36minit_dict\u001b[0;34m(data, index, columns, dtype)\u001b[0m\n\u001b[1;32m    281\u001b[0m             \u001b[0marr\u001b[0m \u001b[0;32mif\u001b[0m \u001b[0;32mnot\u001b[0m \u001b[0mis_datetime64tz_dtype\u001b[0m\u001b[0;34m(\u001b[0m\u001b[0marr\u001b[0m\u001b[0;34m)\u001b[0m \u001b[0;32melse\u001b[0m \u001b[0marr\u001b[0m\u001b[0;34m.\u001b[0m\u001b[0mcopy\u001b[0m\u001b[0;34m(\u001b[0m\u001b[0;34m)\u001b[0m \u001b[0;32mfor\u001b[0m \u001b[0marr\u001b[0m \u001b[0;32min\u001b[0m \u001b[0marrays\u001b[0m\u001b[0;34m\u001b[0m\u001b[0;34m\u001b[0m\u001b[0m\n\u001b[1;32m    282\u001b[0m         ]\n\u001b[0;32m--> 283\u001b[0;31m     \u001b[0;32mreturn\u001b[0m \u001b[0marrays_to_mgr\u001b[0m\u001b[0;34m(\u001b[0m\u001b[0marrays\u001b[0m\u001b[0;34m,\u001b[0m \u001b[0mdata_names\u001b[0m\u001b[0;34m,\u001b[0m \u001b[0mindex\u001b[0m\u001b[0;34m,\u001b[0m \u001b[0mcolumns\u001b[0m\u001b[0;34m,\u001b[0m \u001b[0mdtype\u001b[0m\u001b[0;34m=\u001b[0m\u001b[0mdtype\u001b[0m\u001b[0;34m)\u001b[0m\u001b[0;34m\u001b[0m\u001b[0;34m\u001b[0m\u001b[0m\n\u001b[0m\u001b[1;32m    284\u001b[0m \u001b[0;34m\u001b[0m\u001b[0m\n\u001b[1;32m    285\u001b[0m \u001b[0;34m\u001b[0m\u001b[0m\n",
            "\u001b[0;32m/usr/local/lib/python3.6/dist-packages/pandas/core/internals/construction.py\u001b[0m in \u001b[0;36marrays_to_mgr\u001b[0;34m(arrays, arr_names, index, columns, dtype, verify_integrity)\u001b[0m\n\u001b[1;32m     76\u001b[0m         \u001b[0;31m# figure out the index, if necessary\u001b[0m\u001b[0;34m\u001b[0m\u001b[0;34m\u001b[0m\u001b[0;34m\u001b[0m\u001b[0m\n\u001b[1;32m     77\u001b[0m         \u001b[0;32mif\u001b[0m \u001b[0mindex\u001b[0m \u001b[0;32mis\u001b[0m \u001b[0;32mNone\u001b[0m\u001b[0;34m:\u001b[0m\u001b[0;34m\u001b[0m\u001b[0;34m\u001b[0m\u001b[0m\n\u001b[0;32m---> 78\u001b[0;31m             \u001b[0mindex\u001b[0m \u001b[0;34m=\u001b[0m \u001b[0mextract_index\u001b[0m\u001b[0;34m(\u001b[0m\u001b[0marrays\u001b[0m\u001b[0;34m)\u001b[0m\u001b[0;34m\u001b[0m\u001b[0;34m\u001b[0m\u001b[0m\n\u001b[0m\u001b[1;32m     79\u001b[0m         \u001b[0;32melse\u001b[0m\u001b[0;34m:\u001b[0m\u001b[0;34m\u001b[0m\u001b[0;34m\u001b[0m\u001b[0m\n\u001b[1;32m     80\u001b[0m             \u001b[0mindex\u001b[0m \u001b[0;34m=\u001b[0m \u001b[0mensure_index\u001b[0m\u001b[0;34m(\u001b[0m\u001b[0mindex\u001b[0m\u001b[0;34m)\u001b[0m\u001b[0;34m\u001b[0m\u001b[0;34m\u001b[0m\u001b[0m\n",
            "\u001b[0;32m/usr/local/lib/python3.6/dist-packages/pandas/core/internals/construction.py\u001b[0m in \u001b[0;36mextract_index\u001b[0;34m(data)\u001b[0m\n\u001b[1;32m    395\u001b[0m             \u001b[0mlengths\u001b[0m \u001b[0;34m=\u001b[0m \u001b[0mlist\u001b[0m\u001b[0;34m(\u001b[0m\u001b[0mset\u001b[0m\u001b[0;34m(\u001b[0m\u001b[0mraw_lengths\u001b[0m\u001b[0;34m)\u001b[0m\u001b[0;34m)\u001b[0m\u001b[0;34m\u001b[0m\u001b[0;34m\u001b[0m\u001b[0m\n\u001b[1;32m    396\u001b[0m             \u001b[0;32mif\u001b[0m \u001b[0mlen\u001b[0m\u001b[0;34m(\u001b[0m\u001b[0mlengths\u001b[0m\u001b[0;34m)\u001b[0m \u001b[0;34m>\u001b[0m \u001b[0;36m1\u001b[0m\u001b[0;34m:\u001b[0m\u001b[0;34m\u001b[0m\u001b[0;34m\u001b[0m\u001b[0m\n\u001b[0;32m--> 397\u001b[0;31m                 \u001b[0;32mraise\u001b[0m \u001b[0mValueError\u001b[0m\u001b[0;34m(\u001b[0m\u001b[0;34m\"arrays must all be same length\"\u001b[0m\u001b[0;34m)\u001b[0m\u001b[0;34m\u001b[0m\u001b[0;34m\u001b[0m\u001b[0m\n\u001b[0m\u001b[1;32m    398\u001b[0m \u001b[0;34m\u001b[0m\u001b[0m\n\u001b[1;32m    399\u001b[0m             \u001b[0;32mif\u001b[0m \u001b[0mhave_dicts\u001b[0m\u001b[0;34m:\u001b[0m\u001b[0;34m\u001b[0m\u001b[0;34m\u001b[0m\u001b[0m\n",
            "\u001b[0;31mValueError\u001b[0m: arrays must all be same length"
          ]
        }
      ]
    },
    {
      "cell_type": "code",
      "metadata": {
        "id": "8aAFfnK7cbIw"
      },
      "source": [
        ""
      ],
      "execution_count": null,
      "outputs": []
    }
  ]
}